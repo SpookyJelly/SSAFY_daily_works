{
 "cells": [
  {
   "cell_type": "code",
   "execution_count": 1,
   "metadata": {},
   "outputs": [
    {
     "name": "stdout",
     "output_type": "stream",
     "text": [
      "==================================================\n"
     ]
    }
   ],
   "source": [
    "'''\n",
    "str.lstrip(\" \") --> \" \"안에 있는 문자들을 왼쪽에서부터 제거, (\" \"외 다른 문자가 나올때 까지)\n",
    "str.rstrip(\" \") --> \" \"안에 있는 문자들을 오른쪽에서부터 제거. (\" \"외 다른 문자가 나올때 까지)\n",
    "str.strip(\" \" ) --> \" \"안에 있는 문자들을 양쪽으로 제거. (\" \"외 다른 문자가 나올 때 까지)\n",
    "\n",
    "str.split(\" \")  --> 전달된 인자로 문자열을 잘라 이를 항목으로 갖는 리스트 생성\n",
    "\n",
    "str.replace(a , b) --> str의 a를 b로 치환\n",
    "\n",
    "str.isdigit() --> 숫자문자열일 경우 True를 반환하는 함수\n",
    "\n",
    "\n",
    "'''\n",
    "print( '=' * 50)"
   ]
  },
  {
   "cell_type": "code",
   "execution_count": 14,
   "metadata": {},
   "outputs": [
    {
     "name": "stdout",
     "output_type": "stream",
     "text": [
      "maddam\n",
      "maddam\n",
      "입력하신 단어는 회문(Palindrome)입니다.\n"
     ]
    }
   ],
   "source": [
    "#6232번 문자열 연습문제 1\n",
    "'''\n",
    "다음의 결과와 같이 회문(앞뒤 어느 쪽에서도 같은 단어, 말) 여부를 판단하는 코드를 작성하십시오.\n",
    "\n",
    "입력\n",
    "madam\n",
    "\n",
    "\n",
    "출력\n",
    "\n",
    "madam\n",
    "\n",
    "입력하신 단어는 회문(Palindrome)입니다.\n",
    "\n",
    "\n",
    "'''\n",
    "word = input()\n",
    "word_list= list(word)\n",
    "word_re = list(reversed(word))\n",
    "if word_list == word_re:\n",
    "    print(word)\n",
    "    print('입력하신 단어는 회문(Palindrome)입니다.')\n",
    "else:\n",
    "    pass"
   ]
  },
  {
   "cell_type": "code",
   "execution_count": 19,
   "metadata": {},
   "outputs": [
    {
     "name": "stdout",
     "output_type": "stream",
     "text": [
      "A better tomorrow\n",
      "tomorrow better A\n"
     ]
    }
   ],
   "source": [
    "#6239번 문자열 연습문제 2\n",
    "\n",
    "'''\n",
    "다음과 같이 문장을 구성하는 단어를 역순으로 출력하는 프로그램을 작성하십시오.\n",
    "\n",
    "입력\n",
    "\n",
    "A better tomorrow\n",
    "\n",
    "\n",
    "출력\n",
    "tomorrow better A\n",
    "\n",
    "'''\n",
    "\n",
    "words = input()\n",
    "word_list = list(words.split(' '))\n",
    "word_list_R = list(reversed(word_list))\n",
    "print(' '.join(word_list_R))"
   ]
  },
  {
   "cell_type": "code",
   "execution_count": 35,
   "metadata": {},
   "outputs": [
    {
     "name": "stdout",
     "output_type": "stream",
     "text": [
      "http://www.example.com/test?p=1&q=2\n",
      "protocol:http\n",
      "host:www.example.com\n",
      "others:test?p=1&q=2\n"
     ]
    }
   ],
   "source": [
    "#6241번 문자열 연습문제 3\n",
    "'''\n",
    "다음의 결과와 같이 임의의 URL 주소를 입력받아 protocol, host, 나머지(path, querystring, ...)로\n",
    " \n",
    "구분하는 프로그램을 작성하십시오.\n",
    "\n",
    "입력\n",
    "\n",
    "http://www.example.com/test?p=1&q=2\n",
    "\n",
    "\n",
    "\n",
    "출력\n",
    "\n",
    "protocol: http\n",
    "\n",
    "host: www.example.com\n",
    "\n",
    "others: test?p=1&q=2\n",
    "\n",
    "'''\n",
    "\n",
    "URL = input()\n",
    "URL_list = URL.split('/')\n",
    "protocol = URL_list[0][:-1]\n",
    "host = URL_list[2]\n",
    "others = URL_list[3]\n",
    "\n",
    "print(f'protocol: {protocol}')\n",
    "print(f'host: {host}')\n",
    "print(f'others: {others}')"
   ]
  },
  {
   "cell_type": "code",
   "execution_count": 56,
   "metadata": {},
   "outputs": [
    {
     "name": "stdout",
     "output_type": "stream",
     "text": [
      "aqweqwq\n",
      ">> AQWEQWQ\n",
      "asdasd\n",
      ">> ASDASD\n",
      "\n"
     ]
    }
   ],
   "source": [
    "#6678번 문자열 연습문제 4\n",
    "'''\n",
    "다음의 결과와 같이 여러 문장을 입력받아 대문자로 변환해 출력하는 프로그램을 작성합니다.\n",
    " \n",
    "\n",
    "아무 것도 입력하지 않고 엔터만 입력하면 입력이 종료됩니다.\n",
    "\n",
    "입력\n",
    "Hello World\n",
    "\n",
    "hello world\n",
    "\n",
    "Python\n",
    "\n",
    "\n",
    "출력\n",
    ">> HELLO WORLD\n",
    "\n",
    ">> HELLO WORLD\n",
    "\n",
    ">> PYTHON\n",
    "\n",
    "'''\n",
    "def Biggerstr(x):\n",
    "    Big_x = x.upper()\n",
    "    return Big_x\n",
    "\n",
    "while(True):\n",
    "    x= input()\n",
    "    if len(x) == 0:\n",
    "        break\n",
    "    else:\n",
    "        print('>> {0}'.format(Biggerstr(x)))\n",
    "# 파이참에서는 구동 잘되는데, 홈피에서는 런타임 에러 뜬다."
   ]
  },
  {
   "cell_type": "code",
   "execution_count": 57,
   "metadata": {},
   "outputs": [
    {
     "name": "stdout",
     "output_type": "stream",
     "text": [
      "asdas\n",
      ">> ASDAS\n",
      "qe112\n",
      ">> QE112\n",
      "\n"
     ]
    }
   ],
   "source": [
    "#6679번 비 함수 버젼\n",
    "while(True):\n",
    "    x= input()\n",
    "    x = x.upper()\n",
    "    if len(x) == 0:\n",
    "        break\n",
    "    else:\n",
    "        print('>> {0}'.format(x))\n",
    "# 이래도 런타임 에러가 나는데... 문제가 뭘까용"
   ]
  },
  {
   "cell_type": "code",
   "execution_count": 65,
   "metadata": {},
   "outputs": [
    {
     "name": "stdout",
     "output_type": "stream",
     "text": [
      "ads\n",
      ">> ADS\n",
      "\n",
      ">> \n"
     ]
    }
   ],
   "source": [
    "#6679번 비 함수 버젼(2)\n",
    "while True:\n",
    "    try:\n",
    "        n = input()\n",
    "    except:\n",
    "        break;\n",
    "    print('>>',n.upper())\n",
    "    if n == '':\n",
    "        break;"
   ]
  },
  {
   "cell_type": "code",
   "execution_count": 69,
   "metadata": {},
   "outputs": [
    {
     "name": "stdout",
     "output_type": "stream",
     "text": [
      "asdasd\n",
      ">> ASDASD\n",
      "qew\n",
      ">> QEW\n",
      "\n"
     ]
    }
   ],
   "source": [
    "#6678번 비함수버젼 (3)\n",
    "\n",
    "while(True):\n",
    "    try: \n",
    "        x= input()\n",
    "    except:\n",
    "        break\n",
    "    if len(x) == 0:\n",
    "        break\n",
    "    else:\n",
    "        print('>>',x.upper())\n",
    "        \n",
    "# 문제의 조건이 이상하다. 마지막 입력이 공백이 아니라 다른것으로 들어오는게 아닐까 생각."
   ]
  },
  {
   "cell_type": "code",
   "execution_count": null,
   "metadata": {},
   "outputs": [],
   "source": []
  },
  {
   "cell_type": "code",
   "execution_count": null,
   "metadata": {},
   "outputs": [],
   "source": []
  }
 ],
 "metadata": {
  "kernelspec": {
   "display_name": "Python 3",
   "language": "python",
   "name": "python3"
  },
  "language_info": {
   "codemirror_mode": {
    "name": "ipython",
    "version": 3
   },
   "file_extension": ".py",
   "mimetype": "text/x-python",
   "name": "python",
   "nbconvert_exporter": "python",
   "pygments_lexer": "ipython3",
   "version": "3.8.3"
  }
 },
 "nbformat": 4,
 "nbformat_minor": 4
}
