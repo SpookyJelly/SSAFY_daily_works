{
 "cells": [
  {
   "cell_type": "code",
   "execution_count": 6,
   "metadata": {},
   "outputs": [
    {
     "name": "stdout",
     "output_type": "stream",
     "text": [
      "ㅇㅇㅇ\n",
      "26\n",
      "ㅇㅇㅇ(은)는 2093년에 100세가 될 것입니다.\n"
     ]
    }
   ],
   "source": [
    "#6308번 내장함수 연습 1번\n",
    "\n",
    "'''\n",
    "다음의 결과와 같이 이름과 나이를 입력 받아\n",
    "\n",
    "올해를 기준으로 100세가 되는 해를 표시하는 코드를 작성하십시오.\n",
    " \n",
    "\n",
    "입력\n",
    "\n",
    "홍길동\n",
    "20\n",
    "\n",
    "출력\n",
    "\n",
    "홍길동(은)는 2099년에 100세가 될 것입니다.\n",
    "\n",
    "'''\n",
    "\n",
    "name = input()\n",
    "age = input()\n",
    "\n",
    "print('{0}(은)는 {1}년에 100세가 될 것입니다.'.format(name,100-int(age)+2019))"
   ]
  },
  {
   "cell_type": "code",
   "execution_count": 56,
   "metadata": {},
   "outputs": [
    {
     "name": "stdout",
     "output_type": "stream",
     "text": [
      "184\n"
     ]
    }
   ],
   "source": [
    "#6311번 내장함수 연습 2번\n",
    "\n",
    "'''\"ADCBBBBCABBCBDACBDCAACDDDCAABABDBCBCBDBDBDDABBAAAAAAADADBDBCBDABADCADC\"와\n",
    "\n",
    "같은 문자열이 주어지고, A는 4점, B는 3점, C는 2점, D는 1점이라고 할 때 문자열에 사용된\n",
    "\n",
    "알파벳 점수의 총합을 map 함수와 람다식을 이용해 구하십시오.\n",
    "\n",
    "입력\n",
    "\n",
    "입력 없음\n",
    "\n",
    "\n",
    "출력\n",
    "184\n",
    "'''\n",
    "\n",
    "str_list = list(\"ADCBBBBCABBCBDACBDCAACDDDCAABABDBCBCBDBDBDDABBAAAAAAADADBDBCBDABADCADC\")\n",
    "\n",
    "a = str_list.count('A')\n",
    "b = str_list.count('B')\n",
    "c = str_list.count('C')\n",
    "d = str_list.count('D')\n",
    "chr_list = [a,b,c,d] # 리스트에 있는 A,B,C,D 갯수를 다 센 후 그것을 리스트로\n",
    "score_list = [4,3,2,1] # 각 알파벳 별로 가산점의 리스트\n",
    "# 포인트는 map(function(lambda),list)에 쓸수 있는 리스트와 함수를 만드는 것이다.\n",
    "map_list = list(map(lambda a,b: a*b, chr_list,score_list)) #map(함수, **리스트**) 꼴... \n",
    "#여기서는 함수 위치에 람다가 왔고, 리스트 위치에 람다가 필요로하는 2개의 매개변수. \n",
    "#2개의 리스트를 셋팅했다. 그러면 두개의 리스트는 각각 a와 b가 되어서\n",
    "#lambda에 따라, a*b를 수행한다.(리스트 곱셈), map함수는 이 두 리스트를 lambda에 따를 수 있도록 하는 함수..\n",
    "# 아 뭔가 알거 같은데...\n",
    "#map lambda 이거 익숙해지면 엄청 유용할거 같은데...숙달하자\n",
    "print(sum(map_list))\n",
    "'''lambda '입력' :출력 형태로 만드는 간단한 함수라고 생각하자'''\n",
    "\n"
   ]
  },
  {
   "cell_type": "code",
   "execution_count": 19,
   "metadata": {},
   "outputs": [
    {
     "name": "stdout",
     "output_type": "stream",
     "text": [
      "[4, 16, 36, 64, 100]\n"
     ]
    }
   ],
   "source": [
    "#6316번 내장함수 연습문제 9\n",
    "\n",
    "'''\n",
    "1~10까지의 정수를 항목으로 갖는 리스트 객체에서 filter 함수와 람다식을 이용해\n",
    " \n",
    "짝수만을 선택한 후, map 함수와 람다식을 이용해 항목의 제곱 값을 갖는 리스트를 반환하는\n",
    " \n",
    "프로그램을 작성하십시오.\n",
    "\n",
    "입력\n",
    "\n",
    "입력없음\n",
    "\n",
    "\n",
    "\n",
    "출력\n",
    "\n",
    "[4, 16, 36, 64, 100]\n",
    "\n",
    "'''\n",
    "def even_square(x): # pow(a,b) 메소드가 리스트를 받지 못해서 리스트를 처리할수 있는 함수꼴로 만들었다.\n",
    "    for i in range(len(x)):\n",
    "        x[i]=pow(x[i],2)\n",
    "    return x\n",
    "\n",
    "a = list(range(1,11))\n",
    "a_even = list(filter(lambda x : x%2==0,a)) # filter를 써야지, lambda 조건에 맞는 값들이 출력된다. 안그럼 True, False 값만 나온다.\n",
    "a_even_square = even_square(a_even)\n",
    "print(a_even_square)"
   ]
  },
  {
   "cell_type": "code",
   "execution_count": 31,
   "metadata": {},
   "outputs": [
    {
     "name": "stdout",
     "output_type": "stream",
     "text": [
      "max(3, 5, 4, 1, 8, 10, 2) => 10\n"
     ]
    }
   ],
   "source": [
    "#6317번 내장함수 연습문제 10\n",
    "'''\n",
    "가변형 인자를 전달 받아 가장 큰 값을 반환하는 함수를 정의하고,\n",
    " \n",
    "다음과 같은 결과를 출력하는 프로그램을 작성하십시오.\n",
    "\n",
    "입력\n",
    "\n",
    "입력없음\n",
    "\n",
    "\n",
    "출력\n",
    "\n",
    "max(3, 5, 4, 1, 8, 10, 2) => 10\n",
    "'''\n",
    "#가변형 인자 : 함수가 몇개의 인자를 받을지 정해지지 않은 함수\n",
    "\n",
    "def maxi(*arugments): #print(arugments)# 이렇게 함수 입력값을 가변형으로 하면, 함수 호출하고 변수 입력할때 , 로만 구분 해주면\n",
    "    # 그냥 알아서 다른 값으로 인식하네\n",
    "    x = max(arugments)\n",
    "    return x\n",
    "test = maxi(3,5,4,1,8,10,2)\n",
    "print('max(3, 5, 4, 1, 8, 10, 2) => {0}'.format(test))\n",
    "#.format(maxi(test)) 하면 maxi가 실행된 값이 아니고 그냥 test가 출력된다.\n",
    "# 왜지? --> format 함수가 함수 포매팅을 지원하지 않기 때문에 그냥 넘기는 거 같다..\n",
    "# eval은 왜 안되지? --> eval(\"식\")만을 받기 때문, maxi는 함수라서 안되는듯?"
   ]
  },
  {
   "cell_type": "code",
   "execution_count": 51,
   "metadata": {},
   "outputs": [
    {
     "name": "stdout",
     "output_type": "stream",
     "text": [
      "a: 0\n",
      "b: 1\n",
      "c: 2\n",
      "d: 3\n",
      "e: 4\n",
      "f: 5\n"
     ]
    }
   ],
   "source": [
    "#6318번 내장함수 연습문제 11번\n",
    "\n",
    "'''\n",
    "다음의 결과와 같이 'abcdef' 문자열의 각각의 문자를 키로 하고 0~5 사이의 정수를\n",
    " \n",
    "값으로 하는 딕셔너리 객체를 생성하고, 이 딕셔너리 객체의 키와 값 정보를 출력하는\n",
    "\n",
    "프로그램을 작성하십시오.\n",
    "\n",
    "입력\n",
    "\n",
    "입력없음\n",
    "\n",
    "\n",
    "출력\n",
    "\n",
    "a: 0\n",
    "\n",
    "b: 1\n",
    "\n",
    "c: 2\n",
    "\n",
    "d: 3\n",
    "\n",
    "e: 4\n",
    "\n",
    "f: 5\n",
    "'''\n",
    "dic = {0:'a',1:'b',2:'c',3:'d',4:'e',5:'f'}\n",
    "for v in dic.items():#dic.items() 함수는 딕셔너리의 키/밸류를 튜플형태로 리턴한다.\n",
    "    # v = dic_iems([(0,a),(1,b),(2,c),(3,d),(4,e),(5,f)]) 이다\n",
    "        print('{0}: {1}'.format(v[1],v[0]))#v가 (0,a)인 튜플이므로, 그 요소값을 추려서 출력\n",
    "    # 루프 돌때마다 v 값 바뀜"
   ]
  },
  {
   "cell_type": "code",
   "execution_count": 96,
   "metadata": {},
   "outputs": [
    {
     "name": "stdout",
     "output_type": "stream",
     "text": [
      "24\n",
      "444444\n"
     ]
    }
   ],
   "source": [
    "#6312번 내장함수 연습문제 5번\n",
    "\n",
    "'''\n",
    "가변형 인자로 정수들을 입력받아 곱을 반환하는 함수를 정의하고,\n",
    " \n",
    "단, 1, 2, '4', 3와 같이 제대로 입력되지 않은 경우 예외를 처리하는 프로그램을 작성하십시오.\n",
    "\n",
    "입력\n",
    "\n",
    "입력없음\n",
    "\n",
    "\n",
    "출력\n",
    "\n",
    "에러발생\n",
    "\n",
    "'''\n",
    "#isinstance(a,int)로 결과값이 정수형인지 아닌지 판별한다음 출력하면 되겠네.\n",
    "\n",
    "def muti(*arugments):\n",
    "    x = 1 # for문의 첫번째 루프를 위해 for문 밖에서 설정\n",
    "    for i in range(len(arugments)): # 1\n",
    "        x = x * arugments[i]\n",
    "    if isinstance(x,int) == False :#2\n",
    "        x = '에러발생'\n",
    "        return x\n",
    "    else :\n",
    "        return x\n",
    "\n",
    "b = muti(1,2,'4',3)\n",
    "print(b)\n",
    "\n",
    "# muti 함수의 return 위치를 설정하는게 까다로웠다.\n",
    "# #1은 for문을 활용하여 리스트의 곱을 구하는 구문이다.\n",
    "# 루프가 돌때마다 자기 자신을 arugments의 요소와 곱한 것으로 갱신함.\n",
    "# #1이 끝나면 #2로 내려온다. 이때 x는 정수든, 문자열이든, 어떠한 값을 저장하고 있는 상태\n",
    "# 이때 if문을 활용하여, x의 인스턴스를 확인한다.\n",
    "# x가 int 인스턴스가 아니라면 x는 '에러발생'이라는 값을 저장하게 되고, 그걸 리턴한다.\n",
    "# x가 int 인스턴스라면 그냥 x 그대로 리턴\n",
    "# 그리고 출력."
   ]
  },
  {
   "cell_type": "code",
   "execution_count": 114,
   "metadata": {},
   "outputs": [
    {
     "name": "stdout",
     "output_type": "stream",
     "text": [
      "65\n",
      "ASCII 65 => A\n"
     ]
    }
   ],
   "source": [
    "#6313번 내장함수 연습문제 6\n",
    "'''\n",
    "ASCII 코드 값를 입력받아 문자를 확인하는 코드를 작성하십시오.\n",
    "\n",
    "입력\n",
    "65\n",
    "\n",
    "출력\n",
    "\n",
    "ASCII 65 => A\n",
    "'''\n",
    "a = input()\n",
    "print('ASCII {0} => {1}'.format(ord(chr(int(a))),chr(int(a))))\n",
    "#ord(str) --> str를 아스키 코드 값 리턴하는 함수\n",
    "#chr(int) --> 아스키 코드 int에 대응하는 문자를 리턴하는 함수\n",
    "# 맨날 둘이 헷갈린다. 좀 잘하자."
   ]
  },
  {
   "cell_type": "code",
   "execution_count": 115,
   "metadata": {},
   "outputs": [
    {
     "name": "stdout",
     "output_type": "stream",
     "text": [
      "[2, 4, 6, 8, 10]\n"
     ]
    }
   ],
   "source": [
    "#6314번 내장함수 연습문제 7번\n",
    "'''\n",
    "1~10까지의 정수를 항목으로 갖는 리스트 객체에서 filter 함수와 람다식을 이용해\n",
    " \n",
    "\n",
    "짝수만을 선택해 리스트를 반환하는 프로그램을 작성하십시오.\n",
    "\n",
    "입력\n",
    "\n",
    "입력없음\n",
    "\n",
    "\n",
    "출력\n",
    "\n",
    "[2, 4, 6, 8, 10]\n",
    "'''\n",
    "\n",
    "num_list = list(range(1,11))\n",
    "num_list_even = list(filter(lambda x : x % 2 ==0,num_list))\n",
    "print(num_list_even)\n",
    "\n",
    "# filter(조건, 조건 적용할 callable 객체들)"
   ]
  },
  {
   "cell_type": "code",
   "execution_count": 116,
   "metadata": {},
   "outputs": [
    {
     "name": "stdout",
     "output_type": "stream",
     "text": [
      "[1, 4, 9, 16, 25, 36, 49, 64, 81, 100]\n"
     ]
    }
   ],
   "source": [
    "#6315번 내장함수 연습문제 8번\n",
    "'''\n",
    "1~10까지의 정수를 항목으로 갖는 리스트 객체에서 map 함수와 람다식을 이용해\n",
    " \n",
    "\n",
    "항목의 제곱 값을 갖는 리스트를 반환하는 프로그램을 작성하십시오.\n",
    "\n",
    "입력\n",
    "\n",
    "입력없음\n",
    "\n",
    "\n",
    "출력\n",
    "\n",
    "[1, 4, 9, 16, 25, 36, 49, 64, 81, 100]\n",
    "'''\n",
    "\n",
    "num_list = list(range(1,11))\n",
    "num_list_squre = list(map(lambda x : x**2,num_list))\n",
    "print(num_list_squre)"
   ]
  },
  {
   "cell_type": "code",
   "execution_count": 110,
   "metadata": {},
   "outputs": [
    {
     "data": {
      "text/plain": [
       "65"
      ]
     },
     "execution_count": 110,
     "metadata": {},
     "output_type": "execute_result"
    }
   ],
   "source": [
    "ord('A')"
   ]
  },
  {
   "cell_type": "code",
   "execution_count": 83,
   "metadata": {},
   "outputs": [],
   "source": [
    "a= [1,2,3]"
   ]
  },
  {
   "cell_type": "code",
   "execution_count": 85,
   "metadata": {},
   "outputs": [
    {
     "data": {
      "text/plain": [
       "3"
      ]
     },
     "execution_count": 85,
     "metadata": {},
     "output_type": "execute_result"
    }
   ],
   "source": [
    "len(a)\n",
    "a[2]"
   ]
  },
  {
   "cell_type": "code",
   "execution_count": null,
   "metadata": {},
   "outputs": [],
   "source": []
  }
 ],
 "metadata": {
  "kernelspec": {
   "display_name": "Python 3",
   "language": "python",
   "name": "python3"
  },
  "language_info": {
   "codemirror_mode": {
    "name": "ipython",
    "version": 3
   },
   "file_extension": ".py",
   "mimetype": "text/x-python",
   "name": "python",
   "nbconvert_exporter": "python",
   "pygments_lexer": "ipython3",
   "version": "3.8.3"
  }
 },
 "nbformat": 4,
 "nbformat_minor": 4
}
