{
 "cells": [
  {
   "cell_type": "code",
   "execution_count": 37,
   "metadata": {},
   "outputs": [],
   "source": [
    "#6319번 함수 연습문제 1\n",
    "\n",
    "#다음의 결과와 같이 반복문을 이용해 단어의 순서를 거꾸로 해 반환하는 함수를 작성하고\n",
    "# 그 함수를 이용해 회문 여부를 판단하는 코드를 작성하십시오.\n",
    "'''입력\n",
    "eye\n",
    "\n",
    "출력\n",
    "eye\n",
    "\n",
    "입력하신 단어는 회문(Palindrome)입니다.\n",
    "\n",
    "'''\n",
    "#그냥 reverse 이용하면 될거 같은데, 반복문을 쓰라고 했으니까..그렇게 해봐야지\n",
    "\n",
    "def palindrome():\n",
    "    a= list(input())\n",
    "    b= a[::-1] # 굳이 reverse를 안써도 되는구나. 첫번쨰 :는 마지막 인덱스, 두번째 :는 처음 인덱스, 그리고 -1은 한칸씩 줄여가면서 출력\n",
    "    #리스트 슬라이싱...분명 배운건데, 막상 쓸라니까 안튀어나오네ㅐ\n",
    "    cnt = 0\n",
    "    for i in range(len(a)):\n",
    "        if a[i]==b[i]:\n",
    "            cnt+=1\n",
    "\n",
    "    if cnt == len(a):\n",
    "        print(''.join(a)) #그냥 a를 출력하면 리스트 꼴로 나오기 때문에, join(a)를 이용..은근히 이거 많이 쓰게되네\n",
    "        # *****리스트 --> str꼴로 출력하는데 사용*********\n",
    "        print('입력하신 단어는 회문(Palindrome)입니다.')\n",
    "    else:\n",
    "        print(''.join(a))\n",
    "        print('입력하신 단어는 회문(Palindrome)이 아닙니다.')\n",
    "        \n",
    "palindrome()            \n",
    "#굉장히 올드패션하지만, cnt를 이용해서 a리스트와 b리스트의 일치 문자수가 전체 문자수와 \n",
    "#동일하면 회문으로 판단했다."
   ]
  },
  {
   "cell_type": "code",
   "execution_count": 107,
   "metadata": {},
   "outputs": [
    {
     "name": "stdout",
     "output_type": "stream",
     "text": [
      "김두한\n",
      "하야시\n",
      "가위\n",
      "보\n",
      "가위가 이겼습니다!\n"
     ]
    }
   ],
   "source": [
    "#6320번 함수 연습문제 2\n",
    "\n",
    "#다음과 같이 사용자 2명으로부터 가위,바위,보를 입력 받아\n",
    "#가위,바위,보 규칙이 정의된 함수를 이용해 승패를 결정하는 코드를 작성하십시오.\n",
    "\n",
    "def RSP():\n",
    "    man_1=input()\n",
    "    man_2=input()\n",
    "    a=input()\n",
    "    b=input()\n",
    "    if a == b:\n",
    "        print('무승부입니다.')\n",
    "    else:\n",
    "        if a=='가위':\n",
    "            if b == '바위':\n",
    "                print('바위가 이겼습니다!')\n",
    "            else:\n",
    "                print('가위가 이겼습니다!')\n",
    "        elif a=='바위':\n",
    "            if b == '가위':\n",
    "                print('바위가 이겼습니다!')\n",
    "            else:\n",
    "                print('보가 이겼습니다!')\n",
    "        else:\n",
    "            if b == '가위':\n",
    "                print('가위가 이겼습니다!')\n",
    "            else:\n",
    "                print('보가 이겼습니다!')\n",
    "RSP()"
   ]
  },
  {
   "cell_type": "code",
   "execution_count": 124,
   "metadata": {},
   "outputs": [
    {
     "name": "stdout",
     "output_type": "stream",
     "text": [
      "97\n",
      "소수입니다.\n"
     ]
    }
   ],
   "source": [
    "#6321번 함수 연습문제 3\n",
    "# 소수를 검사하는 함수를 정의하고, 사용자 입력 숫자가 소수인지 판단하는 프로그램 작성\n",
    "'''\n",
    "입력\n",
    "\n",
    "13\n",
    "\n",
    "출력\n",
    "\n",
    "소수입니다.'''\n",
    "\n",
    "def prime(): # 기본 골자는 1~n까지 나눠서 딱 나눠 떨어지는 수가 2개이면 소수로 ㅇㅈ하는거\n",
    "    a = int(input())\n",
    "    cnt = 0\n",
    "    for i in range(1,round(a**0.5)+1): #근데 굳이 n까지 나눌 필요없이 제곱근까지만 검사해도 된다는 걸 알고 있음.\n",
    "        if a%i ==0:\n",
    "            cnt +=1 # 자기자신까지 검사하지 않으니 따라서 딱 나눠 떨어지는 수는 1개뿐이다.\n",
    "    if cnt == 1 and a!= 1: #그래서 나눠 떨어지는 수가 1개이면 소수. 아니면 소수 아님. 여기서 a!=1 넣어둔 이유는 알다시피, 1은 소수가 아니기 때문.\n",
    "        print('소수입니다.')\n",
    "    else :\n",
    "        print('소수가 아닙니다.')\n",
    "        \n",
    "prime()   "
   ]
  },
  {
   "cell_type": "code",
   "execution_count": 161,
   "metadata": {},
   "outputs": [
    {
     "name": "stdout",
     "output_type": "stream",
     "text": [
      "10\n"
     ]
    },
    {
     "data": {
      "text/plain": [
       "[1, 1, 2, 3, 5, 8, 13, 21, 34, 55]"
      ]
     },
     "execution_count": 161,
     "metadata": {},
     "output_type": "execute_result"
    }
   ],
   "source": [
    "# 6323번 함수 연습문제 4\n",
    "# 피보나치 수열의 결과를 생성하는 프로그램을 작성하십시오.\n",
    "'''\n",
    "입력\n",
    "\n",
    "10\n",
    "\n",
    "출력\n",
    "\n",
    "[1, 1, 2, 3, 5, 8, 13, 21, 34, 55]\n",
    "\n",
    "'''\n",
    "# 피보나치 수열 : 첫째 둘째 항이 1이며, 그 뒤의 모든 항은 바로 앞의 두항의 합인 수열이다.\n",
    "# 기본 아이디어는 변수 2개를 설정해놓고, 그 두 변수의 합을 append하고 변수의 값을 loop가 돌때마다 다음 값으로 바꾸는것\n",
    "def fibonacci(x):\n",
    "    old = 0\n",
    "    new = 0\n",
    "    u = [1,1]\n",
    "    if x == 1 :\n",
    "        return [1] #u가 사용할 리스트라고 해서 굳이 u를 return할 필요는 없음. 그냥 필요에 따라 return 값을 바꿀수도 있는거다.\n",
    "    elif x == 2: # x가 2이상일때부터 동작하므로, 그 이하의 값들이 입력되었을때는 매뉴얼로 값을 리턴하게 만듬\n",
    "        return [1,1]\n",
    "    for i in range(0,x-2): # 왜 range(0,x-2) 인가 ?? : 기본적으로 리스트 길이가 2이고, 길이 x인 리스트를 만들기 위해서는 덧셈이 x-2번 필요하기 때문이다.\n",
    "        old = u[i]          # 그래서 x-2번 돌아가는 for문을 만든것.\n",
    "        new = u[i+1]\n",
    "        u.append(old+new)\n",
    "    return u\n",
    "\n",
    "print(fibonacci(int(input())))\n",
    "\n",
    "# 뭐지? 왜 output이 생성 안됬다고 하지??\n",
    "# 이유 --> print문을 이용해서 출력을 안했기 때문이다.\n",
    "# return한 u 값을 어떻게 할지 말을 안해줘서 그렇다\n",
    "'''주피터 노트북에서는 자동으로 출력이되서 당연한건줄 알았는데,\n",
    "따로 print 명령어를 안썼기 때문에 output이 생성 된게 아니다.\n",
    "그래서 함수 정의 이후 print문을 이용해서 fibonacci 함수를 호출해서 표준출력을 만들었다.'''\n",
    "# 많이 배운 문제다. 입출력과 retrun 그리고 함수에 대해서 잘 생각해보자"
   ]
  },
  {
   "cell_type": "code",
   "execution_count": 166,
   "metadata": {},
   "outputs": [
    {
     "name": "stdout",
     "output_type": "stream",
     "text": [
      "[1, 2, 3, 4, 3, 2, 1]\n",
      "[1, 2, 3, 4]\n"
     ]
    }
   ],
   "source": [
    "#6324 함수 연습문제 5\n",
    "'''리스트의 항목중 유일한 값으로만 구성된 리스트를 반환하는 함수를 정의하고\n",
    "이 함수를 이용해 리스트의 중복항목을 제거하는 프로그램을 작성하십시오'''\n",
    "\n",
    "def only():\n",
    "    x = [1,2,3,4,3,2,1]\n",
    "    y = list(set(x)) #set으로 튜플 만들면 {}가 씌워져서 나와서 리스트로 다시 바꿔줘야한다.\n",
    "    print(x)\n",
    "    print(y)\n",
    "only()"
   ]
  },
  {
   "cell_type": "code",
   "execution_count": 194,
   "metadata": {},
   "outputs": [
    {
     "name": "stdout",
     "output_type": "stream",
     "text": [
      "5\n",
      "[2,4,6,8,10]\n",
      "5 => False\n"
     ]
    }
   ],
   "source": [
    "#6325 함수 연습문제 6\n",
    "'''정렬된 숫자를 가진 리스트에서 특정숫자를 찾는 함수를 정의하고,\n",
    "이 함수를 이용해 임의의 숫자 포함여부를 출력하는 프로그램을 작성하십시오.'''\n",
    "'''\n",
    "입력 X\n",
    "\n",
    "출력\n",
    "[2, 4, 6, 8, 10]\n",
    "\n",
    "5 => False\n",
    "\n",
    "10 => True'''\n",
    "\n",
    "def trace():\n",
    "    a = '2,4,6,8,10'\n",
    "    b= input()\n",
    "    if a.find(b) != -1:\n",
    "        print('[',''.join(a),']',sep='')#구분자(sep를 blank로 만들어서 문자열 붙임)\n",
    "        print('{0} => True'.format(b))\n",
    "    else:\n",
    "        print('[',''.join(a),']',sep='')\n",
    "        print('{0} => False'.format(b))\n",
    "        \n",
    "trace()\n",
    "\n",
    "# 신기하네.. if -1: 이여도 if 구문 맞는걸로 간주하네\n",
    "# 사용자 입력이 있다는 가정하에 만든 코드인데, 예제에서는 입력이 없다고 했음\n",
    "# 그에 따라 코드 변형 해야겠지?"
   ]
  },
  {
   "cell_type": "code",
   "execution_count": 220,
   "metadata": {},
   "outputs": [
    {
     "name": "stdout",
     "output_type": "stream",
     "text": [
      "[2, 4, 6, 8, 10]\n",
      "\n",
      "5 => False\n",
      "\n",
      "10 => True\n"
     ]
    }
   ],
   "source": [
    "# 6325 함수 연습문제 6-1)\n",
    "def trace():\n",
    "    list_a = [2,4,6,8,10]\n",
    "    a= ''.join(str(list_a)) #str도 iterable 하니까 리스트를 통째로 str화 할수 있는건가\n",
    "    b = [5,10]\n",
    "    print(list_a)\n",
    "    for i in b:\n",
    "        if a.find(str(i)) != -1: \n",
    "            print('{0} => True'.format(i))\n",
    "        else:\n",
    "            print('{0} => False'.format(i))\n",
    "        \n",
    "trace()\n",
    "# 무슨 문제푸는것보다 형식 맞추는게 더 빢세네 진짜"
   ]
  },
  {
   "cell_type": "code",
   "execution_count": 222,
   "metadata": {},
   "outputs": [
    {
     "name": "stdout",
     "output_type": "stream",
     "text": [
      "4\n",
      "24\n"
     ]
    }
   ],
   "source": [
    "# 6326번 함수 연습문제 7\n",
    "# 다음과 같이 팩토리얼을 구하는 함수를 정의해 입력된 숫자에 대한 팩토리얼 값을 구하는 프로그램 작성\n",
    "'''\n",
    "입력\n",
    "\n",
    "5\n",
    "\n",
    "출력 \n",
    "\n",
    "120'''\n",
    "\n",
    "def kkang(x):\n",
    "    a=1 # 초기값이 없으면 곱셈이 아예 안되잖아.\n",
    "    for i in range(1,x+1):# i가 1부터 시작하니까 a = 1*1 부터 시작한다. 따라서 계산식에 영향을 주지 않는다\n",
    "        a = a*i\n",
    "    return a\n",
    "print(kkang(int(input())))"
   ]
  },
  {
   "cell_type": "code",
   "execution_count": 243,
   "metadata": {},
   "outputs": [
    {
     "name": "stdout",
     "output_type": "stream",
     "text": [
      "2,3\n",
      "square(2) => 4\n",
      "square(3) => 9\n"
     ]
    }
   ],
   "source": [
    "#6327번 함수 연습문제 8\n",
    "'''\n",
    "숫자에 대해 제곱을 구하는 함수를 정의히고, 다음과 같이 숫자를 콤마(,)로 구분해 입력하면\n",
    " \n",
    "\n",
    "정의한 함수를 이용해 제곱 값을 출력하는 프로그램을 작성하십시오.\n",
    "\n",
    "입력\n",
    "2, 3\n",
    "\n",
    "출력\n",
    "\n",
    "square(2) => 4\n",
    "\n",
    "square(3) => 9'''\n",
    "# 최초에는 print문에 통짜로 함수를 입력하려고 했는데, 변수 없이 map함수를 쓰니까 값이 저장된 위치값이 나온다. --> 당연한건가\n",
    "# 좀 안되네...생각을 바꾸자. a를 리스트로 만들고, 제곱 만들어주는 함수를 각 리스트의 요소마다 적용하게 하는거지\n",
    "def square(x):\n",
    "    x = x**2\n",
    "    return x # 이 return 값이 x를 제곱한 값이므로, 이 값을 출력하도록 해야겠다.\n",
    "\n",
    "a = list(map(int,input().split(',')))\n",
    "for i in range(len(a)):# a의 길이 만큼 반복\n",
    "    print('square({0}) => {1}'.format(a[i],square(a[i])))\n",
    "    \n",
    "#뭔가 이제 함수형 프로그래밍에 익숙해져가는거 같은 느낌도 들고...미묘한 느낌이다 진짜\n",
    "# 이래서 코딩은 매일매일 해야한다고 하는건가\n",
    "#****포인트는 square(x)라는 함수에서 x라는 값이 어디서 입력 되는지.\n",
    "#****return 되는 값을 어디에 써먹을지를 명확하게 하는것이다."
   ]
  },
  {
   "cell_type": "code",
   "execution_count": 257,
   "metadata": {},
   "outputs": [
    {
     "name": "stdout",
     "output_type": "stream",
     "text": [
      "one, three\n",
      "three\n"
     ]
    }
   ],
   "source": [
    "#6328번 함수 연습문제 9\n",
    "'''인자로 전달된 두 개의 문자열 중 길이가 더 긴 문자열을 출력하는 함수를 정의하고\n",
    " \n",
    "\n",
    "결과를 출력하는 프로그램을 작성하십시오.\n",
    "\n",
    "입력\n",
    "one, three\n",
    "\n",
    "\n",
    "출력\n",
    "three\n",
    "'''\n",
    "\n",
    "#기본 아이디어는 문자열의 길이를 숫자로 return 하는 함수를 만들고, 그 return값이 더 큰 문자열을 출력하도록한다\n",
    "# 아니 그러면 그냥 len함수랑 다른게 없잖아...\n",
    "# 그럼 문제 조건대로 인자를 2개 받고, 더 긴 문자열까지 출력하는거까지 원큐에 만들지\n",
    "def howlong(x,y):\n",
    "    if len(x)>len(y):\n",
    "        print(x)\n",
    "    else:\n",
    "        print(y)\n",
    "    \n",
    "a,b = input().split(',')\n",
    "a = a.lstrip()\n",
    "b = b.lstrip() # **lstrip() --> 문자열 중 가장 왼쪽에 있는 한칸 이상의 연속된 공백을 제거\n",
    "howlong(a,b)\n",
    "\n",
    "#오잉? 오답?? 내가 볼때는 이거 입력값에서 뭔가 잘못됨\n",
    "# three 앞에 공백이 하나 있는데, 출력에는 공백이 없다,\n",
    "# 근데 이 코드로 하면 공백까지 나와서 오답 처리된듯.\n",
    "# 공백을 제거하고 함수를 돌려야겠네"
   ]
  },
  {
   "cell_type": "code",
   "execution_count": 258,
   "metadata": {},
   "outputs": [
    {
     "name": "stdout",
     "output_type": "stream",
     "text": [
      "카운트다운을 하려면 0보다 큰 입력이 필요합니다.\n",
      "10\n",
      "9\n",
      "8\n",
      "7\n",
      "6\n",
      "5\n",
      "4\n",
      "3\n",
      "2\n",
      "1\n"
     ]
    }
   ],
   "source": [
    "#6329번 함수 연습문제 10\n",
    "'''인자로 전달된 숫자를 이용해 카운트다운하는 함수 countdown을 정의하고,\n",
    " \n",
    "\n",
    "이 함수를 이용하여 countdown(0), countdown(10)을 순서대로 실행하십시오.\n",
    "\n",
    "0보다 작거나 같은 인자가 전달되었을 경우 \"카운트다운을 하려면 0보다 큰 입력이 필요합니다.\"를 출력하십시오.\n",
    "\n",
    "입력\n",
    "\n",
    "입력없음\n",
    "\n",
    "출력\n",
    "카운트다운을 하려면 0보다 큰 입력이 필요합니다.\n",
    "\n",
    "10\n",
    "\n",
    "9\n",
    "\n",
    "8\n",
    "\n",
    "7\n",
    "\n",
    "6\n",
    "\n",
    "5\n",
    "\n",
    "4\n",
    "\n",
    "3\n",
    "\n",
    "2\n",
    "\n",
    "1\n",
    "'''\n",
    "#기본 아이디어는 countdown(X)라는 함수 만든다음, 한줄 출력될때마다 x-=1써서 출력.\n",
    "\n",
    "def countdown(x):\n",
    "    if x<=0:\n",
    "        print('카운트다운을 하려면 0보다 큰 입력이 필요합니다.')\n",
    "    else:\n",
    "        for i in range(x,0,-1):\n",
    "            print(i)\n",
    "            i-=1\n",
    "countdown(0)\n",
    "countdown(10)"
   ]
  },
  {
   "cell_type": "code",
   "execution_count": null,
   "metadata": {},
   "outputs": [],
   "source": []
  }
 ],
 "metadata": {
  "kernelspec": {
   "display_name": "Python 3",
   "language": "python",
   "name": "python3"
  },
  "language_info": {
   "codemirror_mode": {
    "name": "ipython",
    "version": 3
   },
   "file_extension": ".py",
   "mimetype": "text/x-python",
   "name": "python",
   "nbconvert_exporter": "python",
   "pygments_lexer": "ipython3",
   "version": "3.8.3"
  }
 },
 "nbformat": 4,
 "nbformat_minor": 4
}
