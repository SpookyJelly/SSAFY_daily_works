{
 "cells": [
  {
   "cell_type": "code",
   "execution_count": 23,
   "metadata": {},
   "outputs": [
    {
     "name": "stdout",
     "output_type": "stream",
     "text": [
      "89, 90 , 100\n",
      "국어, 영어, 수학의 총점: 279\n"
     ]
    }
   ],
   "source": [
    "#6203번 객체 지향 연습 1번\n",
    "\n",
    "'''\n",
    "다음의 결과와 같이 국어, 영어, 수학 점수를 입력받아 합계를 구하는 객체지향 코드를 작성하십시오.\n",
    "이 때 학생 클래스의 객체는 객체 생성 시 국어, 영어, 수학 점수를 저장하며, 총점을 구하는 메서드를 제공합니다.\n",
    "\n",
    "입력\n",
    "89, 90, 100\n",
    "\n",
    "\n",
    "출력\n",
    "\n",
    "국어, 영어, 수학의 총점: 279\n",
    "\n",
    "'''\n",
    "class scores:\n",
    "    def __init__(self,korean,english,math): # 생성자 객체화 시 자동수행\n",
    "        self.korean = korean\n",
    "        self.english = english\n",
    "        self.math = math\n",
    "    def total(self):\n",
    "        total = self.korean + self.english+self.math\n",
    "        return total\n",
    "a,b,c = list(map(int,input().split(',')))\n",
    "test = scores(a, b, c)\n",
    "print('국어, 영어, 수학의 총점: {0}'.format(test.total()))\n",
    "\n",
    "# 알듯 말듯 하네 쉽지 않다..."
   ]
  },
  {
   "cell_type": "code",
   "execution_count": 41,
   "metadata": {},
   "outputs": [
    {
     "name": "stdout",
     "output_type": "stream",
     "text": [
      "대한민국\n",
      "대한민국\n"
     ]
    }
   ],
   "source": [
    "#6208번 객체 지향 연습 2번\n",
    "\n",
    "'''\n",
    "국적을 출력하는 printNationality 정적 메서드를 갖는 Korean 클래스를 정의하고\n",
    " \n",
    "\n",
    "메서드를 호출하는 코드를 작성해봅시다.\n",
    "\n",
    "입력\n",
    "\n",
    "입력값 없음\n",
    "\n",
    "출력\n",
    "\n",
    "대한민국\n",
    "대한민국\n",
    "\n",
    "'''\n",
    "\n",
    "class Korean:\n",
    "    def printNationality(self):\n",
    "        print('대한민국')\n",
    "        pass\n",
    "\n",
    "a = Korean()       \n",
    "a.printNationality()\n",
    "a.printNationality()"
   ]
  },
  {
   "cell_type": "code",
   "execution_count": 97,
   "metadata": {},
   "outputs": [],
   "source": [
    "#6217번 객체 지향 연습 3번\n",
    "\n",
    "'''\n",
    "name 프로퍼티를 가진 Student를 부모 클래스로 major 프로퍼티를 가진\n",
    "GraduateStudent 자식 클래스를 정의하고 이 클래스의 객체를\n",
    "다음과 같이 문자열로 출력하는 코드를 작성하십시오.\n",
    "\n",
    "입력\n",
    "\n",
    "입력값 없음\n",
    "\n",
    "\n",
    "출력\n",
    "\n",
    "이름: 홍길동\n",
    "\n",
    "이름: 이순신, 전공: 컴퓨터\n",
    "\n",
    "'''\n",
    "class Student :\n",
    "    def __init__(self):\n",
    "        self.name = \"홍길동\"\n",
    "    \n",
    "    @property\n",
    "    def name(self):\n",
    "        return self.name\n",
    "    \n",
    "\n",
    "class child(Student):\n",
    "    pass"
   ]
  },
  {
   "cell_type": "code",
   "execution_count": 100,
   "metadata": {},
   "outputs": [
    {
     "name": "stdout",
     "output_type": "stream",
     "text": [
      "==================================================\n"
     ]
    }
   ],
   "source": [
    "#6223번 객체 지향 연습 4번\n",
    "'''\n",
    "반지름 정보를 갖고, 원의 면적을 계산하는 메서드를 갖는 Circle 클래스를 정의하고,\n",
    " \n",
    "생성한 객체의 원의 면적을 출력하는 프로그램을 작성하십시오.\n",
    "\n",
    "입력\n",
    "\n",
    "입력 없음\n",
    "\n",
    "\n",
    "출력\n",
    "\n",
    "원의 면적: 12.56\n",
    "\n",
    "'''\n",
    "print('='*50)"
   ]
  },
  {
   "cell_type": "code",
   "execution_count": 101,
   "metadata": {},
   "outputs": [
    {
     "name": "stdout",
     "output_type": "stream",
     "text": [
      "==================================================\n"
     ]
    }
   ],
   "source": [
    "#6225번 객체 지향 연습 5번\n",
    "\n",
    "'''\n",
    "가로, 세로 정보을 갖고, 사각형의 면적을 계산하는 메서드를 갖는 Rectangle 클래스를 정의하고,\n",
    "생성한 객체의 사각형의 면적을 출력하는 프로그램을 작성하십시오.\n",
    "\n",
    "입력\n",
    "\n",
    "입력 없음\n",
    "\n",
    "출력\n",
    "\n",
    "사각형의 면적: 20\n",
    "\n",
    "'''\n",
    "print('='*50)"
   ]
  },
  {
   "cell_type": "code",
   "execution_count": 102,
   "metadata": {},
   "outputs": [
    {
     "name": "stdout",
     "output_type": "stream",
     "text": [
      "==================================================\n"
     ]
    }
   ],
   "source": [
    "#6228번 객체 지향 연습 6번\n",
    "\n",
    "'''\n",
    "Shape를 부모 클래스로 Square 자식 클래스를 정의하는 코드를 작성하십시오.\n",
    " \n",
    "Square 클래스는 length 필드를 가지며, 0을 반환하는 Shape 클래스의 area 메서드를\n",
    "length * length 값을 반환하는 메서드로 오버라이딩합니다.\n",
    "\n",
    "입력\n",
    "\n",
    "입력 없음\n",
    "\n",
    "\n",
    "출력\n",
    "\n",
    "정사각형의 면적: 9\n",
    "\n",
    "'''\n",
    "print('='*50)"
   ]
  },
  {
   "cell_type": "code",
   "execution_count": 103,
   "metadata": {},
   "outputs": [
    {
     "name": "stdout",
     "output_type": "stream",
     "text": [
      "==================================================\n"
     ]
    }
   ],
   "source": [
    "#6229번 객체 지향 연습 7번\n",
    "'''\n",
    "Person를 부모 클래스로 Male, Female 자식 클래스를 정의하는 코드를 작성하십시오.\n",
    "\"Unknown\"을 반환하는 Person 클래스의 getGender 메서드를 Male 클래스와 Female 클래스는\n",
    "\"Male\", \"Female\" 값을 반환하는 메서드로 오버라이딩합니다.\n",
    "\n",
    "입력\n",
    "\n",
    "입력없음\n",
    "\n",
    "\n",
    "출력\n",
    "\n",
    "Male\n",
    "\n",
    "Female\n",
    "\n",
    "'''\n",
    "print('='*50)"
   ]
  },
  {
   "cell_type": "code",
   "execution_count": null,
   "metadata": {},
   "outputs": [],
   "source": []
  }
 ],
 "metadata": {
  "kernelspec": {
   "display_name": "Python 3",
   "language": "python",
   "name": "python3"
  },
  "language_info": {
   "codemirror_mode": {
    "name": "ipython",
    "version": 3
   },
   "file_extension": ".py",
   "mimetype": "text/x-python",
   "name": "python",
   "nbconvert_exporter": "python",
   "pygments_lexer": "ipython3",
   "version": "3.8.3"
  }
 },
 "nbformat": 4,
 "nbformat_minor": 4
}
