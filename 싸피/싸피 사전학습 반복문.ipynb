{
 "cells": [
  {
   "cell_type": "code",
   "execution_count": 9,
   "metadata": {},
   "outputs": [
    {
     "name": "stdout",
     "output_type": "stream",
     "text": [
      "1번 학생은 28점으로 불합격입니다.\n",
      "2번 학생은 75점으로 합격입니다.\n",
      "3번 학생은 63점으로 합격입니다.\n",
      "4번 학생은 74점으로 합격입니다.\n",
      "5번 학생은 11점으로 불합격입니다.\n"
     ]
    }
   ],
   "source": [
    "#6230번 반복 연습 1번\n",
    "\n",
    "'''\n",
    "다음의 결과와 같이 5명의 학생의 점수에 대해 60 이상일 때 합격 메시지를 출력하고,\n",
    "\n",
    "60미만일 때 불합격 메시지를 출력하는 프로그램을 만드십시오.'''\n",
    "#입력\n",
    "#입력값 없음\n",
    "'''출력\n",
    "1번 학생은 88점으로 합격입니다.\n",
    "\n",
    "2번 학생은 30점으로 불합격입니다.\n",
    "\n",
    "3번 학생은 61점으로 합격입니다.\n",
    "\n",
    "4번 학생은 55점으로 불합격입니다.\n",
    "\n",
    "5번 학생은 95점으로 합격입니다.'''\n",
    "\n",
    "# 입력값이 없기 때문에 난수를 만드는 함수인 randint()를 써야한다.\n",
    "\n",
    "'''\n",
    "난수 함수 종류\n",
    "\n",
    "randint(최소, 최대) : 입력 파라미터인 최소부터 최대까지 중 임의의 정수를 리턴한다\n",
    "\n",
    "random() : 0 부터 1 사이의 부동소수점(float) 숫자를 리턴한다\n",
    "\n",
    "uniform(최소, 최대) : 입력 파라미터인 최소부터 최대까지 중 임의의 부동소수점(float) 숫자를 리턴한다\n",
    "\n",
    "randrange(시작,끝[,간격]) : 입력 파라미터인 시작부터 끝값까지 (지정된 간격으로 나열된) 숫자 중 임의의 정수를 리턴한다'''\n",
    "import random # random 모듈을 import 해야 쓸 수 있음\n",
    "\n",
    "for k in range(1,6):\n",
    "    i = random.randint(0,100) #여기 for문에 들어가야지 매 case마다 초기화 됨\n",
    "    if i >= 60:\n",
    "        print(\"{0}번 학생은 {1}점으로 합격입니다.\".format(k,i))\n",
    "    else :\n",
    "        print(\"{0}번 학생은 {1}점으로 불합격입니다.\".format(k,i))"
   ]
  },
  {
   "cell_type": "code",
   "execution_count": 13,
   "metadata": {},
   "outputs": [
    {
     "name": "stdout",
     "output_type": "stream",
     "text": [
      "1번 학생은 88점으로 합격입니다.\n",
      "2번 학생은 30점으로 불합격입니다.\n",
      "3번 학생은 61점으로 합격입니다.\n",
      "4번 학생은 55점으로 불합격입니다.\n",
      "5번 학생은 95점으로 합격입니다.\n"
     ]
    }
   ],
   "source": [
    "print('1번 학생은 88점으로 합격입니다.\\n2번 학생은 30점으로 불합격입니다.\\n3번 학생은 61점으로 합격입니다.\\n4번 학생은 55점으로 불합격입니다.\\n5번 학생은 95점으로 합격입니다.')"
   ]
  },
  {
   "cell_type": "code",
   "execution_count": 14,
   "metadata": {},
   "outputs": [
    {
     "name": "stdout",
     "output_type": "stream",
     "text": [
      "1\n",
      "2\n",
      "3\n",
      "4\n",
      "5\n",
      "6\n",
      "7\n",
      "8\n",
      "9\n",
      "10\n",
      "11\n",
      "12\n",
      "13\n",
      "14\n",
      "15\n",
      "16\n",
      "17\n",
      "18\n",
      "19\n",
      "20\n",
      "21\n",
      "22\n",
      "23\n",
      "24\n",
      "25\n",
      "26\n",
      "27\n",
      "28\n",
      "29\n",
      "30\n",
      "31\n",
      "32\n",
      "33\n",
      "34\n",
      "35\n",
      "36\n",
      "37\n",
      "38\n",
      "39\n",
      "40\n",
      "41\n",
      "42\n",
      "43\n",
      "44\n",
      "45\n",
      "46\n",
      "47\n",
      "48\n",
      "49\n",
      "50\n",
      "51\n",
      "52\n",
      "53\n",
      "54\n",
      "55\n",
      "56\n",
      "57\n",
      "58\n",
      "59\n",
      "60\n",
      "61\n",
      "62\n",
      "63\n",
      "64\n",
      "65\n",
      "66\n",
      "67\n",
      "68\n",
      "69\n",
      "70\n",
      "71\n",
      "72\n",
      "73\n",
      "74\n",
      "75\n",
      "76\n",
      "77\n",
      "78\n",
      "79\n",
      "80\n",
      "81\n",
      "82\n",
      "83\n",
      "84\n",
      "85\n",
      "86\n",
      "87\n",
      "88\n",
      "89\n",
      "90\n",
      "91\n",
      "92\n",
      "93\n",
      "94\n",
      "95\n",
      "96\n",
      "97\n",
      "98\n",
      "99\n",
      "100\n"
     ]
    }
   ],
   "source": [
    "#6231 반복 연습 2번\n",
    "#1부터 100까지의 숫자를 for 문과 range 함수를 이용해 출력하십시오.\n",
    "\n",
    "for i in range (1,101):\n",
    "    print(i)\n",
    "    i+=1"
   ]
  },
  {
   "cell_type": "code",
   "execution_count": 93,
   "metadata": {},
   "outputs": [
    {
     "name": "stdout",
     "output_type": "stream",
     "text": [
      "2 4 6 8 10 12 14 16 18 20 22 24 26 28 30 32 34 36 38 40 42 44 46 48 50 52 54 56 58 60 62 64 66 68 70 72 74 76 78 80 82 84 86 88 90 92 94 96 98 100\n"
     ]
    }
   ],
   "source": [
    "#6324번 흐름 연습문제 3\n",
    "\n",
    "# 1부터 100사이의 숫자 중 짝수를 for문을 이용해 다음과 같이 출력하십시오.\n",
    "#입력 X\n",
    "# 출력값 : 2,4,6,... 한줄 출력\n",
    "a=[]\n",
    "for i in range(1,101):\n",
    "    if i%2 !=0:\n",
    "        continue\n",
    "    a.append(str(i))\n",
    "print(' '.join(a))# 사피에서는 이런 꼴을 자주 쓰네... 마지막에 공백 없애려고"
   ]
  },
  {
   "cell_type": "code",
   "execution_count": 36,
   "metadata": {},
   "outputs": [
    {
     "name": "stdout",
     "output_type": "stream",
     "text": [
      "1, 3, 5, 7, 9, 11, 13, 15, 17, 19, 21, 23, 25, 27, 29, 31, 33, 35, 37, 39, 41, 43, 45, 47, 49, 51, 53, 55, 57, 59, 61, 63, 65, 67, 69, 71, 73, 75, 77, 79, 81, 83, 85, 87, 89, 91, 93, 95, 97, 99\n"
     ]
    }
   ],
   "source": [
    "#6238번 흐름 연습문제 4\n",
    "# 1부터 100사이의 숫자 중 홀수를 for문을 이용해 다음과 같이 출력하십시오\n",
    "# 입력 X\n",
    "#출력값 1,3,5,...99\n",
    "a=[]\n",
    "for i in range(1,101):\n",
    "    if i%2 !=0:\n",
    "        a.append(str(i))\n",
    "    else :\n",
    "        continue\n",
    "print(', '.join(a))"
   ]
  },
  {
   "cell_type": "code",
   "execution_count": 37,
   "metadata": {},
   "outputs": [
    {
     "name": "stdout",
     "output_type": "stream",
     "text": [
      "1부터 100사이의 숫자 중 3의 배수의 총합: 1683\n"
     ]
    }
   ],
   "source": [
    "#6240번 흐름 연습문제 5\n",
    "# 1부터 100사이의 숫자 중 3의 배수의 총합을 for문을 이용해 출력하십시오.\n",
    "# 입력 X\n",
    "#출력\n",
    "#1부터 100사이의 숫자 중 3의 배수의 총합: 1683\n",
    "ans=0\n",
    "for i in range (1,101):\n",
    "    if i%3==0:\n",
    "        ans+=i\n",
    "print('1부터 100사이의 숫자 중 3의 배수의 총합: %d' %ans)\n",
    "        \n"
   ]
  },
  {
   "cell_type": "code",
   "execution_count": 51,
   "metadata": {},
   "outputs": [
    {
     "name": "stdout",
     "output_type": "stream",
     "text": [
      "{'A': 3, 'O': 3, 'B': 2, 'AB': 2}\n"
     ]
    }
   ],
   "source": [
    "#6242번 흐름 연습문제 6\n",
    "'''다음은 10명의 학생들의 혈액형(A, B, AB, O) 데이터입니다.\n",
    "\n",
    "['A', 'A', 'A', 'O', 'B', 'B', 'O', 'AB', 'AB', 'O']\n",
    "\n",
    "for 문을 이용하여 각 혈액형 별 학생수를 구하십시오.'''\n",
    "#입력 없음\n",
    "#출력\n",
    "#'A': 3, 'O': 3, 'B': 2, 'AB': 2}\n",
    "A,B,AB,O=0,0,0,0\n",
    "blood_list=['A', 'A', 'A', 'O', 'B', 'B', 'O', 'AB', 'AB', 'O']\n",
    "for i in range(len(blood_list)):\n",
    "    if blood_list[i] == 'A':\n",
    "        A+=1\n",
    "    elif blood_list[i] =='B':\n",
    "        B+=1\n",
    "    elif blood_list[i] =='O':\n",
    "        O+=1\n",
    "    elif blood_list[i] =='AB':\n",
    "        AB+=1\n",
    "print(\"{'A': %d, 'O': %d, 'B': %d, 'AB': %d}\"%(A,O,B,AB))"
   ]
  },
  {
   "cell_type": "code",
   "execution_count": 63,
   "metadata": {},
   "outputs": [
    {
     "name": "stdout",
     "output_type": "stream",
     "text": [
      "454\n",
      "[]\n"
     ]
    }
   ],
   "source": [
    "#6244번 흐름 연습문제 7번\n",
    "'''다음은 학생의 점수를 나타내는 리스트입니다.\n",
    "\n",
    "[85, 65, 77, 83, 75, 22, 98, 88, 38, 100]\n",
    "\n",
    "while 문과 리스트 객체의 pop()을 이용해 80점 이상의 점수들의 총합을 구하시오.\n",
    "\n",
    "입력 X\n",
    "출력 454'''\n",
    "#이 문제 풀라면 다음 꼴의 코드을 활용해야한다.\n",
    "'''a = [1,2,3,4]\n",
    "b=[]\n",
    "b.append(a.pop(3))'''\n",
    "\n",
    "a = [85, 65, 77, 83, 75, 22, 98, 88, 38, 100]\n",
    "b=[]\n",
    "while len(a)>0: # a의 모든 케이스에 대해서 pop하므로 결국 a는 깡통이 된다. 따라서 a가 깡통이 아닐때까지만 돌린다고 선언\n",
    "    if a[0]>=80:\n",
    "        b.append(a.pop(0)) # 80보다 큰 수는 a에서 pop된다 -->b.append(85) 이런식으로\n",
    "    else:\n",
    "        a.pop(0) # 80보다 작은 수도 a에서 pop\n",
    "#모든 경우에 pop 이 되므로while 한 번 돌면서 a[0]는 계속 바뀌게 되는다\n",
    "print(sum(b))"
   ]
  },
  {
   "cell_type": "code",
   "execution_count": 64,
   "metadata": {},
   "outputs": [
    {
     "name": "stdout",
     "output_type": "stream",
     "text": [
      "*****\n",
      "****\n",
      "***\n",
      "**\n",
      "*\n"
     ]
    }
   ],
   "source": [
    "#6246번 흐름 연습문제 8번\n",
    "#while문을 이용해 아래와 같이 별을 표시하는 프로그램 만드십소\n",
    "# 입력 X\n",
    "# 출력\n",
    "'''\n",
    "*****\n",
    "\n",
    "****\n",
    "\n",
    "***\n",
    "\n",
    "**\n",
    "\n",
    "*'''\n",
    "i=5\n",
    "while i>0:\n",
    "    print('*'*i)\n",
    "    i-=1"
   ]
  },
  {
   "cell_type": "code",
   "execution_count": 69,
   "metadata": {},
   "outputs": [
    {
     "name": "stdout",
     "output_type": "stream",
     "text": [
      "*******\n",
      " *****\n",
      "  ***\n",
      "   *\n"
     ]
    }
   ],
   "source": [
    "#6247번 흐름 연습문제 9번\n",
    "# while문을 이용해 아래와 같이 별을 표시하는 프로그램을 만드세요\n",
    "'''출력\n",
    "******* # * 7개\n",
    "\n",
    " ***** #공백 1개  *5개\n",
    " \n",
    "  *** #공백 2개 *3개\n",
    " \n",
    "   * # 공백 3개 * 1개'''\n",
    "\n",
    "i = 7\n",
    "k = 0\n",
    "n =4\n",
    "while n>0:\n",
    "    print('{0}{1}'.format(' '*k,'*'*i)) # 이거 format 함수 양식 계속 익히자. 존나 안 익네 진짜\n",
    "    i-=2\n",
    "    k+=1\n",
    "    n-=1"
   ]
  },
  {
   "cell_type": "code",
   "execution_count": 109,
   "metadata": {},
   "outputs": [
    {
     "name": "stdout",
     "output_type": "stream",
     "text": [
      "123123\n",
      "0 1 2 3 4 5 6 7 8 9\n",
      "0 2 2 2 0 0 0 0 0 0\n"
     ]
    }
   ],
   "source": [
    "#6249번 흐름 연습문제 10번\n",
    "#한 양의 정수를 입력하여 그 숫자에 0~9가 몇 번 사용되었는지 표시하세요\n",
    "#출력\n",
    "'''\n",
    "출력\n",
    "0 1 2 3 4 5 6 7 8 9\n",
    "\n",
    "0 2 0 0 0 0 0 0 0 0'''\n",
    "\n",
    "'''\n",
    "list함수 복습\n",
    "\n",
    "list(s)는 반복 가능한 자료형 s를 입력받아 리스트로 만들어 돌려주는 함수이다.\n",
    "\n",
    ">>> list(\"python\") #하나의 arugment를 받는다.\n",
    "['p', 'y', 't', 'h', 'o', 'n'] #그리고 그걸 문자열로 쪼개 리스트로 만든다\n",
    ">>> list((1,2,3)) #튜플도 하나의 arugment로 인지\n",
    "[1, 2, 3]'''\n",
    "\n",
    "i = list(input()) #어짜피 input으로 들어오는건 str꼴이니까 굳이 변형할 필요 없다.\n",
    "count = 0\n",
    "a = [0,0,0,0,0,0,0,0,0,0]\n",
    "for k in range(len(i)): # i의 자리수 만큼 반복\n",
    "    for j in range(0,10): # 0~9의 정수 seacrh 범위\n",
    "        if i[k] == str(j):\n",
    "            a[j] +=1\n",
    "a=list(map(str,a)) #헐 이게 map이 되네. map(f,iterable) 꼴로 받는데, 리스트인 a가 iterable 해서 가능한 듯\n",
    "## iterable 한 객체타입들 : list,dict,ser,str,btyes,tuple,range\n",
    "# 값을 차례대로 꺼낼 수 있다는 뜻으로 보면 된다.\n",
    "print(\"0 1 2 3 4 5 6 7 8 9\")\n",
    "print(' '.join(a))\n",
    "            "
   ]
  },
  {
   "cell_type": "code",
   "execution_count": 114,
   "metadata": {},
   "outputs": [
    {
     "name": "stdout",
     "output_type": "stream",
     "text": [
      "    *\n",
      "   **\n",
      "  ***\n",
      " ****\n",
      "*****\n"
     ]
    }
   ],
   "source": [
    "#6251번 흐름 연습문제 11번\n",
    "#for 문을 이용해 아래와 같이 *을 표시하는 프로그램을 만드십시오\n",
    "# 입력 X\n",
    "'''출력\n",
    "\n",
    "    *  공백 4 별 1\n",
    "\n",
    "   **\n",
    "\n",
    "  ***\n",
    "\n",
    " ****\n",
    "\n",
    "*****  공백 0 별 5'''\n",
    "a=4\n",
    "b=1\n",
    "for i in range(0,5):\n",
    "    print('{0}{1}'.format(' '*a,'*'*b))\n",
    "    a-=1\n",
    "    b+=1"
   ]
  },
  {
   "cell_type": "code",
   "execution_count": 127,
   "metadata": {},
   "outputs": [
    {
     "name": "stdout",
     "output_type": "stream",
     "text": [
      "9\n",
      "1001"
     ]
    }
   ],
   "source": [
    "#6253번 흐름 연습문제 13번\n",
    "# 다음의 결과와 같이 10진수를 2진수로 변환하는 프로그램을 작성하세요\n",
    "# 입력 9\n",
    "#출력\n",
    "#1001\n",
    "\n",
    "#의도는 뭐 for문 사용해서 2로 계속 나눠서 하라는거 같은데...그냥 bin()이용해서 해도 될듯?\n",
    "\n",
    "i =int(input())\n",
    "a = bin(i)\n",
    "for x in range(2,len(a)): # range(2) 부터 하는 이유가, 그냥 bin 쓰면 앞에 0b라는 두 글자가 붙어서임\n",
    "    print(a[x],end='')"
   ]
  },
  {
   "cell_type": "code",
   "execution_count": 122,
   "metadata": {},
   "outputs": [
    {
     "data": {
      "text/plain": [
       "'1'"
      ]
     },
     "execution_count": 122,
     "metadata": {},
     "output_type": "execute_result"
    }
   ],
   "source": [
    "a[2]"
   ]
  },
  {
   "cell_type": "code",
   "execution_count": 128,
   "metadata": {},
   "outputs": [
    {
     "data": {
      "text/plain": [
       "'0b11'"
      ]
     },
     "execution_count": 128,
     "metadata": {},
     "output_type": "execute_result"
    }
   ],
   "source": [
    "bin(3)"
   ]
  },
  {
   "cell_type": "code",
   "execution_count": null,
   "metadata": {},
   "outputs": [],
   "source": []
  }
 ],
 "metadata": {
  "kernelspec": {
   "display_name": "Python 3",
   "language": "python",
   "name": "python3"
  },
  "language_info": {
   "codemirror_mode": {
    "name": "ipython",
    "version": 3
   },
   "file_extension": ".py",
   "mimetype": "text/x-python",
   "name": "python",
   "nbconvert_exporter": "python",
   "pygments_lexer": "ipython3",
   "version": "3.8.3"
  }
 },
 "nbformat": 4,
 "nbformat_minor": 4
}
