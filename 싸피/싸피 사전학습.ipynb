{
 "cells": [
  {
   "cell_type": "code",
   "execution_count": 6,
   "metadata": {},
   "outputs": [
    {
     "name": "stdout",
     "output_type": "stream",
     "text": [
      "9\n",
      "1(은)는 9의 약수입니다.\n",
      "3(은)는 9의 약수입니다.\n",
      "9(은)는 9의 약수입니다.\n"
     ]
    }
   ],
   "source": [
    "#6218번 if문 연습문제 1번\n",
    "\n",
    "#다음의 결과와 같이 임의의 양의 정수를 입력받아 그 정수의 모든 약수를 구하십시오\n",
    "'''입력\n",
    "9'''\n",
    "'''출력\n",
    "1(은)는 9의 약수입니다.\n",
    "\n",
    "3(은)는 9의 약수입니다.\n",
    "\n",
    "9(은)는 9의 약수입니다.'''\n",
    "\n",
    "a = int(input())\n",
    "for i in range(1,a+1):\n",
    "    if a%i == 0:\n",
    "        print('%d(은)는 %d의 약수입니다.'%(i,a))"
   ]
  },
  {
   "cell_type": "code",
   "execution_count": 11,
   "metadata": {},
   "outputs": [
    {
     "name": "stdout",
     "output_type": "stream",
     "text": [
      "5\n",
      "1(은)는 5의 약수입니다.\n",
      "5(은)는 5의 약수입니다.\n",
      "5(은)는 1과 5로만 나눌 수 있는 소수입니다.\n"
     ]
    }
   ],
   "source": [
    "#6219번 if 연습문제 2번\n",
    "#다음의 결과와 같이 임의의 양의 정수를 입력받아 그 정수의 모든 약수를 구하시오\n",
    "#단, 약수가 2개일 경우 소수임을 나타내십시오\n",
    "#입력 5\n",
    "'''출력\n",
    "1(은)는 5의 약수입니다.\n",
    "\n",
    "5(은)는 5의 약수입니다.\n",
    "\n",
    "5(은)는 1과 5로만 나눌 수 있는 소수입니다.'''\n",
    "a = int(input())\n",
    "b=[]\n",
    "for i in range(1,a+1):\n",
    "    if a%i == 0:\n",
    "        print('%d(은)는 %d의 약수입니다.'%(i,a))\n",
    "        b.append(i)\n",
    "        if len(b) == 2:\n",
    "            print('%d(은)는 %d과 %d로만 나눌 수 있는 소수입니다.'%(a,b[0],b[1]))"
   ]
  },
  {
   "cell_type": "code",
   "execution_count": 16,
   "metadata": {},
   "outputs": [
    {
     "name": "stdout",
     "output_type": "stream",
     "text": [
      "a\n",
      "a는 소문자 입니다.\n"
     ]
    }
   ],
   "source": [
    "#6260번 if 연습문제 3번\n",
    "# 입력된 영어 알파벳 문자에 대해 대소문자를 구분하는 코드 작성\n",
    "\n",
    "a = input()\n",
    "if a.isupper():\n",
    "    print('%s 는 대문자 입니다.'%a)\n",
    "else:\n",
    "    print('%s 는 소문자 입니다.'%a)"
   ]
  },
  {
   "cell_type": "code",
   "execution_count": 20,
   "metadata": {},
   "outputs": [
    {
     "name": "stdout",
     "output_type": "stream",
     "text": [
      "바위\n",
      "가위\n",
      "Result : Man1 Win!\n"
     ]
    }
   ],
   "source": [
    "#6221번 if 연습문제 4번\n",
    "'''\n",
    "다음의 결과와 같이 가상의 두 사람이 가위 바위 보 중 하나를 내서 승패를 가르는 가위 바위 보 게임을 작성하십시오.\n",
    " \n",
    "\n",
    "이 때 [\"가위\", \"바위\", \"보\"] 리스트를 활용합니다.\n",
    "\n",
    "[입력]\n",
    "\n",
    "두 줄에 [\"가위\", \"바위\", \"보\"] 중 하나가 차례로 주어진다.\n",
    "\n",
    "\n",
    "[출력]\n",
    "\n",
    "첫 번째 사람은 Man1, 두 번째 사람은 Man2라고 하고, 이긴 사람의 결과를 출력한다.\n",
    "\n",
    "예를 들어, Man1이 이겼을 경우 Result : Man1 Win! 이라고 출력한다.\n",
    "\n",
    "단, 비긴 경우는 Result : Draw 라고 출력한다.'''\n",
    "\n",
    "a = input()\n",
    "b = input()\n",
    "if a == b :\n",
    "    print('Result : Draw')\n",
    "    \n",
    "else:\n",
    "    if a == '가위':\n",
    "        if b== '바위':\n",
    "            print('Result : Man2 Win!')\n",
    "        else:\n",
    "            print('Result : Man1 Win!')\n",
    "    elif a =='바위':\n",
    "        if b =='가위':\n",
    "            print('Result : Man1 Win!')\n",
    "        else:\n",
    "            print('Result : Man2 Win!')\n",
    "    elif a=='보':\n",
    "        if b == '가위':\n",
    "            print('Result : Man2 Win!')\n",
    "        else:\n",
    "            print('Result : Man1 Win!')\n",
    "            "
   ]
  },
  {
   "cell_type": "code",
   "execution_count": 29,
   "metadata": {},
   "outputs": [
    {
     "name": "stdout",
     "output_type": "stream",
     "text": [
      "c\n",
      "c(ASCII: 99) => C(ASCII: 67)\n"
     ]
    }
   ],
   "source": [
    "#6222. if 연습문제 5\n",
    "'''다음의 결과와 같이 입력된 문자가 대문자일 경우 소문자로, 소문자일 경우 대문자로 변경하고,\n",
    "\n",
    "알파벳이 아닐 경우엔 그냥 출력하는 코드를 작성하십시오.\n",
    "\n",
    "출력 시 아스키코드를 함께 출력합니다.'''\n",
    "'''입력\n",
    "c\n",
    "\n",
    "출력\n",
    "c(ASCII: 99) => C(ASCII: 67)'''\n",
    "\n",
    "a = input()\n",
    "if a.isupper(): #a가 대문자인가?\n",
    "    b=a.lower() # 그럼 b를 a를 소문자 화 한 것으로 한다\n",
    "    print('%s(ASCII: %d) => %s(ASCII: %d)'%(a,ord(a),b,ord(b))) # 문자열 포매팅 맨날 헷갈리는데 형식 좀 기억해라\n",
    "elif a.islower():# 그리고 ord(s),chr(d) 메서드도 기억하고\n",
    "    b=a.upper()\n",
    "    print('%s(ASCII: %d) => %s(ASCII: %d)'%(a,ord(a),b,ord(b)))\n",
    "else:\n",
    "    print(a)\n",
    "    \n",
    "# 아니 클라스 미쳤네 진짜 ;;;\n",
    "# 이걸 그냥 생초짜들이 풀면 머가리 터지겠네\n"
   ]
  },
  {
   "cell_type": "code",
   "execution_count": 58,
   "metadata": {},
   "outputs": [
    {
     "name": "stdout",
     "output_type": "stream",
     "text": [
      "7,14,21,28,42,49,56,63,77,84,91,98,112,119,126,133,147,154,161,168,182,189,196,\b\n"
     ]
    }
   ],
   "source": [
    "#6226. if 연습문제 7 (6번 왜 없지)\n",
    "'''1~200 사이의 정수 가운데 7의 배수이면서 5의 배수는 아닌 모든 숫자들을 찾아\n",
    "\n",
    "콤마(,)로 구분된 문자열을 구성해 출력하는 프로그램을 작성하십시오.\n",
    "\n",
    "입력\n",
    "\n",
    "출력\n",
    "7,14,21,28,42,49,56,63,77,84,91,98,112,119,126,133,147,154,161,168,182,189,196'''\n",
    "\n",
    "for i in range(1,201):\n",
    "    if i%7 == 0 and not i%35==0:\n",
    "        print(i,end=',') #end 는 print문의 기본 옵션. end에 들어가는 기호로 출력을 이어나간다\n",
    "print('\\b') # for문 다 돌고 나오면 \\b을 이용해서 맨마지막 콤마를 지워줌\n",
    "#\\b는 백스페이스랑 똑같음. 그렇게 하여 형식 맞춰준다\n",
    "# 여기서는 정상적으로 나오는데, 홈피 문제에서는 마지막 백스페이스가 깨져서 나온다.\n",
    "# 다른 접근법 시도"
   ]
  },
  {
   "cell_type": "code",
   "execution_count": 61,
   "metadata": {},
   "outputs": [
    {
     "name": "stdout",
     "output_type": "stream",
     "text": [
      "7,14,21,28,42,49,56,63,77,84,91,98,112,119,126,133,147,154,161,168,182,189,196\n"
     ]
    }
   ],
   "source": [
    "# 6226. 다른 풀이법\n",
    "a = []\n",
    "for i in range(1,201):\n",
    "    if i%7 == 0 and not i%35 ==0:\n",
    "        a.append(str(i))\n",
    "print(','.join(a)) # join(str)은 문자열 자료형에 쓰이는 함수형으로 \n",
    "#' '에 들어간 문자를 문자열 각각 사이사이에 넣어준다"
   ]
  },
  {
   "cell_type": "code",
   "execution_count": 74,
   "metadata": {},
   "outputs": [
    {
     "name": "stdout",
     "output_type": "stream",
     "text": [
      "200,202,204,206,208,220,222,224,226,228,240,242,244,246,248,260,262,264,266,268,280,282,284,286,288\n"
     ]
    }
   ],
   "source": [
    "#6227. if 연습문제 8번 \n",
    "'''100~300 사이의 숫자에서 각각의 자리 숫자가 짝수인 숫자를 찾아 콤마(,)로 구분해 출력하는 프로그램을 작성하십시오.\n",
    "\n",
    "입력\n",
    "\n",
    "\n",
    "출력\n",
    "200,202,204,206,208,220,222,224,226,228,240,242,244,246,248,260,262,264,266,268,280,282,284,286,288'''\n",
    "#6226번과 똑같이 하면 되겠네. 아니네 좀 다르다. 자리수 구분하면 되겠네. (0은 짝수)\n",
    "ans=[]\n",
    "for i in range(100,301):\n",
    "    a = i//100\n",
    "    b = i%100//10\n",
    "    c = i%10\n",
    "    if a%2==0 and b%2==0 and c%2==0:\n",
    "        ans.append(str(i))\n",
    "print(','.join(ans))"
   ]
  },
  {
   "cell_type": "code",
   "execution_count": 57,
   "metadata": {},
   "outputs": [
    {
     "name": "stdout",
     "output_type": "stream",
     "text": [
      "1,2,3,4,\b\n"
     ]
    }
   ],
   "source": [
    "for i in range(len(b)):\n",
    "    print(b[i],end=',')\n",
    "print('\\b')"
   ]
  },
  {
   "cell_type": "code",
   "execution_count": null,
   "metadata": {},
   "outputs": [],
   "source": []
  }
 ],
 "metadata": {
  "kernelspec": {
   "display_name": "Python 3",
   "language": "python",
   "name": "python3"
  },
  "language_info": {
   "codemirror_mode": {
    "name": "ipython",
    "version": 3
   },
   "file_extension": ".py",
   "mimetype": "text/x-python",
   "name": "python",
   "nbconvert_exporter": "python",
   "pygments_lexer": "ipython3",
   "version": "3.8.3"
  }
 },
 "nbformat": 4,
 "nbformat_minor": 4
}
