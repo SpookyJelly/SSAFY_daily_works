{
 "cells": [
  {
   "cell_type": "code",
   "execution_count": 5,
   "metadata": {},
   "outputs": [
    {
     "name": "stdout",
     "output_type": "stream",
     "text": [
      "아래 학생들의 전화번호를 조회할 수 있습니다.\n",
      "홍길동\n",
      "이순신\n",
      "강감찬\n",
      "전화번호를 조회하고자 하는 학생의 이름을 입력하십시오.\n",
      "이순신\n",
      "이순신의 전화번호는 010-1111-2222입니다.\n"
     ]
    }
   ],
   "source": [
    "# 6254번 셋, 딕셔너리 연습문제 2번\n",
    "\n",
    "'''\n",
    "다음과 같이 등록된 학생의 이름을 출력하고, 이름을 입력하면 전화번호를 출력해주는\n",
    " \n",
    "\n",
    "딕셔너리 객체를 이용한 전화번호부 프로그램을 작성하십시오.\n",
    "\n",
    "[등록된 학생]\n",
    "\n",
    "홍길동: 010-1111-1111\n",
    "이순신: 010-1111-2222\n",
    "강감찬: 010-1111-3333\n",
    "\n",
    "\n",
    "[프로그램]\n",
    "\n",
    "아래 학생들의 전화번호를 조회할 수 있습니다.\n",
    "홍길동\n",
    "이순신\n",
    "강감찬\n",
    "전화번호를 조회하고자 하는 학생의 이름을 입력하십시오.\n",
    " \n",
    "\n",
    "입력\n",
    "\n",
    "이순신\n",
    "\n",
    "출력\n",
    "\n",
    "아래 학생들의 전화번호를 조회할 수 있습니다.\n",
    "홍길동\n",
    "이순신\n",
    "강감찬\n",
    "전화번호를 조회하고자 하는 학생의 이름을 입력하십시오.\n",
    "이순신의 전화번호는 010-1111-2222입니다.\n",
    "\n",
    "\n",
    "\n",
    "'''\n",
    "\n",
    "student = {'홍길동' : '010-1111-1111', \n",
    "           '이순신' : '010-1111-2222',\n",
    "           '강감찬' : '010-1111-3333'}\n",
    "print('아래 학생들의 전화번호를 조회할 수 있습니다.')\n",
    "print('홍길동\\n이순신\\n강감찬')\n",
    "print('전화번호를 조회하고자 하는 학생의 이름을 입력하십시오.')\n",
    "a = input()\n",
    "print('{0}의 전화번호는 {1}입니다.'.format(a,student[a]))\n",
    "# ***주의 ** 사전 자료형 쓸때 student() 가 아니라 student [] 이다.\n",
    "# 오류 뜨는 문구 보니까 () 사용하는건 callable. 호출 가능한 애들에 한해서 쓰는듯"
   ]
  },
  {
   "cell_type": "code",
   "execution_count": 49,
   "metadata": {},
   "outputs": [
    {
     "name": "stdout",
     "output_type": "stream",
     "text": [
      "TV : 2000000\n",
      "냉장고 : 1500000\n",
      "노트북 : 1200000\n",
      "세탁기 : 1000000\n",
      "책상 : 350000\n",
      "가스레인지 : 200000\n"
     ]
    }
   ],
   "source": [
    "#6255번 셋, 딕셔너리 연습문제 3\n",
    "'''\n",
    "아래의 상품 딕셔너리 데이터를 가격에 따라 내림차순으로 정렬하는 프로그램을 작성하십시오.\n",
    " \n",
    "\n",
    "\"TV\": 2000000,\n",
    "\n",
    "\"냉장고\": 1500000,\n",
    "\n",
    "\"책상\": 350000,\n",
    "\n",
    "\"노트북\": 1200000,\n",
    "\n",
    "\"가스레인지\": 200000,\n",
    "\n",
    "\"세탁기\": 1000000,\n",
    "\n",
    "입력\n",
    "\n",
    "입력없음\n",
    "\n",
    "\n",
    "\n",
    "출력\n",
    "\n",
    "TV: 200 0000\n",
    "냉장고: 150 0000\n",
    "노트북: 120 0000\n",
    "세탁기: 100 0000\n",
    "책상: 35 0000\n",
    "가스레인지: 20 0000\n",
    "\n",
    "'''\n",
    "# 그냥 출력에 더해 Value를 이용해 정렬해야한다.\n",
    "# sorted 함수\n",
    "stuff={'TV':2000000,\n",
    "       '냉장고' :1500000,\n",
    "       '책상' :350000,\n",
    "       '노트북' :1200000,\n",
    "       '가스레인지' :200000,\n",
    "       '세탁기' :1000000\n",
    "      }\n",
    "s_s=sorted(stuff.items(), key = lambda x : x[1],reverse = True)\n",
    "# s_s는 sorted에 의해 리스트 꼴로 반환된다.\n",
    "# stuff.items() 함수로 stuff의 키/밸류 값을 받고, 정렬기준인 'Key'를 (sorted의 파라미터이다)\n",
    "# stuff.items()로 나온 (키 : 밸류) 묶음에서 1번 인덱스인 밸류로 설정했다.\n",
    "# 그리고 내림차순으로 정렬해야하니, reverse = True로 하여 역순으로 정렬하도록 했다.\n",
    "#***sorted 함수에 대해서 잘 알아야겠다. //정렬된 값을 돌려주고, iterable한 모든 객체를\n",
    "# 받는 다는 점에서 굉장히 유용하다.\n",
    "\n",
    "for i in s_s:\n",
    "    print('{0}: {1}'.format(i[0],i[1]))\n",
    "\n",
    "# 괜찮은 문제였다. 반복 숙달로 딕셔너리에 적응하자."
   ]
  },
  {
   "cell_type": "code",
   "execution_count": 9,
   "metadata": {},
   "outputs": [
    {
     "name": "stdout",
     "output_type": "stream",
     "text": [
      "{('카페모카', 3300), ('밀크커피', 3300), ('샷크린티라떼', 3300)}\n"
     ]
    }
   ],
   "source": [
    "#6256번 셋, 딕셔너리 연습문제 4\n",
    "'''\n",
    "다음 두 딕셔너리 객체를 합쳐 중복된 메뉴가 없는 딕셔너리를 만들고\n",
    " \n",
    "가격이 3000원 이상인 메뉴를 아래와 같이 출력하는 프로그렘을 작성하십시오.\n",
    " \n",
    "중복된 메뉴의 가격이 다를 경우 딕셔너리 a의 가격을 사용하세요.\n",
    " \n",
    "\n",
    "a = {'아메리카노': 1900, '카페모카': 3300, '에스프레소': 1900, '카페라떼': 2500, '카푸치노': 2500, '바닐라라떼': 2900}\n",
    " \n",
    "\n",
    "b = {'헤이즐럿라떼': 2900, '카페모카': 3300, '밀크커피': 3300, '아메리카노': 1900, '샷크린티라떼': 3300}\n",
    "\n",
    "입력\n",
    "\n",
    "입력없음\n",
    " \n",
    "\n",
    "출력\n",
    "\n",
    "{('카페모카', 3300), ('밀크커피', 3300), ('샷크린티라떼', 3300)}\n",
    "\n",
    "\n",
    "'''\n",
    "a = {'아메리카노': 1900, \n",
    "     '카페모카': 3300, \n",
    "     '에스프레소': 1900, \n",
    "     '카페라떼': 2500, \n",
    "     '카푸치노': 2500, \n",
    "     '바닐라라떼': 2900}\n",
    "\n",
    "b = {'헤이즐럿라떼': 2900, \n",
    "     '카페모카': 3300, \n",
    "     '밀크커피': 3300, \n",
    "     '아메리카노': 1900, \n",
    "     '샷크린티라떼': 3300}\n",
    "\n",
    "# 딕셔너리는 연산이 안된다. 두 딕셔너리를 합치는 방법은 update([])함수를 쓴다.\n",
    "# a.update(b) --> a를 b의 값으로 업데이트 한다 (중복안되는 부분의 a는 유지)\n",
    "# return하지 않으므로, a에 할당하면 none을 출력한다\n",
    "\n",
    "a = {'아메리카노': 1900, \n",
    "     '카페모카': 3300, \n",
    "     '에스프레소': 1900, \n",
    "     '카페라떼': 2500, \n",
    "     '카푸치노': 2500, \n",
    "     '바닐라라떼': 2900}\n",
    "\n",
    "b = {'헤이즐럿라떼': 2900, \n",
    "     '카페모카': 3300, \n",
    "     '밀크커피': 3300, \n",
    "     '아메리카노': 1900, \n",
    "     '샷크린티라떼': 3300}\n",
    "\n",
    "a.update(b) # a를 b의 값으로 업데이트 한다. **이거 굉장히 자주 쓰게 될듯!\n",
    "c = [i for i in a.items() if i[1] >=3000 ] #리스트내포를 쓰니까 굉장히 간단하다\n",
    "# items() 함수로 a의 키와 밸류 값을 뽑은 다음, 밸류가 3000원 이상인 리터럴만 리스트 화 했다.\n",
    "print(set(c)) #양식 맞추기 위해서 set화"
   ]
  },
  {
   "cell_type": "code",
   "execution_count": 1,
   "metadata": {},
   "outputs": [
    {
     "name": "stdout",
     "output_type": "stream",
     "text": [
      "{'apple': 5, 'banana': 6, 'melon': 5}\n"
     ]
    }
   ],
   "source": [
    "#6257번 셋 , 딕셔너리 연습문제 5\n",
    "\n",
    "'''\n",
    "리스트의 원소를 키로 하고, 그 원소의 length를 값으로 갖는 딕셔너리 객체를 생성하는 코드를 작성해봅시다.\n",
    "이 때 딕셔너리 내포 기능을 사용하며, 원소의 공백은 제거합니다.\n",
    "리스트 fruit는 다음과 같습니다. fruit = ['   apple    ','banana','  melon']\n",
    "\n",
    "입력\n",
    "\n",
    "입력없음\n",
    " \n",
    "\n",
    "출력\n",
    "\n",
    "{'apple': 5, 'banana': 6, 'melon': 5}\n",
    "\n",
    "\n",
    "\n",
    "'''\n",
    "# 동일한 길이를 가진 2개의 리스트를 딕셔너리 내포 꼴로 만들 수 있다.\n",
    "fruit = ['   apple    ','banana','  melon']\n",
    "for i in range(len(fruit)):\n",
    "    fruit[i] = fruit[i].lstrip()\n",
    "    fruit[i] = fruit[i].rstrip()\n",
    "\n",
    "fruit2 = [len(i) for i in fruit ]\n",
    "\n",
    "fruit_dic = {fruit[i] : fruit2[i] for i in range(len(fruit))}\n",
    "# key 값으로 fruit 리스트를 가져오고, fruit2 리스트는 value 값을 넣는다.\n",
    "print(fruit_dic)"
   ]
  },
  {
   "cell_type": "code",
   "execution_count": 3,
   "metadata": {},
   "outputs": [
    {
     "name": "stdout",
     "output_type": "stream",
     "text": [
      "5\n",
      "{1: 1, 2: 4, 3: 9, 4: 16, 5: 25}\n"
     ]
    }
   ],
   "source": [
    "#6258번 셋, 딕셔너리 연습문제 6\n",
    "'''\n",
    "다음과 같이 정수 N을 입력받아서 1부터 N까지의 정수를 키로 하고, \n",
    "그 정수의 제곱을 값으로 하는 딕셔너리 객체를 만드는 코드를 작성하십시오.\n",
    "\n",
    "입력\n",
    "\n",
    "5\n",
    "\n",
    "출력\n",
    "\n",
    "{1: 1, 2: 4, 3: 9, 4: 16, 5: 25}\n",
    "\n",
    "'''\n",
    "# 딕셔너리 내포를 하면 될듯\n",
    "N = int(input())\n",
    "squre_dic = { i : i**2 for i in range(1,N+1)}\n",
    "print(squre_dic)"
   ]
  },
  {
   "cell_type": "code",
   "execution_count": 19,
   "metadata": {},
   "outputs": [
    {
     "name": "stdout",
     "output_type": "stream",
     "text": [
      "hello world! 123\n",
      "LETTERS 10\n",
      "DIGITS 3\n"
     ]
    }
   ],
   "source": [
    "#6259번 셋, 딕셔너리 연습문제 7\n",
    "\n",
    "'''\n",
    "다음과 같이 사용자가 입력한 문장에서 숫자와 문자를 구별해 각각의 개수를 출력하는 프로그램을 작성하십시오.\n",
    "\n",
    "입력\n",
    "\n",
    "hello world! 123\n",
    "\n",
    "\n",
    "출력\n",
    "LETTERS 10\n",
    "\n",
    "DIGITS 3\n",
    "\n",
    "'''\n",
    "\n",
    "sentence = list(input().replace(\" \",\"\"))\n",
    "LETTERS = 0\n",
    "DIGITS = 0\n",
    "for i in sentence:\n",
    "    if 48<=ord(i)<=57:\n",
    "        DIGITS +=1\n",
    "    elif 65<=ord(i)<=90 :\n",
    "        LETTERS +=1\n",
    "    elif 97<=ord(i)<=122:\n",
    "        LETTERS +=1\n",
    "\n",
    "A = {'LETTERS': LETTERS ,'DIGITS' : DIGITS}\n",
    "print('LETTERS {0}'.format(A['LETTERS']))\n",
    "print('DIGITS {0}'.format(A['DIGITS']))\n",
    "\n",
    "# 영 이쁘지가 않은데...더 괜찮은 방법이 없을까?\n",
    "# 나는 문자열 구분하는 문제 풀 때 아스키 코드를 자주 쓰는 경향이 있다."
   ]
  },
  {
   "cell_type": "code",
   "execution_count": 33,
   "metadata": {},
   "outputs": [
    {
     "name": "stdout",
     "output_type": "stream",
     "text": [
      "Hello World! 123\n",
      "UPPER CASE 2\n",
      "LOWER CASE 8\n"
     ]
    }
   ],
   "source": [
    "#6260번 셋, 딕셔너리 연습문제 8\n",
    "\n",
    "'''\n",
    "다음과 같이 사용자가 입력한 문장에서 대소문를 구별해 각각의 갯수를 출력하는 프로그램을 작성하십시오.\n",
    "\n",
    "입력\n",
    "\n",
    "Hello World! 123\n",
    "\n",
    "\n",
    "출력\n",
    "UPPER CASE 2\n",
    "\n",
    "LOWER CASE 8\n",
    "\n",
    "'''\n",
    "#IsUpper 사용하면 될듯\n",
    "\n",
    "sentence = list(input().replace(' ',''))\n",
    "UPPER_CASE = 0\n",
    "LOWER_CASE = 0\n",
    "for i in sentence:\n",
    "    if i.isupper():\n",
    "        UPPER_CASE +=1\n",
    "    elif i.islower():\n",
    "        LOWER_CASE +=1\n",
    "sentence_dic = {'UPPER CASE' : UPPER_CASE , 'LOWER CASE' : LOWER_CASE}\n",
    "print('UPPER CASE {0}'.format(sentence_dic.get('UPPER CASE')))\n",
    "print('LOWER CASE {0}'.format(sentence_dic.get('LOWER CASE')))\n",
    "# get 함수 써봤다. 진짜 key값을 잘못 입력해도 에러가 안뜨고 None을 반환한다."
   ]
  },
  {
   "cell_type": "code",
   "execution_count": 46,
   "metadata": {},
   "outputs": [
    {
     "name": "stdout",
     "output_type": "stream",
     "text": [
      "{'하이트': 2000, '카스': 2100, '칭따오': 2500, '하이네켄': 4000, '버드와이저': 500}\n",
      "{'하이트': 2100.0, '카스': 2205.0, '칭따오': 2625.0, '하이네켄': 4200.0, '버드와이저': 525.0}\n"
     ]
    }
   ],
   "source": [
    "#6261번 셋, 딕셔너리 연습문제 9\n",
    "\n",
    "'''\n",
    "다음과 같은 기존의 맥주 가격을 5% 인상하려고 할 경우\n",
    "\n",
    "딕셔너리 내포 기능을 이용한 코드를 작성하십시오.\n",
    " \n",
    "\n",
    "beer = {'하이트': 2000, '카스': 2100, '칭따오': 2500, '하이네켄': 4000, '버드와이저': 500}\n",
    "\n",
    "입력\n",
    "\n",
    "입력없음\n",
    " \n",
    "\n",
    "출력\n",
    "\n",
    "{'하이트': 2000, '카스': 2100, '칭따오': 2500, '하이네켄': 4000, '버드와이저': 500}            # 인상 전\n",
    "\n",
    "{'하이트': 2100.0, '카스': 2205.0, '칭따오': 2625.0, '하이네켄': 4200.0, '버드와이저': 525.0}  # 인상 후\n",
    "\n",
    "'''\n",
    "\n",
    "beer = {'하이트': 2000, '카스': 2100, '칭따오': 2500, '하이네켄': 4000, '버드와이저': 500}\n",
    "beer_update = {i[0] : i[1]*1.05 for i in beer.items() } \n",
    "#아! items로 뽑으면 i가 키와 밸류로 이루어진 튜플이 되니까, key 와 value를 각각 인덱스해서 할당해줄 수 있다.\n",
    "\n",
    "print(f'{beer}')\n",
    "print(f'{beer_update}')"
   ]
  },
  {
   "cell_type": "code",
   "execution_count": 80,
   "metadata": {},
   "outputs": [
    {
     "name": "stdout",
     "output_type": "stream",
     "text": [
      "abcdefgabc\n",
      "a,2\n",
      "b,2\n",
      "c,2\n",
      "d,1\n",
      "e,1\n",
      "f,1\n",
      "g,1\n"
     ]
    }
   ],
   "source": [
    "#6262번 셋,딕셔너리 연습문제 10번\n",
    "\n",
    "'''\n",
    "다음의 결과와 같이 입력된 문자열의 문자 빈도수를 구하는 프로그램을 작성하십시오.\n",
    "\n",
    "입력\n",
    "\n",
    "abcdefgabc\n",
    "\n",
    "\n",
    "출력\n",
    "\n",
    "a,2\n",
    "\n",
    "b,2\n",
    "\n",
    "c,2\n",
    "\n",
    "d,1\n",
    "\n",
    "e,1\n",
    "\n",
    "f,1\n",
    "\n",
    "g,1\n",
    "\n",
    "'''\n",
    "# 2중 for문의 순서 주의\n",
    "cnt = 0\n",
    "word = list(input())\n",
    "word_set = list(sorted(set(word))) # set으로 중복 제거, sorted로 영문순 정렬, 다시 list화 해서 iterable한 상태로 만듬\n",
    "word_fr = []\n",
    "for string_set in  word_set:  # word_set에서 리터럴을 꺼내서 word의 리터털과 비교해야한다.\n",
    "    cnt = 0\n",
    "    for string in word: #word를 word_set이라는 기준에 비교해야한다. word의 값이 자꾸 변하면서 기준인 word_set과 일치하는지 확인\n",
    "        if string == string_set:\n",
    "            cnt +=1\n",
    "    word_fr.append(cnt) # 확인 완료되면, 카운팅 된 횟수를 word_fr에 append\n",
    "# **딕셔너리 내포** 주의!! 서로 다른 두 리스트에서 key/value를 가져올때, 이중 for문 할 필요없이, 인덱스만 맞춰라!    \n",
    "word_dic = {word_set[i] : word_fr[i] for i in range(len(word_fr))}\n",
    "for key in word_dic:\n",
    "    print('{0},{1}'.format(key,word_dic.get(key))) #word_dic에서 k로 가져오는 값은 key값 뿐이다. \n",
    "    # value는 따로 호출해줘야한다."
   ]
  },
  {
   "cell_type": "code",
   "execution_count": 78,
   "metadata": {},
   "outputs": [
    {
     "data": {
      "text/plain": [
       "{'a': 1, 'b': 1, 'c': 1, 'd': 1, 'e': 1, 'f': 1, 'g': 1}"
      ]
     },
     "execution_count": 78,
     "metadata": {},
     "output_type": "execute_result"
    }
   ],
   "source": [
    "word_dic"
   ]
  },
  {
   "cell_type": "code",
   "execution_count": 79,
   "metadata": {},
   "outputs": [
    {
     "data": {
      "text/plain": [
       "[2, 2, 2, 1, 1, 1, 1]"
      ]
     },
     "execution_count": 79,
     "metadata": {},
     "output_type": "execute_result"
    }
   ],
   "source": [
    "word_fr"
   ]
  },
  {
   "cell_type": "code",
   "execution_count": null,
   "metadata": {},
   "outputs": [],
   "source": [
    "word_dic['']"
   ]
  }
 ],
 "metadata": {
  "kernelspec": {
   "display_name": "Python 3",
   "language": "python",
   "name": "python3"
  },
  "language_info": {
   "codemirror_mode": {
    "name": "ipython",
    "version": 3
   },
   "file_extension": ".py",
   "mimetype": "text/x-python",
   "name": "python",
   "nbconvert_exporter": "python",
   "pygments_lexer": "ipython3",
   "version": "3.8.3"
  }
 },
 "nbformat": 4,
 "nbformat_minor": 4
}
