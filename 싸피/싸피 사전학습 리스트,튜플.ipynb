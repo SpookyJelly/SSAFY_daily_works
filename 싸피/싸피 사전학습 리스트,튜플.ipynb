{
 "cells": [
  {
   "cell_type": "code",
   "execution_count": 27,
   "metadata": {},
   "outputs": [
    {
     "name": "stdout",
     "output_type": "stream",
     "text": [
      "1번 학생의 총점은 170점이고, 평균은 85.0입니다.\n",
      "2번 학생의 총점은 160점이고, 평균은 80.0입니다.\n",
      "3번 학생의 총점은 190점이고, 평균은 95.0입니다.\n"
     ]
    }
   ],
   "source": [
    "# 6273 리스트,튜플 연습문제 1\n",
    "'''\n",
    "한 학생의 국어, 수학 점수를 튜플로 저장하고 이 튜플을 항목으로 갖는 리스트 객체가 있습니다.\n",
    "이 때 첫 번째 학생은 (90, 80), 두 번째 학생은 (85, 75), 세 번째 학생은 (90, 100)의 점수를 갖습니다.\n",
    "다음과 같이 결과를 만들기 위한 프로그램을 작성하십시오.\n",
    "\n",
    " \n",
    "입력\n",
    "\n",
    "입력없음\n",
    "\n",
    "출력\n",
    "\n",
    "1번 학생의 총점은 170점이고, 평균은 85.0입니다.\n",
    "\n",
    "2번 학생의 총점은 160점이고, 평균은 80.0입니다.\n",
    "\n",
    "3번 학생의 총점은 190점이고, 평균은 95.0입니다.\n",
    "\n",
    "'''\n",
    "\n",
    "a1 = (90,80)\n",
    "a2 = (85,75)\n",
    "a3 = (90,100)\n",
    "A = [a1,a2,a3]\n",
    "i = 1\n",
    "for k in A: # A = [(90, 80), (85, 75), (90, 100)] 이고 , for문을 돌리면 (90,80) , (85,75) , (90,100)를 각각 k라는 변수에 넣어준다\n",
    "    total = 0\n",
    "    avg = 0\n",
    "    total = sum(k)\n",
    "    avg = total / 2\n",
    "    print('{0}번 학생의 총점은 {1}점이고, 평균은 {2}입니다.'.format(i,total,avg))\n",
    "    i +=1"
   ]
  },
  {
   "cell_type": "code",
   "execution_count": 66,
   "metadata": {},
   "outputs": [
    {
     "name": "stdout",
     "output_type": "stream",
     "text": [
      "Pythn s pwrfl... nd fst; plys wll wth thrs; rns vrywhr; s frndly & sy t lrn; s Opn.\n"
     ]
    }
   ],
   "source": [
    "# 6275번 리스트, 튜플 연습문제 2\n",
    "\n",
    "'''\n",
    "리스트 내포 기능을 이용해 다음 문장으로부터 모음('aeiou')을 제거하십시오.\n",
    " \n",
    "\n",
    "'Python is powerful... and fast; plays well with others; runs everywhere; is friendly & easy to learn; is Open.'\n",
    "\n",
    "입력\n",
    "\n",
    "입력없음\n",
    "\n",
    "출력\n",
    "\n",
    "Pythn s pwrfl... nd fst; plys wll wth thrs; rns vrywhr; s frndly & sy t lrn; s Opn.\n",
    "\n",
    " \n",
    "'''\n",
    "#리스트 내포 : for문과 if문을 한라인에 작성하여 코드를 직관적으로 만들고, 실행속도를 높혀주는 기법\n",
    "\n",
    "Test = list('Python is powerful... and fast; plays well with others; runs everywhere; is friendly & easy to learn; is Open.')\n",
    "Test_A = [i for i in Test if i != 'a']\n",
    "Test_E = [i for i in Test_A if i != 'e']\n",
    "Test_I = [i for i in Test_E if i != 'i']\n",
    "Test_O = [i for i in Test_I if i != 'o']\n",
    "Test_U = [i for i in Test_O if i != 'u']\n",
    "s_Test = ''.join(Test_U)\n",
    "print(s_Test)\n",
    "\n",
    "# 동작하는 코드를 만들긴 했는데, 너무 비효율적이다.\n",
    "# [i for i in Test if i != 'a'or 'e']꼴의 내포가 동작하지 않아서 빙 돌아서 왔는데, 저게 동작하지 않는 이유를 찾으면 또 몰라\n",
    "# or 연산자 작동방식이 표현식1 or 표현식2 에서 // 표현식1이 참이라면 뒷 표현식은 신경쓰지 않는다.\n",
    "# 그래서 표현식 1인 i !=a가 맞으니까 그냥 뒤의 조건인 e i o u는 신경도 안쓴거?\n",
    "# 그렇지? 그리고 논리연산자니까 값의 Return이 True / False 형태니까..."
   ]
  },
  {
   "cell_type": "code",
   "execution_count": 42,
   "metadata": {},
   "outputs": [],
   "source": [
    "#****6275번 문제 풀다가 나온 or 연산자 계산 조건\n",
    "\n",
    "i='a'\n",
    "if i != 'a'or 'e': # 이 식을 다르게 표현하면 \n",
    "'''\n",
    "if 'a' != 'a' or 'e'\n",
    "\n",
    "if \n",
    "    'a' != 'a'  --> False\n",
    "    'a' != 'e'  --> True\n",
    "    \n",
    "\n",
    "따라서 if i != False or True --> True가 된다.\n",
    "i는 a인 동시에 e가 아니다.\n",
    "그렇기 때문에 필터링이 제대로 안된것. (조건식 1에는 부합해도 조건식 2에는 부합하지 않아서)\n",
    "\n",
    "이와 같은 블랙리스트를 만들때는 or를 쓰는건 부적합하다라는 걸 느꼈다..\n",
    "\n",
    "'''\n",
    "    \n",
    "    print ('hi')\n",
    "else:\n",
    "    print('bye')\n",
    "    \n",
    "#아, 그래서 결과는 'if True'가 되어서 'hi'가 출력된다."
   ]
  },
  {
   "cell_type": "code",
   "execution_count": 80,
   "metadata": {},
   "outputs": [
    {
     "name": "stdout",
     "output_type": "stream",
     "text": [
      "Pythn s pwrfl... nd fst; plys wll wth thrs; rns vrywhr; s frndly & sy t lrn; s Opn.\n"
     ]
    }
   ],
   "source": [
    "# 윗 개념을 적용한 6275번 최적화 버젼\n",
    "\n",
    "Test = list('Python is powerful... and fast; plays well with others; runs everywhere; is friendly & easy to learn; is Open.')\n",
    "word = 'aeiou'\n",
    "Test_a = [i for i in Test if i not in word]\n",
    "print(''.join(Test_a))"
   ]
  },
  {
   "cell_type": "code",
   "execution_count": 97,
   "metadata": {},
   "outputs": [
    {
     "name": "stdout",
     "output_type": "stream",
     "text": [
      "[[2, 4, 8, 10, 16], [], [4, 8, 16, 20, 32], [5, 10, 20, 25, 40], [], [], [8, 16, 32, 40, 64], []]\n"
     ]
    }
   ],
   "source": [
    "# 6276번 리스트, 튜플 연습문제3\n",
    "\n",
    "'''\n",
    "다음의 결과와 같이 구구단 2단부터 9단의 결과값 중에 3의 배수거나 7의 배수인 수를\n",
    "제외한 값을 리스트 객체 result 안에 각 단마다 리스트를 만들어 삽입하고 이를 출력하십시오.\n",
    "\n",
    "입력\n",
    "\n",
    "입력없음\n",
    "\n",
    "\n",
    "출력\n",
    "[[2, 4, 8, 10, 16], [], [4, 8, 16, 20, 32], [5, 10, 20, 25, 40], [], [], [8, 16, 32, 40, 64], []]\n",
    "\n",
    "'''\n",
    "\n",
    "def gugudan(x): # 구구단 만들어주는 함수\n",
    "    a = []\n",
    "    for i in range(1,10):\n",
    "        k = x*i\n",
    "        a.append(k)  # a = a.append 하면 오류가 나는 이유는?\n",
    "    return a\n",
    "\n",
    "result = []\n",
    "\n",
    "for i in range(2,10):\n",
    "    test = gugudan(i)\n",
    "    test_a = [k for k in test if k%3 != 0 and k%7 !=0] \n",
    "    # test_a는 3의 배수나 7의 배수가 아닌 값이 된다\n",
    "    result.append(test_a)\n",
    "    # i단에 대한 검증을 2단에서 9단까지 반복\n",
    "print(result)"
   ]
  },
  {
   "cell_type": "code",
   "execution_count": 99,
   "metadata": {},
   "outputs": [
    {
     "name": "stdout",
     "output_type": "stream",
     "text": [
      "10\n",
      "10\n",
      "20\n",
      "30\n",
      "40\n",
      "입력된 값 [10, 10, 20, 30, 40]의 평균은 22.0입니다.\n"
     ]
    }
   ],
   "source": [
    "#6277번 리스트, 튜플 연습문제 4\n",
    "\n",
    "'''\n",
    "리스트 내포 기능을 활용해 입력된 정수 값 5개의 평균을 출력하는 프로그램을 작성하십시오.\n",
    "\n",
    "입력\n",
    "10\n",
    "\n",
    "10\n",
    "\n",
    "20\n",
    "\n",
    "30\n",
    "\n",
    "40\n",
    "\n",
    "\n",
    "출력\n",
    "\n",
    "입력된 값 [10, 10, 20, 30, 40]의 평균은 22.0입니다.\n",
    "\n",
    "\n",
    "'''\n",
    "a = []\n",
    "for T in range(0,5):\n",
    "    T = int(input())\n",
    "    a.append(T)\n",
    "#이 for문을 리스트 내포로 만들면 되네\n",
    "print('입력된 값 {0}의 평균은 {1}입니다.'.format(a,sum(a)/5))\n"
   ]
  },
  {
   "cell_type": "code",
   "execution_count": 107,
   "metadata": {},
   "outputs": [
    {
     "name": "stdout",
     "output_type": "stream",
     "text": [
      "10\n",
      "10\n",
      "20\n",
      "30\n",
      "40\n",
      "입력된 값 [10, 10, 20, 30, 40]의 평균은 22.0입니다.\n"
     ]
    }
   ],
   "source": [
    "#6277번 리스트, 튜플 연습문제 4\n",
    "# 리스트 내포 이용\n",
    "\n",
    "a = []\n",
    "result = [int(input()) for k in range(0,5)] \n",
    "# 저번에도 이런거 해본 기억이 나는데, 리스트 내포로도 되네\n",
    "# int(input())이 k번 반복되고, 그 결과가 자동으로 result에 구분되서 들어가네\n",
    "\n",
    "# 리스트 내포라는게 이런거 아닐까? \n",
    "# [표현식 for 항목 in 반복가능객체 if 조건문] 에서 항목에 대한 결과를 표현식으로\n",
    "# 전환해서 리스트를 만들어 주는것. 파이썬의 특징일거 같은 느낌이 씨게 든다\n",
    "print('입력된 값 {0}의 평균은 {1}입니다.'.format(result,sum(result)/5))"
   ]
  },
  {
   "cell_type": "code",
   "execution_count": 110,
   "metadata": {},
   "outputs": [
    {
     "name": "stdout",
     "output_type": "stream",
     "text": [
      "12\n",
      "[1, 2, 3, 4, 6, 12]\n"
     ]
    }
   ],
   "source": [
    "#6280번 리스트,튜플 연습문제 5\n",
    "\n",
    "'''\n",
    "다음의 결과와 같이 정수를 입력하면 약수를 리스트에 추가해 출력하는 코드를 작성하십시오.\n",
    "\n",
    "\n",
    "입력\n",
    "\n",
    "12\n",
    "\n",
    "\n",
    "출력\n",
    "\n",
    "[1, 2, 3, 4, 6, 12]\n",
    "'''\n",
    "\n",
    "a = int(input())\n",
    "result = [i for i in range(1,a+1) if a%i==0]\n",
    "print(result)\n",
    "\n",
    "# 리스트 내포 없으면 for 문 따로 뺀 다음 append 사용해서 식을 길게 썻어야했다"
   ]
  },
  {
   "cell_type": "code",
   "execution_count": null,
   "metadata": {},
   "outputs": [],
   "source": [
    "#6281번 리스트,튜플 연습문제 6\n",
    "\n",
    "'''\n",
    "다음의 결과와 같이 정수를 입력하면 리스트 내포를 이용해\n",
    "\n",
    "약수 리스트를 출력하는 코드를 작성하십시오.\n",
    "\n",
    "입력\n",
    "\n",
    "32\n",
    "\n",
    "출력\n",
    "\n",
    "[1, 2, 4, 8, 16, 32]\n",
    "'''\n",
    "\n",
    "a = int(input())\n",
    "result = [i for i in range(1,a+1) if a%i==0]\n",
    "print(result)\n",
    "\n",
    "#이전 문제를 리스트 내포로 풀어서 동일하게 제출"
   ]
  },
  {
   "cell_type": "code",
   "execution_count": 122,
   "metadata": {},
   "outputs": [
    {
     "name": "stdout",
     "output_type": "stream",
     "text": [
      "[28, 52, 100]\n"
     ]
    }
   ],
   "source": [
    "#6282번 리스트, 튜플 연습문제 8\n",
    "\n",
    "'''\n",
    "[1, 3, 11, 15, 23, 28, 37, 52, 85, 100] 와 같은 리스트 객체가 주어졌을 때\n",
    " \n",
    "\n",
    "다음의 결과를 출력하는 짝수만 항목으로 가지는 리스트 객체를 생성하는 코드를 작성하십시오.\n",
    "\n",
    "\n",
    "\n",
    " \n",
    "입력\n",
    "\n",
    "입력없음\n",
    "\n",
    "\n",
    "출력\n",
    "\n",
    "[28, 52, 100]\n",
    "'''\n",
    "\n",
    "a = [1, 3, 11, 15, 23, 28, 37, 52, 85, 100]\n",
    "result = [k for k in a if k%2==0]\n",
    "print(result)"
   ]
  },
  {
   "cell_type": "code",
   "execution_count": 131,
   "metadata": {},
   "outputs": [
    {
     "name": "stdout",
     "output_type": "stream",
     "text": [
      "[1, 1, 2, 3, 5, 8, 13, 21, 34, 55]\n"
     ]
    }
   ],
   "source": [
    "#6286번 리스트, 튜플 연습문제 11\n",
    "\n",
    "'''\n",
    "리스트 내포 가능을 이용해 피보나치 수열 10번째까지 출력하는 프로그램을 작성하십시오.\n",
    "\n",
    "입력\n",
    "\n",
    "입력없음\n",
    "\n",
    "\n",
    "출력\n",
    "\n",
    "[1, 1, 2, 3, 5, 8, 13, 21, 34, 55]\n",
    "\n",
    "'''\n",
    "fib= [1,1]\n",
    "[fib.append(fib[i-2]+fib[i-1])for i in range(0,10) if i>=2] \n",
    "# 리스트 내포에서 표현식을 어떤 변수 꼴이 아니라, 메소드를 넣어도 동작하는구나\n",
    "# i가 0,1일때는 표현식이 에러나니까 if i>=2 조건문으로 해당 조건에서는 표현식이 실행되지 않도록 함\n",
    "print(fib)"
   ]
  },
  {
   "cell_type": "code",
   "execution_count": 7,
   "metadata": {},
   "outputs": [
    {
     "name": "stdout",
     "output_type": "stream",
     "text": [
      "[1, 4, 9, 16, 25, 36, 49, 64, 81, 100, 121, 144, 169, 196, 256, 289, 324, 361, 400]\n"
     ]
    }
   ],
   "source": [
    "#6288번 리스트, 튜플 연습문제 12\n",
    "'''\n",
    "리스트 내포 기능을 이용하여 1부터 20사이의 숫자 중 3의 배수가 아니거나\n",
    " \n",
    "5의 배수가 아닌 숫자들의 제곱 값으로 구성된 리스트 객체를 출력하는 프로그램을 작성하십시오.\n",
    "\n",
    "입력\n",
    "\n",
    "입력 없음\n",
    "\n",
    "\n",
    "출력\n",
    "\n",
    "[1, 4, 9, 16, 25, 36, 49, 64, 81, 100, 121, 144, 169, 196, 256, 289, 324, 361, 400]\n",
    "\n",
    "\n",
    "'''\n",
    "# 뭔가 문제가 이상하다. 출력이 3의 배수가 아니거나 5의 배수가 아닌 숫자들이 아니라\n",
    "# 3의 배수이면서 5의 배수인 숫자를 제외한 숫자들의 제곱값으로 구성된 리스트다\n",
    "a = []\n",
    "[a.append(i*i)for i in range(1,21)if i!=15]\n",
    "print(a)"
   ]
  },
  {
   "cell_type": "code",
   "execution_count": 12,
   "metadata": {},
   "outputs": [
    {
     "name": "stdout",
     "output_type": "stream",
     "text": [
      "12345\n",
      "15\n"
     ]
    }
   ],
   "source": [
    "#6289번 리스트,튜플 연습문제 13\n",
    "'''\n",
    "사용자가 숫자를 입력하면 숫자의 각 자릿수의 합을 구해서 반환하는 프로그램을 작성하십시오.\n",
    " \n",
    "\n",
    "예를 들어 123을 입력하면 1 + 2 + 3 = 6의 결과를 반환합니다.\n",
    "\n",
    "입력\n",
    "\n",
    "12345\n",
    "\n",
    "\n",
    "출력\n",
    "\n",
    "15\n",
    "\n",
    "'''\n",
    "num = list(input()) # str 타입을 list로 만들어서 숫자를 자리수 분류해서 리스트에 넣음\n",
    "ans = list(map(int,num)) # map함수를 이용해서 각 요소를 str --> int로 바꿈\n",
    "print(sum(ans)) # 그거 다 더함"
   ]
  },
  {
   "cell_type": "code",
   "execution_count": 48,
   "metadata": {},
   "outputs": [
    {
     "name": "stdout",
     "output_type": "stream",
     "text": [
      "[['계시다', '가지다', '그', '개'], ['놀이'], ['들다', '뒤', '듣다', '데리다'], [], ['막', '무척', '마리'], ['부모님', '비용', '비행기', '보이다'], ['싶다', '수출'], ['원래', '아이', '옳다'], ['좀', '자르다', '정도'], ['처리', '최초'], [], [], [], ['함께']]\n"
     ]
    }
   ],
   "source": [
    "#6290번 리스트, 튜플 연습문제 14\n",
    "'''\n",
    "입력 받은 문자열 리스트를 가나다 순으로 따로 묶으려고 합니다.\n",
    " \n",
    "\n",
    "다음과 같은 리스트가 주어졌을 때 결과처럼 가나다순(사전순)으로\n",
    "\n",
    "따로 묶은 리스트가 출력되도록 리스트 내포를 이용한 프로그램을 작성하십시오.\n",
    "\n",
    " \n",
    "\n",
    "dicBase = (('가','깋'), ('나','닣'), ('다','딯'), ('라','맇'), ('마','밓'), ('바','빟'), ('사','싷'),\n",
    "\n",
    "               ('아','잏'), ('자','짛'), ('차','칳'), ('카','킿'), ('타','팋'), ('파','핗'), ('하','힣'))\n",
    " \n",
    "\n",
    "inputWord = ['막', '부모님', '비용', '비행기', '원래', '처리', '최초', '꼴', '좀', '들다', '싶다',\n",
    "\n",
    "                   '수출', '계시다', '다', '뒤', '듣다', '함께', '아이', '무척', '보이다', '가지다', '그',\n",
    "\n",
    "                   '자르다', '데리다', '마리', '개', '정도', '옳다', '놀이','뜨겁다']\n",
    "\n",
    "입력\n",
    "\n",
    "입력없음\n",
    "\n",
    "출력\n",
    "[['계시다', '가지다', '그', '개'], ['놀이'], ['들다', '다', '뒤', '듣다', '데리다'], [],\n",
    "\n",
    "['막', '무척', '마리'], ['부모님', '비용', '비행기', '보이다'], ['싶다', '수출'],\n",
    "\n",
    "['원래', '아이', '옳다'], ['좀', '자르다', '정도'], ['처리', '최초'], [], [], [], ['함께']]\n",
    "\n",
    "\n",
    "'''\n",
    "\n",
    "#느낌이 아스키코드 이용하는건데....dicBase의 튜플을 유니코드에서 본듯\n",
    "\n",
    "dicBase = (('가','깋'), ('나','닣'), ('다','딯'), ('라','맇'), ('마','밓'), ('바','빟'), ('사','싷'),\n",
    "\n",
    "               ('아','잏'), ('자','짛'), ('차','칳'), ('카','킿'), ('타','팋'), ('파','핗'), ('하','힣'))\n",
    " \n",
    "inputWord = ['막', '부모님', '비용', '비행기', '원래', '처리', '최초', '꼴', '좀', '들다', '싶다',\n",
    "\n",
    "                   '수출', '계시다', '다', '뒤', '듣다', '함께', '아이', '무척', '보이다', '가지다', '그',\n",
    "\n",
    "                   '자르다', '데리다', '마리', '개', '정도', '옳다', '놀이','뜨겁다']\n",
    "\n",
    "print([[i for i in inputWord if idx[0]<=i<=idx[1]]for idx in dicBase])\n",
    "# 1.[i for i in inputword if idx[0] <= i <=idx[1]]\n",
    "# 2.for idx in dicBase\n",
    "# 두 식이 합쳐진 리스트 내포 꼴임.\n",
    "# idx 는 각 dicBase니까 각 튜플꼴에 따른다.\n",
    "#'가' <= i <= '깋' 형태로 쭉쭉 나아간다는 뜻임.\n",
    "# 이때 i 는 inputword 리스트의 요소들이다.\n",
    "# 만약에 '가' <= i <='깋'을 만족하는 i가 있으면 [i]가 된다\n",
    "# inputword를 다 돌았는데, '가' <= i <='깋'을 만족하는 i가 없다면,\n",
    "# '나'<=i<='닣'을 만족하는 i를 찾아서 [i]로 만든다.\n",
    "# 그렇게 쭉쭉 나간다"
   ]
  },
  {
   "cell_type": "code",
   "execution_count": 73,
   "metadata": {},
   "outputs": [
    {
     "name": "stdout",
     "output_type": "stream",
     "text": [
      "12,34,56,78\n",
      "[12, 34, 56, 78]\n",
      "(12, 34, 56, 78)\n"
     ]
    }
   ],
   "source": [
    "#6292번 리스트 튜플 연습문제 16번\n",
    "\n",
    "'''\n",
    "콤마(,)로 구분된 정수 값을 입력받아 리스트와 튜플 객체를 생성하는 코드를 작성하십시오.\n",
    " \n",
    "\n",
    "입력\n",
    "\n",
    "12, 34, 56, 78\n",
    "\n",
    "\n",
    "출력\n",
    "\n",
    "[12, 34, 56, 78]\n",
    "\n",
    "(12, 34, 56, 78)\n",
    "'''\n",
    "'''def fearme(*arguments):\n",
    "    a = []\n",
    "    for i in arguments:\n",
    "        a.append(i)\n",
    "    return a\n",
    "e= fearme(input().split(',')) --> 뻘짓이였네\n",
    "print(e)\n",
    "'''\n",
    "d = list(map(int,input().split(','))) # 요소값을 변수로 가져가는게 아니라 그냥 리스트를 통째로 변수로 가져가려면 이런식으로도 된다.\n",
    "# 맨날 a,b = list(map(int,input().split())) 이거에 익숙해져서 리스트가 변수가 되는 경우는 생각을 못한듯\n",
    "e = tuple(d)\n",
    "print(d)\n",
    "print(e)\n",
    "\n"
   ]
  },
  {
   "cell_type": "code",
   "execution_count": 86,
   "metadata": {},
   "outputs": [
    {
     "name": "stdout",
     "output_type": "stream",
     "text": [
      "2,3,4,5\n",
      "12.57, 18.85, 25.13, 31.42\n"
     ]
    }
   ],
   "source": [
    "#6293번 리스트 튜플 연습문제 17번\n",
    "'''\n",
    "다음의 결과와 같이 사용자로부터 콤마(,)로 구분해 여러 원의 반지름을 입력 받아\n",
    " \n",
    "\n",
    "이들에 대한 원의 둘레를 계산해 출력하는 프로그램을 작성하십시오.\n",
    "\n",
    "입력\n",
    "\n",
    "2, 3, 4, 5\n",
    "\n",
    "\n",
    "\n",
    "출력\n",
    "\n",
    "12.57, 18.85, 25.13, 31.42\n",
    "'''\n",
    "from math import pi\n",
    "r_list = list(map(int,input().split(',')))\n",
    "for i in range(len(r_list)):\n",
    "    a = 2*pi*r_list[i]\n",
    "    r_list[i] = str(round(a,2))\n",
    "print(', '.join(r_list))"
   ]
  },
  {
   "cell_type": "code",
   "execution_count": 99,
   "metadata": {},
   "outputs": [
    {
     "name": "stdout",
     "output_type": "stream",
     "text": [
      "3, 5\n",
      "[[0, 0, 0, 0, 0], [0, 1, 2, 3, 4], [0, 2, 4, 6, 8]]\n"
     ]
    }
   ],
   "source": [
    "#6295번 리스트 튜플 연습문제 18번\n",
    "'''\n",
    "다음과 같이 2차원 배열 구조를 만들기 위한 행, 열 정보를 콤마(,)로 구분해 입력하고,\n",
    " \n",
    "이 리스트 객체의 항목의 값은 행과 열의 인덱스 곱으로 초기화해 출력하는 프로그램을 작성하십시오.\n",
    "\n",
    "입력\n",
    "\n",
    "3, 5 // a, b\n",
    "\n",
    "\n",
    "출력\n",
    "b 0  1  2  3  4    0  1  2  3  4    0  1  2  3  4\n",
    "[[0, 0, 0, 0, 0], [0, 1, 2, 3, 4], [0, 2, 4, 6, 8]]\n",
    "a      0                1                2\n",
    "\n",
    "\n",
    "'''\n",
    "#이런 느낌인데,\n",
    "\n",
    "a,b = map(int,input().split(','))\n",
    "ev = []\n",
    "big_ev = []\n",
    "for i in range(a+1): #부득이하게 쓸모 없는 빈 리스트가 append 되니까, a는 한번 더 실행 시켜준다\n",
    "    big_ev.append(ev)  # 매 루프마다 배열 덩어리를 append하려면 여기로 와야한다.\n",
    "    ev = []\n",
    "    for k in range(b):\n",
    "        ev.append(i*k)\n",
    "#    big_ev.append(ev) # 여기 구문은 2번째 for문이 다 끝나고 오는게 아니라, 첫번째\n",
    "#    ev = []  #for문까지 끝나야 내려오는, 딱 한번 수행되는 위치이다.\n",
    "print(big_ev[1:])#big_ev[0] = []이므로, 해당 부분만 빼고 출력토록한다.\n"
   ]
  },
  {
   "cell_type": "code",
   "execution_count": 129,
   "metadata": {},
   "outputs": [
    {
     "name": "stdout",
     "output_type": "stream",
     "text": [
      "python, hello, world, hi\n",
      " hello, hi, world,python\n"
     ]
    }
   ],
   "source": [
    "#6296번 리스트 튜플 19번\n",
    "'''\n",
    "단어를 콤마(,)로 구분해 입력하면 그 단어들을 사전순으로 정렬해 출력하는 프로그램을 작성하시시오.\n",
    " \n",
    "\n",
    "입력\n",
    "\n",
    "python, hello, world, hi\n",
    "\n",
    "\n",
    "출력\n",
    "\n",
    "hello, hi, python, world\n",
    "\n",
    "'''\n",
    "word_list = input().split(',')\n",
    "a = list(sorted(word_list))\n",
    "a[0] = a[0].lstrip()\n",
    "a[1] = a[1].lstrip()\n",
    "a[2] = a[2].lstrip()\n",
    "a[3] = a[3].lstrip()\n",
    "print(', '.join(a))\n",
    "# 이렇게 하면 되긴 하는데... 이상하게 a[0] 부분을 for문으로 돌리면 \n",
    "#AttributeError: 'builtin_function_or_method' object has no attribute 'lstrip' 뜬다.\n",
    "# 함수꼴로 만들어볼까?"
   ]
  },
  {
   "cell_type": "code",
   "execution_count": 26,
   "metadata": {},
   "outputs": [
    {
     "name": "stdout",
     "output_type": "stream",
     "text": [
      "python, hello, world, hi\n",
      "hello, hi, python, world\n"
     ]
    },
    {
     "data": {
      "text/plain": [
       "'\\nfor i in range(len(a)):\\n    a[i] = a[i].lstrip()\\n    \\n이 꼴이 안되는 이유는 뭘까... a[i] 가 str 타입이 아니라 빌트인 function / method\\n로 여겨져서 그런거 같은데, 그렇게 인지되는 이유를 알고 싶다.\\n\\n**더 강해져서 돌아오겠다.\\n'"
      ]
     },
     "execution_count": 26,
     "metadata": {},
     "output_type": "execute_result"
    }
   ],
   "source": [
    "#6296번 리스트 튜플 19번 (개선안)\n",
    "\n",
    "# 함수형 접근\n",
    "def strip(x):\n",
    "    x = x.lstrip()\n",
    "    return x\n",
    "\n",
    "word_list = input().split(',')\n",
    "a = list(sorted(word_list))\n",
    "for i in range(len(a)):\n",
    "    a[i] = strip(a[i])\n",
    "a = list(sorted(a))\n",
    "print(', '.join(a))\n",
    "\n",
    "\n",
    "# 함수로 접근하니까 된다.\n",
    "'''\n",
    "for i in range(len(a)):\n",
    "    a[i] = a[i].lstrip()\n",
    "    \n",
    "이 꼴이 안되는 이유는 뭘까... a[i] 가 str 타입이 아니라 빌트인 function / method\n",
    "로 여겨져서 그런거 같은데, 그렇게 인지되는 이유를 알고 싶다.\n",
    "\n",
    "**더 강해져서 돌아오겠다.\n",
    "'''"
   ]
  },
  {
   "cell_type": "code",
   "execution_count": 33,
   "metadata": {},
   "outputs": [
    {
     "name": "stdout",
     "output_type": "stream",
     "text": [
      "1,2,3,4,5\n",
      "1, 3, 5\n"
     ]
    }
   ],
   "source": [
    "#6297번 리스트,튜플 20번 \n",
    "'''\n",
    "콤마(,)로 구분해 숫자를 입력하고, 입력된 숫자 중 홀수를 콤마(,)로 구분해 출력하는\n",
    " \n",
    "리스트 내포 기능을 이용한 프로그램을 작성하십시오.\n",
    "\n",
    "입력\n",
    "\n",
    "1, 2, 3, 4, 5\n",
    "\n",
    "\n",
    "\n",
    "출력\n",
    "\n",
    "1, 3, 5\n",
    "'''\n",
    "\n",
    "Test = list(map(int,input().split(','))) # 문제의 입력값은 5개이지만, \n",
    "# 입력값의 개수의 상관없는 프로그램을 만들고 싶어서 입력값을 죄다 Test라는 리스트에 박아 놓음\n",
    "a= [str(i) for i in Test if i%2 !=0] # a라는 신규리스트 생성 --> Test에 있는 변수에 대하여 2로 나눈 나머지가 0이 아니면 (홀수이면)\n",
    "# str꼴로 바꿔 입력함. (생각해보니 append한다 라는 표현을 해도 될듯?)\n",
    "# str꼴로 바꾸는 이유 == 밑에 print할때 .join 메써드를 사용할라고.\n",
    "print(', '.join(a))"
   ]
  },
  {
   "cell_type": "code",
   "execution_count": 34,
   "metadata": {
    "scrolled": true
   },
   "outputs": [
    {
     "name": "stdout",
     "output_type": "stream",
     "text": [
      "(1, 2, 3, 4, 5)\n",
      "(6, 7, 8, 9, 10)\n"
     ]
    }
   ],
   "source": [
    "#6298번 리스트, 튜플 21번\n",
    "'''\n",
    "주어진 튜플 (1,2,3,4,5,6,7,8,9,10)의 앞 항목 절반과 뒤 항목 절반을 출력하는 프로그램을 작성하십시오.\n",
    "\n",
    "입력\n",
    "\n",
    "입력 없음\n",
    "\n",
    "\n",
    "\n",
    "출력\n",
    "\n",
    "(1, 2, 3, 4, 5)\n",
    "\n",
    "(6, 7, 8, 9, 10)\n",
    "\n",
    "'''\n",
    "#튜플은 요소값을 바꿀수 없다는 사실만 빼면, 리스트와 동일하게 슬라이싱 / 인덱싱 모두 가능하다.\n",
    "\n",
    "big_T = (1,2,3,4,5,6,7,8,9,10)\n",
    "T1 = big_T[:5]\n",
    "T2 = big_T[5:]\n",
    "print(T1)\n",
    "print(T2)"
   ]
  },
  {
   "cell_type": "code",
   "execution_count": 35,
   "metadata": {},
   "outputs": [
    {
     "name": "stdout",
     "output_type": "stream",
     "text": [
      "[5, 77, 45]\n"
     ]
    }
   ],
   "source": [
    "#6299번 리스트, 튜플 22번\n",
    "\n",
    "'''\n",
    "리스트 내포 기능을 이용해 [5, 6, 77, 45, 22, 12, 24]에서 짝수를 제거한 후 리스트를\n",
    " \n",
    "출력하는 프로그램을 작성하십시오.\n",
    "\n",
    "입력\n",
    "\n",
    "입력 없음\n",
    "\n",
    "\n",
    "출력\n",
    "\n",
    "[5, 77, 45]\n",
    "\n",
    "'''\n",
    "Test = [5, 6, 77, 45, 22, 12, 24]\n",
    "T = [i for i in Test if i%2 != 0]\n",
    "print(T)"
   ]
  },
  {
   "cell_type": "code",
   "execution_count": 36,
   "metadata": {},
   "outputs": [
    {
     "name": "stdout",
     "output_type": "stream",
     "text": [
      "[24, 70, 120]\n"
     ]
    }
   ],
   "source": [
    "#6300번 리스트, 튜플 23번\n",
    "\n",
    "'''\n",
    "리스트 내포 기능을 이용해 [12, 24, 35, 70, 88, 120, 155]에서\n",
    "\n",
    "홀수번째 항목을 제거한 후 리스트를 출력하는 프로그램을 작성하십시오.\n",
    " \n",
    "\n",
    "입력\n",
    "\n",
    "입력 없음\n",
    "\n",
    "\n",
    "출력\n",
    "\n",
    "[24, 70, 120]\n",
    "\n",
    "'''\n",
    "\n",
    "Test = [12, 24, 35, 70, 88, 120, 155]\n",
    "T = [i for i in Test if Test.index(i)%2 != 0 ]\n",
    "print(T)\n",
    "# Test.index(i) 가 int꼴 반환값을 가지니까 될거라 생각했음\n",
    "# Test.index(i) 는 Test 리스트에서 i 가 가진 위치값을 반환한다.\n",
    "# for i in Test 구문에 의해 모든 i에 대해서 수행\n",
    "# 문제 조건에 따르면, 리스트 위치를 셀때 0이 아니라 1부터 세었으므로,\n",
    "# 짝수 위치에 있는 요소들을 날리면 된다.\n",
    "# 따라서 리스트 내포를 통해 인덱스가 2로 나누어 떨어지지 않는 홀수위치의 i만을 반환했다."
   ]
  },
  {
   "cell_type": "code",
   "execution_count": 53,
   "metadata": {},
   "outputs": [
    {
     "name": "stdout",
     "output_type": "stream",
     "text": [
      "[[[0, 0, 0, 0], [0, 0, 0, 0], [0, 0, 0, 0]], [[0, 0, 0, 0], [0, 0, 0, 0], [0, 0, 0, 0]]]\n"
     ]
    }
   ],
   "source": [
    "#6301번 리스트, 튜플 24번\n",
    "'''\n",
    "항목 값으로는 0을 갖는 2*3*4 형태의 3차원 배열을 생성하는\n",
    "리스트 내포 기능을 이용한 프로그램을 작성하십시오.\n",
    " \n",
    "\n",
    "입력\n",
    "\n",
    "입력없음\n",
    "\n",
    "출력\n",
    "\n",
    "[[[0, 0, 0, 0], [0, 0, 0, 0], [0, 0, 0, 0]], \n",
    "[[0, 0, 0, 0], [0, 0, 0, 0], [0, 0, 0, 0]]]\n",
    "\n",
    "\n",
    "\n",
    "'''\n",
    "a= 0\n",
    "T = [[[a for i in range(0,4)]for j in range(0,3)]for k in range(0,2)]\n",
    "print(T)\n",
    "\n",
    "# 삼중 리스트 내포라서 직접 Run해가면서 풀었다.\n",
    "# 띄어쓰기 잘해서 끊어서 보면 좀 낫다.\n",
    "# for문이 달린 이상 표현식에 i , j , k 가 들어가지 않아도 반복된다\n",
    "\n",
    "# 작동 구조는 아래와 같다\n",
    "\n",
    "# 1. [a for i in range(0,4)] --> 리스트 내포로 a를 4번 반복해서 그것을 리스트화 한다.\n",
    "# 2. [[1]for j in range(0,3)] --> 만들어진 1번을 3번 반복해서 그것을 리스트화 한다.\n",
    "# 3. [[2] for k in range(0,2)] --> 그렇게 만들어진 2번을 2번 반복해서 그것을 리스트화 한다.\n",
    "\n",
    "# 이렇게 3차원 배열이 완성되었다. 배열에 대한 개념을 잘 잡아야겠다."
   ]
  },
  {
   "cell_type": "code",
   "execution_count": 103,
   "metadata": {},
   "outputs": [
    {
     "name": "stdout",
     "output_type": "stream",
     "text": [
      "[24, 35, 70, 155]\n"
     ]
    }
   ],
   "source": [
    "#6302번 리스트 튜플 25번\n",
    "\n",
    "'''\n",
    "\n",
    "리스트 내포 기능을 이용해 [12, 24, 35, 70, 88, 120, 155]에서\n",
    "\n",
    "첫번째, 다섯번째, 여섯번째 항목을 제거한 후 리스트를 출력하는 프로그램을 작성하십시오.\n",
    "\n",
    " \n",
    "\n",
    "입력\n",
    "\n",
    "입력 없음\n",
    "\n",
    "\n",
    "출력\n",
    "\n",
    "[24, 35, 70, 155]\n",
    "\n",
    "'''\n",
    "Test = [12, 24, 35, 70, 88, 120, 155]\n",
    "T = [Test[i] for i in range(1,4) ]+Test[-1:]\n",
    "# 이러면 삑난다. Test.index(12) == 1 or 2 를 시험삼아 돌려봤는데\n",
    "# 참 거짓이 아니라 2를 반환한다.\n",
    "# 괄호를 씌우면, 이번에는 35,70,155인 경우 모두 False를 반환한다.\n",
    "# 논리연산자 여러개를 쓰는 것은 별로 좋지 않은 방법 같다.\n",
    "# 예전에 여러가지 논리연산자를 배웠는데 잘 기억이 안나네...\n",
    "print(T)\n",
    "\n",
    "# 도저히 하나의 리스트 내포로는 못하겠다 ㅋㅋㅋㅋ"
   ]
  },
  {
   "cell_type": "code",
   "execution_count": 108,
   "metadata": {},
   "outputs": [
    {
     "name": "stdout",
     "output_type": "stream",
     "text": [
      "[35]\n"
     ]
    }
   ],
   "source": [
    "#6303번 리스트, 튜플 26번\n",
    "\n",
    "'''\n",
    "두 개의 리스트 [1,3,6,78,35,55]와 [12,24,35,24,88,120,155]를 이용해\n",
    "양쪽 리스트에 모두 있는 항목을 리스트로 반환하는 프로그램을 작성하십시오.\n",
    "\n",
    "입력\n",
    "\n",
    "입력 없음\n",
    "\n",
    "출력\n",
    "\n",
    "[35]\n",
    "\n",
    "'''\n",
    "# find 쓰면 될거 같다. 아니면 filter??\n",
    "A = [1,3,6,78,35,55]\n",
    "B =[12,24,35,24,88,120,155]\n",
    "\n",
    "a = list(filter(lambda x : x in A,B))\n",
    "print(a)\n",
    "\n",
    "# 헐 이걸 내가 짠거라고??\n",
    "# filter(function , 찾을 범위)\n",
    "# function : A에 있는 요소값을 call 하는  람다\n",
    "# filter : function에 입력되었을때 반환값이 참인 B만 걸러내서 돌려준다.\n",
    "# --> A와 일치하는 유일한 값인 [35]를 돌려줬다."
   ]
  },
  {
   "cell_type": "code",
   "execution_count": 114,
   "metadata": {},
   "outputs": [
    {
     "name": "stdout",
     "output_type": "stream",
     "text": [
      "[12, 24, 35, 88, 120, 155]\n"
     ]
    }
   ],
   "source": [
    "#6305번 리스트, 튜플 27번\n",
    "'''\n",
    "리스트의 항목 중 중복이 되는 항목을 제거하는 함수를 정의하고 이 함수를 이용해\n",
    "\n",
    "[12,24,35,24,88,120,155,88,120,155]에서 중복이 제거된 리스트를 출력하십시오.\n",
    "\n",
    "입력\n",
    "\n",
    "입력 없음\n",
    "\n",
    "\n",
    "출력\n",
    "\n",
    "[12, 24, 35, 88, 120, 155]\n",
    "'''\n",
    "def yap(x):\n",
    "    x = list(sorted(set(x)))\n",
    "    return x\n",
    "\n",
    "Test = [12,24,35,24,88,120,155,88,120,155]\n",
    "print(yap(Test))"
   ]
  }
 ],
 "metadata": {
  "kernelspec": {
   "display_name": "Python 3",
   "language": "python",
   "name": "python3"
  },
  "language_info": {
   "codemirror_mode": {
    "name": "ipython",
    "version": 3
   },
   "file_extension": ".py",
   "mimetype": "text/x-python",
   "name": "python",
   "nbconvert_exporter": "python",
   "pygments_lexer": "ipython3",
   "version": "3.8.3"
  }
 },
 "nbformat": 4,
 "nbformat_minor": 4
}
