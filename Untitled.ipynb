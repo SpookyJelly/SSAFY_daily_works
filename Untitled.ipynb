{
 "cells": [
  {
   "cell_type": "code",
   "execution_count": 1,
   "id": "severe-festival",
   "metadata": {},
   "outputs": [
    {
     "data": {
      "text/plain": [
       "range(0, 32)"
      ]
     },
     "execution_count": 1,
     "metadata": {},
     "output_type": "execute_result"
    }
   ],
   "source": [
    "<설명 및 소스코드> \n",
    "\n",
    "<<(왼쪽 비트이동)는 원래 수에 *2가 되고 >>(오른쪽 비트이동)는 /2의 몫이 됩니다\n",
    "[출처] Python. 파이썬 - 비트 이동 연산자 알아보기|작성자 김형준"
   ]
  },
  {
   "cell_type": "code",
   "execution_count": 2,
   "id": "prime-envelope",
   "metadata": {},
   "outputs": [
    {
     "data": {
      "text/plain": [
       "range(0, 2)"
      ]
     },
     "execution_count": 2,
     "metadata": {},
     "output_type": "execute_result"
    }
   ],
   "source": [
    "range(1<<1)"
   ]
  },
  {
   "cell_type": "code",
   "execution_count": 3,
   "id": "chronic-center",
   "metadata": {},
   "outputs": [
    {
     "data": {
      "text/plain": [
       "range(0, 0)"
      ]
     },
     "execution_count": 3,
     "metadata": {},
     "output_type": "execute_result"
    }
   ],
   "source": [
    "range(1>>1)"
   ]
  },
  {
   "cell_type": "code",
   "execution_count": 4,
   "id": "white-vector",
   "metadata": {},
   "outputs": [
    {
     "data": {
      "text/plain": [
       "range(0, 1)"
      ]
     },
     "execution_count": 4,
     "metadata": {},
     "output_type": "execute_result"
    }
   ],
   "source": [
    "range(2>>1)"
   ]
  },
  {
   "cell_type": "code",
   "execution_count": 5,
   "id": "indirect-sitting",
   "metadata": {},
   "outputs": [
    {
     "data": {
      "text/plain": [
       "range(0, 10)"
      ]
     },
     "execution_count": 5,
     "metadata": {},
     "output_type": "execute_result"
    }
   ],
   "source": [
    "range(5<<1)"
   ]
  },
  {
   "cell_type": "code",
   "execution_count": 6,
   "id": "sufficient-pulse",
   "metadata": {},
   "outputs": [
    {
     "data": {
      "text/plain": [
       "8"
      ]
     },
     "execution_count": 6,
     "metadata": {},
     "output_type": "execute_result"
    }
   ],
   "source": [
    "1<<3"
   ]
  },
  {
   "cell_type": "code",
   "execution_count": 7,
   "id": "convenient-aside",
   "metadata": {},
   "outputs": [
    {
     "data": {
      "text/plain": [
       "20"
      ]
     },
     "execution_count": 7,
     "metadata": {},
     "output_type": "execute_result"
    }
   ],
   "source": [
    "5<<2 # 5*2^2 "
   ]
  },
  {
   "cell_type": "code",
   "execution_count": 8,
   "id": "united-agent",
   "metadata": {},
   "outputs": [
    {
     "data": {
      "text/plain": [
       "1"
      ]
     },
     "execution_count": 8,
     "metadata": {},
     "output_type": "execute_result"
    }
   ],
   "source": [
    "3>>1"
   ]
  },
  {
   "cell_type": "code",
   "execution_count": 9,
   "id": "uniform-mexico",
   "metadata": {},
   "outputs": [
    {
     "data": {
      "text/plain": [
       "0"
      ]
     },
     "execution_count": 9,
     "metadata": {},
     "output_type": "execute_result"
    }
   ],
   "source": [
    "3>>2"
   ]
  },
  {
   "cell_type": "code",
   "execution_count": 19,
   "id": "normal-bracket",
   "metadata": {},
   "outputs": [
    {
     "data": {
      "text/plain": [
       "1"
      ]
     },
     "execution_count": 19,
     "metadata": {},
     "output_type": "execute_result"
    }
   ],
   "source": [
    "4>>2"
   ]
  },
  {
   "cell_type": "code",
   "execution_count": 98,
   "id": "proprietary-cooper",
   "metadata": {},
   "outputs": [],
   "source": [
    "# 카운팅 정렬 알고리즘 만들어보기\n",
    "\n",
    "def counting (lst):\n",
    "    # 최대값 몰라도 checklst (등장한 숫자의 빈도수를 세어주는 리스트)를 가변형으로 구성하면 된다.\n",
    "    # max(lst)+1 하는 이유는 인덱스 크기 맞추기 위해서, 만약 lst에 5가 나오는데, max(lst)만 하면 크기가 5인 리스트가 만들어진다.\n",
    "    # 우리는 checklst의 인덱스 값과 요소의 등장횟수를 일치시키기려기에, \n",
    "    # 최대값 N인 lst를 받아줄 checklst에는 0~N까지의 인덱스가 있어야한다.(크기 N+1)\n",
    "    \n",
    "    checklst = [0] * (max(lst)+1) \n",
    "    copy_lst = [0] * len(lst)\n",
    "    for num in lst:\n",
    "        checklst[num] += 1\n",
    "    for idx in range(1,len(checklst)):\n",
    "        checklst[idx] += checklst[idx-1]\n",
    "\n",
    "    for element in lst:\n",
    "        copy_lst[checklst[element]-1] = element\n",
    "        checklst[element] -= 1\n",
    "    return copy_lst\n",
    "counting([1,3,4,2,2,3])   "
   ]
  },
  {
   "cell_type": "code",
   "execution_count": 99,
   "id": "favorite-executive",
   "metadata": {},
   "outputs": [
    {
     "name": "stdout",
     "output_type": "stream",
     "text": [
      "[0, 1, 2, 2, 1]\n",
      "[0, 1, 3, 5, 6]\n",
      "[0, 0, 0, 0, 0, 0]\n"
     ]
    },
    {
     "data": {
      "text/plain": [
       "[1, 2, 2, 3, 3, 4]"
      ]
     },
     "execution_count": 99,
     "metadata": {},
     "output_type": "execute_result"
    }
   ],
   "source": [
    "counting([1,3,4,2,2,3])    # return checklst [0, 1, 3, 5, 6, 6]"
   ]
  },
  {
   "cell_type": "code",
   "execution_count": 101,
   "id": "typical-pavilion",
   "metadata": {},
   "outputs": [
    {
     "name": "stdout",
     "output_type": "stream",
     "text": [
      "[0, 1, 0, 0, 0, 4]\n",
      "[0, 1, 1, 1, 1, 5]\n",
      "[0, 0, 0, 0, 0]\n"
     ]
    },
    {
     "data": {
      "text/plain": [
       "[1, 5, 5, 5, 5]"
      ]
     },
     "execution_count": 101,
     "metadata": {},
     "output_type": "execute_result"
    }
   ],
   "source": [
    "counting([1,5,5,5,5])"
   ]
  },
  {
   "cell_type": "code",
   "execution_count": null,
   "id": "framed-angel",
   "metadata": {},
   "outputs": [],
   "source": []
  },
  {
   "cell_type": "code",
   "execution_count": null,
   "id": "rubber-marine",
   "metadata": {},
   "outputs": [],
   "source": []
  }
 ],
 "metadata": {
  "kernelspec": {
   "display_name": "Python 3",
   "language": "python",
   "name": "python3"
  },
  "language_info": {
   "codemirror_mode": {
    "name": "ipython",
    "version": 3
   },
   "file_extension": ".py",
   "mimetype": "text/x-python",
   "name": "python",
   "nbconvert_exporter": "python",
   "pygments_lexer": "ipython3",
   "version": "3.8.7"
  },
  "toc": {
   "base_numbering": 1,
   "nav_menu": {},
   "number_sections": true,
   "sideBar": true,
   "skip_h1_title": false,
   "title_cell": "Table of Contents",
   "title_sidebar": "Contents",
   "toc_cell": false,
   "toc_position": {},
   "toc_section_display": true,
   "toc_window_display": false
  }
 },
 "nbformat": 4,
 "nbformat_minor": 5
}
