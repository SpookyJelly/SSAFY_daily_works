{
 "cells": [
  {
   "cell_type": "code",
   "execution_count": 10,
   "id": "rural-click",
   "metadata": {},
   "outputs": [
    {
     "name": "stdout",
     "output_type": "stream",
     "text": [
      "2\n",
      "32850\n",
      "#1\n",
      "0 3 0 2 1 3 1 0\n",
      "160\n",
      "#2\n",
      "0 0 0 0 0 1 1 1\n"
     ]
    }
   ],
   "source": [
    "def test(money,jipae):\n",
    "    cnt =0\n",
    "    while((money>=int(jipae))):\n",
    "        money -= int(jipae)\n",
    "        cnt += 1\n",
    "        #print(money, jipae, cnt)\n",
    "    #반환 : 이번 지폐 쓴 횟수, 남은 돈\n",
    "    return [cnt, money]\n",
    "\n",
    "T = int(input())\n",
    "\n",
    "for t in range(T):\n",
    "    money = int(input())\n",
    "    \n",
    "    money_dic ={\n",
    "        \n",
    "        '50000' : 0,\n",
    "        '10000' : 0,\n",
    "        '5000' : 0,\n",
    "        '1000' : 0,\n",
    "        '500' : 0,\n",
    "        '100' : 0,\n",
    "        '50' : 0,\n",
    "        '10' : 0,\n",
    "        }\n",
    "    \n",
    "    while (money>0):\n",
    "        #input값이 10원 단위 밑으로 들어오는 경우도 있음,\n",
    "        # 근데 내가 설계한 구조에서는 money가 10원 미만이면 무한 루프를 도니까, 강제 탈출 조건 걸어둠\n",
    "        if money<10: \n",
    "            break\n",
    "        for i in list(money_dic.keys()):\n",
    "            cnt, money = test(money,i)\n",
    "            money_dic[i] = cnt\n",
    "            #print(cnt,money)\n",
    "    #print(money_dic)\n",
    "    result = list(map(str,list(money_dic.values())))\n",
    "    print('#{0}\\n{1}'.format(t+1,' '.join(result)))"
   ]
  },
  {
   "cell_type": "code",
   "execution_count": 1,
   "id": "rubber-vitamin",
   "metadata": {},
   "outputs": [],
   "source": [
    "for i in range(1,0):\n",
    "    print('hi')"
   ]
  },
  {
   "cell_type": "code",
   "execution_count": 2,
   "id": "manufactured-peter",
   "metadata": {},
   "outputs": [
    {
     "data": {
      "text/plain": [
       "[]"
      ]
     },
     "execution_count": 2,
     "metadata": {},
     "output_type": "execute_result"
    }
   ],
   "source": [
    "list(range(1,0))"
   ]
  },
  {
   "cell_type": "code",
   "execution_count": null,
   "id": "difficult-hierarchy",
   "metadata": {},
   "outputs": [],
   "source": []
  }
 ],
 "metadata": {
  "kernelspec": {
   "display_name": "Python 3",
   "language": "python",
   "name": "python3"
  },
  "language_info": {
   "codemirror_mode": {
    "name": "ipython",
    "version": 3
   },
   "file_extension": ".py",
   "mimetype": "text/x-python",
   "name": "python",
   "nbconvert_exporter": "python",
   "pygments_lexer": "ipython3",
   "version": "3.8.7"
  },
  "toc": {
   "base_numbering": 1,
   "nav_menu": {},
   "number_sections": true,
   "sideBar": true,
   "skip_h1_title": false,
   "title_cell": "Table of Contents",
   "title_sidebar": "Contents",
   "toc_cell": false,
   "toc_position": {},
   "toc_section_display": true,
   "toc_window_display": false
  }
 },
 "nbformat": 4,
 "nbformat_minor": 5
}
