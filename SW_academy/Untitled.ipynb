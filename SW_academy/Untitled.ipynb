{
 "cells": [
  {
   "cell_type": "code",
   "execution_count": 1,
   "id": "difficult-hierarchy",
   "metadata": {},
   "outputs": [
    {
     "data": {
      "text/plain": [
       "range(0, 4)"
      ]
     },
     "execution_count": 1,
     "metadata": {},
     "output_type": "execute_result"
    }
   ],
   "source": [
    "range(1<<2)"
   ]
  },
  {
   "cell_type": "code",
   "execution_count": 2,
   "id": "economic-restoration",
   "metadata": {},
   "outputs": [
    {
     "data": {
      "text/plain": [
       "[0, 1, 2, 3]"
      ]
     },
     "execution_count": 2,
     "metadata": {},
     "output_type": "execute_result"
    }
   ],
   "source": [
    "list(range(1<<2))"
   ]
  },
  {
   "cell_type": "code",
   "execution_count": 6,
   "id": "corporate-directory",
   "metadata": {},
   "outputs": [
    {
     "name": "stdout",
     "output_type": "stream",
     "text": [
      "\n",
      "3 \n",
      "6 \n",
      "3 6 \n"
     ]
    }
   ],
   "source": [
    "arr = [3,6] \n",
    "n = len(arr) \n",
    "for i in range(1<<n): \n",
    "    for j in range(n): \n",
    "        if i&(1<<j): #i의 j번째 비트가 1이면 j번째 원소 출력 \n",
    "            print(arr[j],end=' ') \n",
    "    print()\n",
    "\n"
   ]
  },
  {
   "cell_type": "code",
   "execution_count": 7,
   "id": "religious-melbourne",
   "metadata": {},
   "outputs": [
    {
     "data": {
      "text/plain": [
       "97"
      ]
     },
     "execution_count": 7,
     "metadata": {},
     "output_type": "execute_result"
    }
   ],
   "source": [
    "1001&101"
   ]
  },
  {
   "cell_type": "code",
   "execution_count": 8,
   "id": "greenhouse-middle",
   "metadata": {},
   "outputs": [
    {
     "data": {
      "text/plain": [
       "100"
      ]
     },
     "execution_count": 8,
     "metadata": {},
     "output_type": "execute_result"
    }
   ],
   "source": [
    "101&100"
   ]
  },
  {
   "cell_type": "code",
   "execution_count": 9,
   "id": "burning-longitude",
   "metadata": {},
   "outputs": [
    {
     "data": {
      "text/plain": [
       "4"
      ]
     },
     "execution_count": 9,
     "metadata": {},
     "output_type": "execute_result"
    }
   ],
   "source": [
    "5&4"
   ]
  },
  {
   "cell_type": "code",
   "execution_count": 11,
   "id": "selected-darkness",
   "metadata": {},
   "outputs": [
    {
     "data": {
      "text/plain": [
       "0"
      ]
     },
     "execution_count": 11,
     "metadata": {},
     "output_type": "execute_result"
    }
   ],
   "source": [
    "6&1"
   ]
  },
  {
   "cell_type": "code",
   "execution_count": 13,
   "id": "varying-possession",
   "metadata": {},
   "outputs": [
    {
     "data": {
      "text/plain": [
       "0"
      ]
     },
     "execution_count": 13,
     "metadata": {},
     "output_type": "execute_result"
    }
   ],
   "source": [
    "1&8"
   ]
  },
  {
   "cell_type": "code",
   "execution_count": 14,
   "id": "double-matrix",
   "metadata": {},
   "outputs": [
    {
     "data": {
      "text/plain": [
       "'0b0'"
      ]
     },
     "execution_count": 14,
     "metadata": {},
     "output_type": "execute_result"
    }
   ],
   "source": [
    "bin(0)"
   ]
  },
  {
   "cell_type": "code",
   "execution_count": 15,
   "id": "restricted-capitol",
   "metadata": {},
   "outputs": [
    {
     "data": {
      "text/plain": [
       "'0b1'"
      ]
     },
     "execution_count": 15,
     "metadata": {},
     "output_type": "execute_result"
    }
   ],
   "source": [
    "bin(1)"
   ]
  },
  {
   "cell_type": "code",
   "execution_count": 16,
   "id": "vanilla-program",
   "metadata": {},
   "outputs": [
    {
     "data": {
      "text/plain": [
       "'0b10'"
      ]
     },
     "execution_count": 16,
     "metadata": {},
     "output_type": "execute_result"
    }
   ],
   "source": [
    "bin(2)"
   ]
  },
  {
   "cell_type": "code",
   "execution_count": 22,
   "id": "modern-disorder",
   "metadata": {},
   "outputs": [
    {
     "name": "stdout",
     "output_type": "stream",
     "text": [
      "i는 지금 0\n",
      "\n",
      "i는 지금 1\n",
      "1 0 a \n",
      "i는 지금 2\n",
      "2 1 b \n",
      "i는 지금 3\n",
      "3 0 a 3 1 b \n",
      "i는 지금 4\n",
      "4 2 c \n",
      "i는 지금 5\n",
      "5 0 a 5 2 c \n",
      "i는 지금 6\n",
      "6 1 b 6 2 c \n",
      "i는 지금 7\n",
      "7 0 a 7 1 b 7 2 c \n"
     ]
    }
   ],
   "source": [
    "arr = ['a','b','c']\n",
    "n = len(arr)\n",
    "\n",
    "for i in range(1 << n):\n",
    "    print(f'i는 지금 {i}')\n",
    "    for j in range(n):\n",
    "        if i & (1 << j):\n",
    "            print(i, j,arr[j], end=' ')\n",
    "    print()"
   ]
  },
  {
   "cell_type": "code",
   "execution_count": 20,
   "id": "attended-strip",
   "metadata": {},
   "outputs": [
    {
     "data": {
      "text/plain": [
       "'b'"
      ]
     },
     "execution_count": 20,
     "metadata": {},
     "output_type": "execute_result"
    }
   ],
   "source": [
    "arr[1]"
   ]
  },
  {
   "cell_type": "code",
   "execution_count": null,
   "id": "conceptual-casino",
   "metadata": {},
   "outputs": [],
   "source": []
  }
 ],
 "metadata": {
  "kernelspec": {
   "display_name": "Python 3",
   "language": "python",
   "name": "python3"
  },
  "language_info": {
   "codemirror_mode": {
    "name": "ipython",
    "version": 3
   },
   "file_extension": ".py",
   "mimetype": "text/x-python",
   "name": "python",
   "nbconvert_exporter": "python",
   "pygments_lexer": "ipython3",
   "version": "3.8.7"
  },
  "toc": {
   "base_numbering": 1,
   "nav_menu": {},
   "number_sections": true,
   "sideBar": true,
   "skip_h1_title": false,
   "title_cell": "Table of Contents",
   "title_sidebar": "Contents",
   "toc_cell": false,
   "toc_position": {},
   "toc_section_display": true,
   "toc_window_display": false
  }
 },
 "nbformat": 4,
 "nbformat_minor": 5
}
