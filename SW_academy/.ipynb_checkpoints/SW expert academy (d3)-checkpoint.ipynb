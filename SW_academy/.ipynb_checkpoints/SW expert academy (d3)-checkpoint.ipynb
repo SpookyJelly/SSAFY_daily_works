{
 "cells": [
  {
   "cell_type": "code",
   "execution_count": null,
   "id": "horizontal-foundation",
   "metadata": {},
   "outputs": [],
   "source": [
    "#1206번 . 1일차 문제\n",
    "\n",
    "'''\n",
    "강변에 빌딩들이 옆으로 빽빽하게 밀집한 지역이 있다.\n",
    "\n",
    "이곳에서는 빌딩들이 너무 좌우로 밀집하여, 강에 대한 조망은 모든 세대에서 좋지만 왼쪽 또는 오른쪽 창문을 열었을 때 바로 앞에 옆 건물이 보이는 경우가 허다하였다.\n",
    "\n",
    "그래서 이 지역에서는 왼쪽과 오른쪽으로 창문을 열었을 때, 양쪽 모두 거리 2 이상의 공간이 확보될 때 조망권이 확보된다고 말한다.\n",
    "\n",
    "빌딩들에 대한 정보가 주어질 때, 조망권이 확보된 세대의 수를 반환하는 프로그램을 작성하시오.\n",
    "\n",
    "\n",
    "[제약 사항]\n",
    "\n",
    "가로 길이는 항상 1000이하로 주어진다.\n",
    "\n",
    "맨 왼쪽 두 칸과 맨 오른쪽 두 칸에는 건물이 지어지지 않는다. (예시에서 빨간색 땅 부분)\n",
    "\n",
    "각 빌딩의 높이는 최대 255이다.\n",
    " \n",
    "[입력]\n",
    "\n",
    "입력 파일의 첫 번째 줄에는 테스트케이스의 길이가 주어진다. 그 바로 다음 줄에 테스트 케이스가 주어진다.\n",
    "\n",
    "총 10개의 테스트케이스가 주어진다.\n",
    "'''\n",
    "# 반환할 값\n",
    "nice_view = 0\n",
    "\n",
    "# 10개의 test case에 대해 실행\n",
    "for tc in range(10):\n",
    "    # 빌딩의 갯수 \n",
    "    length = int(input())\n",
    "    # 빌딩의 높이를 list로 받음\n",
    "    bs = list(map(int,input().split()))\n",
    "    \n",
    "    # 처음 2칸은 0 0 이므로, 2부터 length의 범위로 리스트를 분석한다.\n",
    "    for num in range(2,length):\n",
    "        # bs는 빌딩의 최고층 높이를 받은 list다.\n",
    "        # 만약에 bs이 왼쪽 2 / 오른쪽 2 빌딩보다 높으면 이하를 실행한다.\n",
    "        if (bs[num]>bs[num-1]) and (bs[num]>bs[num-2]) and (bs[num]>bs[num+1]) and (bs[num]>bs[num+2]):\n",
    "            # max없이 최대값 구하기\n",
    "            maxi = 0\n",
    "            for i in [bs[num-2],bs[num-1],bs[num+1],bs[num+2]]:\n",
    "                if i > maxi:\n",
    "                    maxi = i\n",
    "            # 반환값은 bs의 최고 높이에서 인근 빌딩의 최고값을 뺀 값이다.\n",
    "            # 왜냐고? nice_view가 제한 되는 이유가 인근의 가장 높은 빌딩 때문이기다/\n",
    "            nice_view += bs[num]-maxi\n",
    "    print(f'{tc} {nice_view}')\n",
    "    nice_view=0"
   ]
  }
 ],
 "metadata": {
  "kernelspec": {
   "display_name": "Python 3",
   "language": "python",
   "name": "python3"
  },
  "language_info": {
   "codemirror_mode": {
    "name": "ipython",
    "version": 3
   },
   "file_extension": ".py",
   "mimetype": "text/x-python",
   "name": "python",
   "nbconvert_exporter": "python",
   "pygments_lexer": "ipython3",
   "version": "3.8.7"
  },
  "toc": {
   "base_numbering": 1,
   "nav_menu": {},
   "number_sections": true,
   "sideBar": true,
   "skip_h1_title": false,
   "title_cell": "Table of Contents",
   "title_sidebar": "Contents",
   "toc_cell": false,
   "toc_position": {},
   "toc_section_display": true,
   "toc_window_display": false
  }
 },
 "nbformat": 4,
 "nbformat_minor": 5
}
