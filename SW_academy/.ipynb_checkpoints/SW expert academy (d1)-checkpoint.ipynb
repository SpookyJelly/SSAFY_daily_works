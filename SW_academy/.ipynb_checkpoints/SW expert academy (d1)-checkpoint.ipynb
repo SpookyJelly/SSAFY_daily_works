{
 "cells": [
  {
   "cell_type": "code",
   "execution_count": 4,
   "id": "dramatic-apollo",
   "metadata": {},
   "outputs": [
    {
     "name": "stdout",
     "output_type": "stream",
     "text": [
      "3\n",
      "3 17 1 39 8 41 2 32 99 2\n",
      "#1 200\n",
      "22 8 5 123 7 2 63 7 3 46\n",
      "#2 208\n",
      "6 63 2 3 58 76 21 33 8 1 \n",
      "#3 121\n"
     ]
    }
   ],
   "source": [
    "# 2072번 . 홀수만 더하기\n",
    "'''\n",
    "10개의 수를 입력 받아, 그 중에서 홀수만 더한 값을 출력하는 프로그램을 작성하라.\n",
    "\n",
    "\n",
    "[제약 사항]\n",
    "\n",
    "각 수는 0 이상 10000 이하의 정수이다.\n",
    "\n",
    "\n",
    "[입력]\n",
    "\n",
    "가장 첫 줄에는 테스트 케이스의 개수 T가 주어지고, 그 아래로 각 테스트 케이스가 주어진다.\n",
    "\n",
    "각 테스트 케이스의 첫 번째 줄에는 10개의 수가 주어진다.\n",
    "\n",
    "\n",
    "[출력]\n",
    "\n",
    "출력의 각 줄은 '#t'로 시작하고, 공백을 한 칸 둔 다음 정답을 출력한다.\n",
    "\n",
    "(t는 테스트 케이스의 번호를 의미하며 1부터 시작한다.)\n",
    "\n",
    "\n",
    "입력\n",
    "\n",
    "3\n",
    "3 17 1 39 8 41 2 32 99 2\n",
    "22 8 5 123 7 2 63 7 3 46\n",
    "6 63 2 3 58 76 21 33 8 1   \n",
    " \n",
    "\n",
    "출력\n",
    "\n",
    "#1 200\n",
    "#2 208\n",
    "#3 121\n",
    "\n",
    "\n",
    "'''\n",
    "# 접근 방법\n",
    "# 0. Test case를 입력 받고, 입력값을 저장한다.\n",
    "# 1. Test case 만큼 반복 되는 루프문을 만든다.\n",
    "# 2. 각 케이스 별 입력 받는 10개의 수를 저장 받을 리스트를 형성한다.\n",
    "# 3. 리스트에서 홀수만 추리고 저장한다.\n",
    "# 4. 저장한 값을 합한 후 출력한다.\n",
    "\n",
    "T = int(input())\n",
    "\n",
    "for i in range(1,T+1):\n",
    "    # 2. 입력된 정수들을 공백 단위로 구분해서 list에 저장\n",
    "    int_list = list(map(int,input().split()))\n",
    "    # 3. 리스트 내포를 사용해 홀수만을 추려내서 odd_int_list라는 변수에 저장\n",
    "    odd_int_list = [i for i in int_list if i%2==1]\n",
    "    # 4. format 함수를 이용해서 출력\n",
    "    print('#{0} {1}'.format(i,sum(odd_int_list)))\n"
   ]
  },
  {
   "cell_type": "code",
   "execution_count": null,
   "id": "hawaiian-vermont",
   "metadata": {},
   "outputs": [],
   "source": []
  }
 ],
 "metadata": {
  "kernelspec": {
   "display_name": "Python 3",
   "language": "python",
   "name": "python3"
  },
  "language_info": {
   "codemirror_mode": {
    "name": "ipython",
    "version": 3
   },
   "file_extension": ".py",
   "mimetype": "text/x-python",
   "name": "python",
   "nbconvert_exporter": "python",
   "pygments_lexer": "ipython3",
   "version": "3.8.7"
  }
 },
 "nbformat": 4,
 "nbformat_minor": 5
}
