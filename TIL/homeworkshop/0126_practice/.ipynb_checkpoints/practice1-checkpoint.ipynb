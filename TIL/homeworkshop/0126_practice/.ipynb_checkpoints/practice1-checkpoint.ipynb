{
 "cells": [
  {
   "cell_type": "markdown",
   "metadata": {},
   "source": [
    "# Practice 1\n",
    "\n",
    "> 복잡한 자료구조의 (2차원 리스트) 반복문"
   ]
  },
  {
   "cell_type": "markdown",
   "metadata": {},
   "source": [
    "## 복잡한 리스트의 합\n",
    "\n",
    "> 2차원 리스트를 반복하는 방법을 알아봅시다. \n",
    "\n",
    "\n",
    "* 주어진 아래의 리스트를 반복하여 숫자의 합을 반환하시오.\n",
    "\n",
    "---\n",
    "**예시 입력**\n",
    "\n",
    "```python\n",
    "numbers = [\n",
    "    [1, 4],\n",
    "    [10, 5],\n",
    "    [20, 30]    \n",
    "]\n",
    "\n",
    "```\n",
    "\n",
    "**예시 출력**\n",
    "```python\n",
    "sum_list([[1, 4], [10, 5], [20, 30]]) # 70\n",
    "```"
   ]
  },
  {
   "cell_type": "markdown",
   "metadata": {},
   "source": [
    "### for 문을 활용하여 풀이하기\n",
    "\n",
    "```python\n",
    "for element in list:\n",
    "```"
   ]
  },
  {
   "cell_type": "code",
   "execution_count": 5,
   "metadata": {},
   "outputs": [],
   "source": [
    "# 접근 방법\n",
    "# 1. 리스트의 각 요소 접근 --> 리스트 안의 리스트 접근\n",
    "# 2. total 이라는 변수 안에 리스트의 sum 저장\n",
    "# 3. return total\n",
    "def sum_list(numbers):\n",
    "    total = 0\n",
    "    for element in numbers:\n",
    "        total += sum(element)\n",
    "    return total"
   ]
  },
  {
   "cell_type": "code",
   "execution_count": 6,
   "metadata": {},
   "outputs": [
    {
     "name": "stdout",
     "output_type": "stream",
     "text": [
      "70\n"
     ]
    }
   ],
   "source": [
    "print(sum_list([[1, 4], [10, 5], [20, 30]]))"
   ]
  },
  {
   "cell_type": "markdown",
   "metadata": {},
   "source": [
    "### Index로 접근하여 풀이하기\n",
    "\n",
    "```python\n",
    "for idx in range(len(list)):\n",
    "```"
   ]
  },
  {
   "cell_type": "code",
   "execution_count": 32,
   "metadata": {},
   "outputs": [],
   "source": [
    "# 접근 방법\n",
    "# 1. 리스트의 각 요소를 index로 접근 --> element == range(0~4) == [0~3]이 된다.\n",
    "# 2. total 이라는 변수 안에 리스트의 sum() wjwkd\n",
    "# 3. return total\n",
    "def sum_list_index(numbers):\n",
    "    total = 0\n",
    "    for idx in range(len(numbers)):\n",
    "        total += sum(numbers[idx])\n",
    "    return total\n",
    "\n",
    "# 1.1.1과 큰 차이 없는거 같은데 이렇게 하는 이유가..? 혹시 다른 접근법이 있나???"
   ]
  },
  {
   "cell_type": "code",
   "execution_count": 33,
   "metadata": {},
   "outputs": [
    {
     "name": "stdout",
     "output_type": "stream",
     "text": [
      "70\n"
     ]
    }
   ],
   "source": [
    "print(sum_list_index([[1, 4], [10, 5], [20, 30]]))"
   ]
  },
  {
   "cell_type": "markdown",
   "metadata": {},
   "source": [
    "### while 문을 활용하여 풀이하기\n",
    "\n",
    "```python\n",
    "while ____:\n",
    "```"
   ]
  },
  {
   "cell_type": "code",
   "execution_count": 15,
   "metadata": {},
   "outputs": [],
   "source": [
    "## 아래에 코드를 작성하세요.\n",
    "def sum_list_while(numbers):\n",
    "    n = 0 # 반복 횟수를 잡을 변수\n",
    "    total = 0 # numbers의 총합을 잡을 변수\n",
    "    \n",
    "    # numbers의 길이만큼만 while이 돌아야하니까, n이 len(number) 이하 일때만 작동하도록 함\n",
    "    while(n<len(numbers)): \n",
    "        total += sum(numbers[n])\n",
    "        n += 1\n",
    "    return total\n",
    "    ##"
   ]
  },
  {
   "cell_type": "code",
   "execution_count": 16,
   "metadata": {},
   "outputs": [
    {
     "name": "stdout",
     "output_type": "stream",
     "text": [
      "70\n"
     ]
    }
   ],
   "source": [
    "print(sum_list_while([[1, 4], [10, 5], [20, 30]]))"
   ]
  },
  {
   "cell_type": "markdown",
   "metadata": {},
   "source": [
    "## 시험 점수\n",
    "\n",
    "> 2차원 배열\n",
    "\n",
    "\n",
    "* A반 학생들의 점수는 아래와 같고, students 리스트에 저장되어 있다.\n",
    "\n",
    "    * A학생(국어 100점, 수학 80점, 영어 100점)\n",
    "    * B학생(국어 90점, 수학 90점, 영어 60점)\n",
    "    * C학생(국어 80점, 수학 80점, 영어 80점)\n",
    "\n",
    "```python\n",
    "students = [\n",
    " [100, 80, 100],\n",
    " [90, 90, 60],\n",
    " [80, 80, 80]\n",
    "]\n",
    "```"
   ]
  },
  {
   "cell_type": "markdown",
   "metadata": {},
   "source": [
    "### 학생별 출력\n",
    "\n",
    "* 아래의 리스트를 반복하여 **학생별 총합**을 순서대로 `출력`하시오.\n",
    "\n",
    "* `sum` 함수 사용 금지\n",
    "\n",
    "---\n",
    "**예시 입력**\n",
    "\n",
    "```python\n",
    "students = [\n",
    " [100, 80, 100],\n",
    " [90, 90, 60],\n",
    " [80, 80, 80]\n",
    "]\n",
    "```\n",
    "\n",
    "**예시 출력**\n",
    "```\n",
    "280\n",
    "240\n",
    "240\n",
    "```"
   ]
  },
  {
   "cell_type": "code",
   "execution_count": 17,
   "metadata": {},
   "outputs": [],
   "source": [
    "students = [\n",
    " [100, 80, 100],\n",
    " [90, 90, 60],\n",
    " [80, 80, 80]\n",
    "]"
   ]
  },
  {
   "cell_type": "code",
   "execution_count": 28,
   "metadata": {},
   "outputs": [
    {
     "name": "stdout",
     "output_type": "stream",
     "text": [
      "280\n",
      "240\n",
      "240\n"
     ]
    }
   ],
   "source": [
    "# 접근방법\n",
    "# 1. for문을 이용해서 리스트의 각 요소에 접근 --> 하나의 임시 변수에 저장\n",
    "# 2. 2중 for 문 --> 리스트의 리터럴 총합을 구함 --> 총합 출력\n",
    "\n",
    "for element in students:\n",
    "    total = 0\n",
    "    for context in element:\n",
    "        total += context\n",
    "    print(total)"
   ]
  },
  {
   "cell_type": "code",
   "execution_count": 35,
   "metadata": {},
   "outputs": [
    {
     "name": "stdout",
     "output_type": "stream",
     "text": [
      "280\n",
      "240\n",
      "240\n"
     ]
    }
   ],
   "source": [
    "# 교수님 풀이\n",
    "# 2차원 배열을 마치 행렬처럼 봤을 때 각 요소는 (y,x) 로 표현 가능!\n",
    "# 한 번 각 요소의 위치를 직접 적어보자\n",
    "\n",
    "# 각 학생의 모든 점수를 더한다고 하면..\n",
    "# 첫번째 시행 (0,0) +(0,1)+(0,2)\n",
    "# 두번째 시행 (1,0) +(1,1)+(1,2)\n",
    "# 세번째 시행 (2,0) +(2,1)+(2,2)\n",
    "\n",
    "# 각 시행에서 y 값은 우선 고정시켜두고, x값만 변하도록 구성하면 될듯.\n",
    "\n",
    "for y in range(len(students)):\n",
    "    # y : 0,1,2 (바깥 리스트의 길이만큼)\n",
    "    # 만약에 y가 0이라면...\n",
    "    # 0번째 리스트를 우선 가져오고,\n",
    "    # 0 번째 리스트의 길이만큼 반복문 시행\n",
    "    \n",
    "    # (각 학생의 점수를 하나씩 꺼내는 부분)\n",
    "    total = 0\n",
    "    student = students[y] # [100,80,100]\n",
    "    for x in range(len(student)):\n",
    "        # x : 0,1,2\n",
    "        total += students[y][x]\n",
    "    print(total)"
   ]
  },
  {
   "cell_type": "markdown",
   "metadata": {},
   "source": [
    "### 과목별 출력\n",
    "\n",
    "* 아래의 리스트를 반복하여 **과목별 총합**을 순서대로 `출력`하시오.\n",
    "* `sum` 함수 사용 금지\n",
    "\n",
    "---\n",
    "**예시 입력**\n",
    "\n",
    "```python\n",
    "students = [\n",
    " [100, 80, 100],\n",
    " [90, 90, 60],\n",
    " [80, 80, 80]\n",
    "]\n",
    "```\n",
    "\n",
    "**예시 출력**\n",
    "```\n",
    "270\n",
    "250\n",
    "240\n",
    "```"
   ]
  },
  {
   "cell_type": "code",
   "execution_count": null,
   "metadata": {},
   "outputs": [],
   "source": [
    "students = [\n",
    " [100, 80, 100],\n",
    " [90, 90, 60],\n",
    " [80, 80, 80]\n",
    "]"
   ]
  },
  {
   "cell_type": "code",
   "execution_count": 30,
   "metadata": {},
   "outputs": [
    {
     "name": "stdout",
     "output_type": "stream",
     "text": [
      "270\n",
      "250\n",
      "240\n"
     ]
    }
   ],
   "source": [
    "# 접근법\n",
    "# 1. 국어, 수학, 영어 점수를 각각 받아낼 빈 리스트 생성\n",
    "# 2. 슬라이싱과 for문 사용해서 과목별 점수 추리기\n",
    "# 2.1 for i in students --> korean = [:1], math = [1:2] english = [2:] 이런식으로?\n",
    "# 3. append로 각 리스트 채우기\n",
    "# 4. for문 이용해서 합하기... 이건 함수를 만들면 편할거 같다.\n",
    "\n",
    "def my_sum(numbers):\n",
    "    total = 0\n",
    "    for num in numbers:\n",
    "        total += num\n",
    "    return total\n",
    "\n",
    "korean = []\n",
    "math = []\n",
    "english = []\n",
    "\n",
    "for i in range(len(students)):\n",
    "    korean += students[i][:1] \n",
    "    ''' \n",
    "     append로 밀어 넣으면 [[100],[90],[80]]로 된다.\n",
    "     지금 students에서 정수 리터럴을 뽑은게 아니라, students[i][:1]로 리스트 슬라이싱을 해서\n",
    "     리스트가 반환 되기 때문이다.\n",
    "     \n",
    "     그래서 리스트 연결하기를 통해서 하나의 리스트로 만들어줌.\n",
    "     \n",
    "     '''\n",
    "    math += students[i][1:2]\n",
    "    english += students[i][2:]\n",
    "\n",
    "for k in [korean,math,english]:\n",
    "    print(my_sum(k))"
   ]
  },
  {
   "cell_type": "code",
   "execution_count": 31,
   "metadata": {},
   "outputs": [
    {
     "name": "stdout",
     "output_type": "stream",
     "text": [
      "270\n",
      "250\n",
      "240\n"
     ]
    }
   ],
   "source": [
    "# 만약에 append를 썻다면?\n",
    "\n",
    "def my_sum(numbers):\n",
    "    total = 0\n",
    "    for num in numbers:\n",
    "        total += num\n",
    "    return total\n",
    "\n",
    "korean = []\n",
    "math = []\n",
    "english = []\n",
    "\n",
    "for i in range(len(students)):\n",
    "    '''\n",
    "    점수를 뽑아낼때, 슬라이싱으로 하지 않고, 인덱스 접근을 통해서 정수형 리터럴을 뽑는다.\n",
    "    \n",
    "    '''\n",
    "    \n",
    "    korean.append(students[i][0]) \n",
    "    math.append(students[i][1])\n",
    "    english.append(students[i][2])\n",
    "\n",
    "for k in [korean,math,english]:\n",
    "    print(my_sum(k))"
   ]
  },
  {
   "cell_type": "code",
   "execution_count": null,
   "metadata": {},
   "outputs": [],
   "source": [
    "#교수님 풀이\n",
    "\n",
    "# 바깥 리스트의 길이 ==len(students)\n",
    "# 안쪽 리스트의 길이 len(students[n])\n",
    "\n",
    "# 2차원 배열의 각 요소의 위치는 (y,x)로 표현 가능\n",
    "\n",
    "# before : (0,0), (0,1),(0,2) ..... y값을 고정하고 x값이 바뀌었음\n",
    "# now : (0,0), (1,0), (2,0) .... x값을 고정하고 y값이 바뀌어야함.\n",
    "\n",
    "\n",
    "for x in range(len(students[0])):\n",
    "    # x : 0,1,2\n",
    "    total = 0\n",
    "    for y in range(len(students)):\n",
    "        total += students[y][x]\n",
    "    print(total)"
   ]
  },
  {
   "cell_type": "code",
   "execution_count": null,
   "metadata": {},
   "outputs": [],
   "source": [
    "# 오늘 과제 \n",
    "\n",
    "students = [\n",
    "    [100,80,100,30],\n",
    "    [90,90,60,30],\n",
    "    [80,80,70]\n",
    "]"
   ]
  }
 ],
 "metadata": {
  "kernelspec": {
   "display_name": "Python 3",
   "language": "python",
   "name": "python3"
  },
  "language_info": {
   "codemirror_mode": {
    "name": "ipython",
    "version": 3
   },
   "file_extension": ".py",
   "mimetype": "text/x-python",
   "name": "python",
   "nbconvert_exporter": "python",
   "pygments_lexer": "ipython3",
   "version": "3.8.7"
  },
  "toc": {
   "base_numbering": 1,
   "nav_menu": {},
   "number_sections": true,
   "sideBar": true,
   "skip_h1_title": false,
   "title_cell": "Table of Contents",
   "title_sidebar": "Contents",
   "toc_cell": false,
   "toc_position": {},
   "toc_section_display": true,
   "toc_window_display": false
  }
 },
 "nbformat": 4,
 "nbformat_minor": 4
}
