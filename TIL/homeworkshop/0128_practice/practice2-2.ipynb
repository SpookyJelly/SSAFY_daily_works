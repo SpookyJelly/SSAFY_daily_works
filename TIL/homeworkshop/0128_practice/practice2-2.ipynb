{
 "cells": [
  {
   "cell_type": "markdown",
   "id": "regional-interval",
   "metadata": {},
   "source": [
    "# Practice 2-2(선택)\n",
    "\n",
    "> OOP(Object-Oriented-Programming)"
   ]
  },
  {
   "cell_type": "markdown",
   "id": "economic-holly",
   "metadata": {},
   "source": [
    "## 포켓몬\n",
    "\n",
    "> 피카츄를 클래스-인스턴스로 구현하세요.\n",
    ">\n",
    "> 게임을 만든다면 아래와 같이 먼저 기획을 하고 코드로 구현하게 됩니다.\n",
    ">\n",
    "> 우선 아래와 같이 구현해 보고, 추가로 앞서 배운 모든 지식을 활용하여 본인이 원하는 대로 구현 및 수정하세요.\n",
    ">\n",
    "> (선택적 도전과제: 랜덤 모듈, 조건문 그리고 반복문 등을 활용하여 전투를 구현해보세요.)\n",
    "---\n",
    "\n",
    "피카츄를 예시로 \n",
    "\n",
    "**모든** 피카츄는 다음과 같은 속성을 갖습니다. \n",
    "* `name`: 이름\n",
    "\n",
    "\n",
    "* `level`: 레벨\n",
    "    * 레벨은 시작할 때 모두 5 입니다.\n",
    "    \n",
    "    \n",
    "* `hp`: 체력\n",
    "    * 체력은 `level` * 20 입니다.\n",
    "    \n",
    "    \n",
    "* `exp`: 경험치\n",
    "    * 상대방을 쓰러뜨리면 상대방 `level` * 15 를 획득합니다.\n",
    "    * 경험치는 `level` * 100 이 되면, 레벨이 하나 올라가고 0부터 추가 됩니다. \n",
    "\n",
    "**모든** 피카츄는 다음과 같은 행동(메서드)을 할 수 있습니다.\n",
    "\n",
    "\n",
    "* `bark()`: 울기. `'pikachu'` 를 출력합니다.\n",
    "\n",
    "\n",
    "* `body_attack()`: 몸통박치기. 상대방의 hp 를 내 `level` * 5 만큼 차감합니다.\n",
    "\n",
    "\n",
    "* `thousond_volt()`: 십만볼트. 상대방의 hp 를 내 `level` * 7 만큼 차감합니다."
   ]
  },
  {
   "cell_type": "code",
   "execution_count": 115,
   "id": "binding-optics",
   "metadata": {},
   "outputs": [],
   "source": [
    "# 아래에 코드를 작성하세요.\n",
    "\n",
    "class Pokemon:\n",
    "    level = 5\n",
    "    exp = 0\n",
    "    hp = level * 20\n",
    "    pika_list = []\n",
    "    def __init__(self,name):\n",
    "        self.name = name\n",
    "        self.level = Pokemon.level\n",
    "        self.hp = Pokemon.hp\n",
    "        self.exp = Pokemon.exp\n",
    "        Pokemon.pika_list.append(name)\n",
    "        \n",
    "    def GetStatus(self):\n",
    "        name = self.name\n",
    "        level = self.level\n",
    "        hp = self.hp\n",
    "        exp = self.exp\n",
    "        print(f\"이름 : {name}, 레벨 : {level}, HP : {hp}, EXP : {exp}\")\n",
    "        \n",
    "    def bark(self):\n",
    "        #d1 = Pokemon('d1')# 클래스 안에서 동일 클래스 생성이 되네...\n",
    "        return print(f'피카피카!! 나는 {self.name}!!') #,Pokemon.pika_list,type(d1))\n",
    "    \n",
    "                #self , enemy 둘다 Pokemon이라는 전제\n",
    "    def body_attack(self,enemy):\n",
    "        # 상대방의 hp를 깍아야한다.\n",
    "        # 상대방 객체가 이 메서드 안에서 사용되어야함...\n",
    "        # 어떻게든 상대방 객체를 끌고 들어와야한다.\n",
    "        # 더미를 만드나? dummy = Pokemon('dummy') 이렇게?\n",
    "        # 그냥 변수 두개 받는 거였다....(self, enemy) 이렇게...\n",
    "        power = self.level * 5\n",
    "        enemy.hp -= power \n",
    "        print(f\"{self.name}의 몸통박치기! {power}의 피해를 입혔다!\")\n",
    "        \n",
    "        if enemy.hp <= 0:\n",
    "            self.exp += enemy.level * 15\n",
    "            self.IsLevelUp()\n",
    "            print(f\"아이고 {enemy.name} 죽네!!\")\n",
    "            del enemy\n",
    "    \n",
    "    def thousond_volt(self,enemy):\n",
    "        power = self.level * 7\n",
    "        enemy.hp -= power\n",
    "        print(f\"{self.name}의 10만볼트!! {power}의 피해를 입혔다!\")\n",
    "        \n",
    "        if enemy.hp <= 0:\n",
    "            self.exp += enemy.level * 15\n",
    "            self.IsLevelUp()\n",
    "            print(f\"아이고 {enemy.name} 죽네!!\")\n",
    "            del enemy\n",
    "\n",
    "    # 이렇게 점접근을 하면 원본을 바꿀수 있다?\n",
    "    # 진짜로 바꿀수 있다. 뭔가 하면서도 어안이 벙벙하다...\n",
    "    def IsLevelUp(self):\n",
    "        if self.exp >= self.level * 100:\n",
    "            self.exp -= self.level * 100\n",
    "            self.level += 1\n",
    "            self.hp = self.level * 20\n",
    "        else:\n",
    "            pass\n",
    "        "
   ]
  },
  {
   "cell_type": "code",
   "execution_count": 116,
   "id": "natural-conspiracy",
   "metadata": {},
   "outputs": [],
   "source": [
    "p1 = Pokemon('피카')\n",
    "p2 = Pokemon('Pica')"
   ]
  },
  {
   "cell_type": "code",
   "execution_count": 90,
   "id": "hispanic-charity",
   "metadata": {},
   "outputs": [
    {
     "name": "stdout",
     "output_type": "stream",
     "text": [
      "이름 : 피카, 레벨 : 6, HP : 120, EXP : 65\n",
      "이름 : Pica, 레벨 : 5, HP : -5, EXP : 490\n"
     ]
    }
   ],
   "source": [
    "p1.GetStatus()\n",
    "p2.GetStatus()"
   ]
  },
  {
   "cell_type": "code",
   "execution_count": 85,
   "id": "brief-warrior",
   "metadata": {},
   "outputs": [
    {
     "name": "stdout",
     "output_type": "stream",
     "text": [
      "피카피카!! 나는 피카!!\n",
      "피카피카!! 나는 Pica!!\n"
     ]
    }
   ],
   "source": [
    "p1.bark()\n",
    "p2.bark()"
   ]
  },
  {
   "cell_type": "code",
   "execution_count": 89,
   "id": "supposed-screening",
   "metadata": {},
   "outputs": [
    {
     "name": "stdout",
     "output_type": "stream",
     "text": [
      "피카의 10만볼트!! 35의 피해를 입혔다!\n",
      "아이고 Pica 죽네!!\n"
     ]
    }
   ],
   "source": [
    "p1.thousond_volt(p2)"
   ]
  },
  {
   "cell_type": "code",
   "execution_count": 46,
   "id": "alive-stone",
   "metadata": {},
   "outputs": [
    {
     "name": "stdout",
     "output_type": "stream",
     "text": [
      "Pica의 몸통박치기! 25의 피해를 입혔다!\n"
     ]
    }
   ],
   "source": [
    "p2.body_attack(p1)"
   ]
  },
  {
   "cell_type": "code",
   "execution_count": 67,
   "id": "guilty-ballet",
   "metadata": {},
   "outputs": [
    {
     "data": {
      "text/plain": [
       "120"
      ]
     },
     "execution_count": 67,
     "metadata": {},
     "output_type": "execute_result"
    }
   ],
   "source": [
    "p1.hp"
   ]
  },
  {
   "cell_type": "code",
   "execution_count": 88,
   "id": "detected-smooth",
   "metadata": {},
   "outputs": [
    {
     "data": {
      "text/plain": [
       "30"
      ]
     },
     "execution_count": 88,
     "metadata": {},
     "output_type": "execute_result"
    }
   ],
   "source": [
    "p2.hp"
   ]
  },
  {
   "cell_type": "code",
   "execution_count": 81,
   "id": "responsible-excellence",
   "metadata": {},
   "outputs": [
    {
     "data": {
      "text/plain": [
       "str"
      ]
     },
     "execution_count": 81,
     "metadata": {},
     "output_type": "execute_result"
    }
   ],
   "source": []
  },
  {
   "cell_type": "code",
   "execution_count": 183,
   "id": "constitutional-eleven",
   "metadata": {},
   "outputs": [
    {
     "name": "stdout",
     "output_type": "stream",
     "text": [
      "시합 시작!\n",
      "\n",
      "['p1'] 86\n",
      "김피카의 10만볼트!! 35의 피해를 입혔다!\n",
      "['p2'] 68\n",
      "박피카의 10만볼트!! 35의 피해를 입혔다!\n",
      "['p1'] 22\n",
      "김피카의 몸통박치기! 25의 피해를 입혔다!\n",
      "['p1'] 23\n",
      "김피카의 10만볼트!! 35의 피해를 입혔다!\n",
      "['p1'] 25\n",
      "김피카의 몸통박치기! 25의 피해를 입혔다!\n",
      "아이고 박피카 죽네!!\n",
      "\n",
      "시합 끝!\n"
     ]
    }
   ],
   "source": [
    "# (선택적 도전과제) 전투 코드 예시\n",
    "\n",
    "'''while 두 포켓몬 중 하나가 쓰러지기 전까지:\n",
    "    1. random을 이용하여 무작위로 공격권 선정 (A = 홀/p1 짝/p2)\n",
    "    1.1 choice로 둘중 하나 고름 , 객체에 할당 (A)\n",
    "    2. 공격권 가진 포켓몬이 상대방 공격! (B)\n",
    "    2.1 B%3--> 0: 울기 1 : 몸통박치기 2 : 10만볼트)\n",
    "    3. 둘 중 하나가 쓰러질 때까지 1~2번 계속 반복'''\n",
    "\n",
    "import random\n",
    "\n",
    "p1 = Pokemon('김피카')\n",
    "p2 = Pokemon('박피카')\n",
    "Pokemon_list = ['p1','p2']\n",
    "\n",
    "print(\"시합 시작!\")\n",
    "print(\"\")\n",
    "\n",
    "while (p1.hp>0 and p2.hp>0):\n",
    "    A = random.sample(Pokemon_list,1) #sample로 하니까 까다롭네... 얘가 list로 뱉어주니까, 이하의 if문 쓰려면 리스트 양식까지 맞춰야한다.. \n",
    "    #A = random.randint(1,100)\n",
    "    B = random.randint(1,100)\n",
    "    print(A,B)\n",
    "    if A == ['p1'] : # p1 공격(짝수)\n",
    "        if B%3 == 0:\n",
    "            p1.bark()\n",
    "        elif B%3 == 1:\n",
    "            p1.body_attack(p2)\n",
    "        else:\n",
    "            p1.thousond_volt(p2)\n",
    "    else: #p2 공격 (홀수)\n",
    "        if B%3 == 0:\n",
    "            p2.bark()\n",
    "        elif B%3 == 1:\n",
    "            p2.body_attack(p1)\n",
    "            \n",
    "        else:\n",
    "            p2.thousond_volt(p1)        \n",
    "print(\"\")\n",
    "print(\"시합 끝!\")\n",
    "    \n",
    "\n"
   ]
  },
  {
   "cell_type": "code",
   "execution_count": null,
   "id": "satisfied-format",
   "metadata": {},
   "outputs": [],
   "source": [
    "# 교수님 코드\n",
    "\n",
    "import random\n",
    "\n",
    "p1 = Pokemon('용재카츄')\n",
    "p2 = Pokemon('미정카츄')\n",
    "\n",
    "# 함수화로 재사용성도 높임\n",
    "def battle(p1, p2):\n",
    "    print('경기... 시작! 🔥')\n",
    "    print()\n",
    "    \n",
    "    skills = ['bark', 'body_attack', 'thousand_volt']\n",
    "    while p1.hp > 0 and p2.hp > 0:\n",
    "        \n",
    "        # 아까 나는 choice가 리스트로 뱉어준다고 해서 어렵다고 했는데,\n",
    "        # 미리 리스트로 처리해서 'p1' 'p2'를 뱉어내도록 했네\n",
    "        attacker = random.choice([p1, p2])\n",
    "        \n",
    "        # *** 변수에 인스턴스를 통째로 넣을수 있다고???\n",
    "        # 아니 생각해보면 맨날 하던 일이잖아.. a = Play_list 이런 식으로 변수 할당하듯 하는 일이군\n",
    "        # 그래도 이렇게까지 유연할줄이야... 그래서 파이썬이 객체 중심 언어라는 것인가?\n",
    "        defender = p1 if attacker == p2 else p2\n",
    "        \n",
    "        #skills에서 랜덤하게 문자열을 뽑아옴\n",
    "        skill = random.choice(skills)\n",
    "        \n",
    "        # 문자열과 맞는 인스턴스 메소드를 실행시킴...\n",
    "        if skill == 'bark':\n",
    "            attacker.bark()\n",
    "        elif skill == 'body_attack':\n",
    "            attacker.body_attack(defender)\n",
    "        elif skill == 'thousand_volt':\n",
    "            attacker.thousand_volt(defender)\n",
    "    \n",
    "    print()\n",
    "    print('경기 종료!')"
   ]
  },
  {
   "cell_type": "code",
   "execution_count": 98,
   "id": "reduced-discrimination",
   "metadata": {},
   "outputs": [],
   "source": [
    "del p2"
   ]
  },
  {
   "cell_type": "code",
   "execution_count": 109,
   "id": "disabled-thanksgiving",
   "metadata": {},
   "outputs": [
    {
     "data": {
      "text/plain": [
       "True"
      ]
     },
     "execution_count": 109,
     "metadata": {},
     "output_type": "execute_result"
    }
   ],
   "source": [
    "bool(-12332)"
   ]
  },
  {
   "cell_type": "code",
   "execution_count": null,
   "id": "included-gossip",
   "metadata": {},
   "outputs": [],
   "source": []
  }
 ],
 "metadata": {
  "kernelspec": {
   "display_name": "Python 3",
   "language": "python",
   "name": "python3"
  },
  "language_info": {
   "codemirror_mode": {
    "name": "ipython",
    "version": 3
   },
   "file_extension": ".py",
   "mimetype": "text/x-python",
   "name": "python",
   "nbconvert_exporter": "python",
   "pygments_lexer": "ipython3",
   "version": "3.8.7"
  },
  "toc": {
   "base_numbering": 1,
   "nav_menu": {},
   "number_sections": true,
   "sideBar": true,
   "skip_h1_title": false,
   "title_cell": "Table of Contents",
   "title_sidebar": "Contents",
   "toc_cell": false,
   "toc_position": {},
   "toc_section_display": true,
   "toc_window_display": false
  }
 },
 "nbformat": 4,
 "nbformat_minor": 5
}
