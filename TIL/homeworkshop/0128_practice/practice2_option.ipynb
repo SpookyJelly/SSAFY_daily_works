{
 "cells": [
  {
   "cell_type": "markdown",
   "metadata": {},
   "source": [
    "# Practice 2(선택)\n",
    "\n",
    "> OOP(Object-Oriented-Programming)"
   ]
  },
  {
   "cell_type": "markdown",
   "metadata": {},
   "source": [
    "## Pair Matching Program\n",
    "\n",
    "> 페어 프로그래밍은 하나의 컴퓨터에서 두 사람의 프로그래머가 작업하는 방식을 의미한다. \n",
    ">\n",
    "> SSAFY 1학기 정규 과정에서 프로젝트는 페어 프로그래밍을 통해 진행한다. 진정한 프로그래머가 되기 위해 김싸피는 페어를 매칭하기 위한 프로그램을 작성하려고 한다. 클래스를 활용해 작성하며 포함되는 메서드는 아래와 같다.\n",
    ">\n",
    "\n",
    "**구성 요소**\n",
    "1. 초기화 메서드는 인자로 학생 이름으로 구성된 리스트를 받아서 인스턴스 변수에 할당한다.\n",
    "2. `pick(n)` 메서드는 학생들 명단에서 인자 n명 만큼 랜덤으로 추출하여 return한다.\n",
    "3. `match_pair()` 메서드는 학생들 명단을 랜덤으로 2명씩 매칭해 준다. 이때, 학생들 명단의 수가 홀수명이면 단 한팀만 3명으로 구성한다.\n",
    "\n",
    "---\n",
    "\n",
    "예시)\n",
    "\n",
    "```python\n",
    "ch = ClassHelper(['김싸피', '이싸피', '조싸피', '박싸피', '정싸피'])\n",
    "\n",
    "ch.pick(1) #=> ['이싸피']\n",
    "ch.pick(1) #=> ['김싸피']\n",
    "ch.pick(2) #=> ['김싸피', '박싸피']\n",
    "ch.pick(3) #=> ['김싸피', '조싸피', '정싸피']\n",
    "ch.pick(4) #=> ['박싸피', '이싸피', '김싸피', '정싸피']\n",
    "\n",
    "ch.match_pair() #=> [['조싸피', '이싸피'], ['김싸피', '정싸피', '박싸피']]\n",
    "```"
   ]
  },
  {
   "cell_type": "code",
   "execution_count": 16,
   "metadata": {},
   "outputs": [],
   "source": [
    "# random 모듈이 필요한데..\n",
    "from random import sample\n",
    "\n",
    "class ClassHelper:\n",
    "    # ~놀라운 사실~ 클래스 선언할때, 모듈을 불러올 수 있다!\n",
    "    # random 모듈에서 sample 메서드를 import 함\n",
    "\n",
    "    \n",
    "    #\n",
    "    def __init__(self,student_list):\n",
    "        self.student_list = student_list\n",
    "        \n",
    "    def pick(self,num):\n",
    "        # A라는 변수가 이 함수 내에서 선언됨과 동시에 할당.자료형 결정?\n",
    "        # 점 접근 안쓰고 변수를 만들어도 적용되는 이유가 이 함수 내에서만\n",
    "        # 사용되는 변수라서? 임시변수 같은 느낌인가???\n",
    "        A = ClassHelper.sample(self.student_list,num)\n",
    "        \n",
    "        # 이것도 그냥 print(list(A))로 해도 무방한데, 그냥 return 붙여봤다.\n",
    "        \n",
    "        return print(list(A))\n",
    "    \n",
    "    def match_pair(self):\n",
    "        # 기본 아이디어\n",
    "        # pair_1을 student_list에서 추리고, student_list - pair_1 = pair_2로 함\n",
    "        # pair_1, pair_2 return\n",
    "        # 근데 리스트는 차집합 연산이 안되므로, set 자료형으로 바꿔서 연산한다.\n",
    "        result = []\n",
    "        pair_1 = sample(self.student_list,2)\n",
    "        while(len(pair_2)>0):\n",
    "            pair_2 = set(self.student_list) - set(pair_1)\n",
    "            result.extend(pair_1)\n",
    "            if len(pair_2) ==3 :\n",
    "                result.extend(pair_2)\n",
    "                break\n",
    "            \n",
    "            pair_1 = sample(pair_2,2)\n",
    "            print(result)"
   ]
  },
  {
   "cell_type": "code",
   "execution_count": 5,
   "metadata": {},
   "outputs": [],
   "source": [
    "# 해당 코드를 통해 올바른 결과가 나오는지 확인하시오.\n",
    "ch = ClassHelper(['김싸피', '이싸피', '조싸피', '박싸피', '정싸피'])"
   ]
  },
  {
   "cell_type": "code",
   "execution_count": 12,
   "metadata": {},
   "outputs": [
    {
     "data": {
      "text/plain": [
       "['이싸피', '정싸피', '박싸피']"
      ]
     },
     "execution_count": 12,
     "metadata": {},
     "output_type": "execute_result"
    }
   ],
   "source": [
    "ch.pick(3)"
   ]
  },
  {
   "cell_type": "code",
   "execution_count": 17,
   "metadata": {},
   "outputs": [],
   "source": [
    "# 구동 잘됨 --> Vscode에서 확인\n",
    "ch.match_pair()"
   ]
  },
  {
   "cell_type": "code",
   "execution_count": 19,
   "metadata": {},
   "outputs": [
    {
     "name": "stdout",
     "output_type": "stream",
     "text": [
      "['남궁싸피', '이싸피', '정싸피']\n",
      "[['이싸피', '김싸피'], ['차싸피', '조싸피'], ['남궁싸피', '박싸피'], ['정싸피', '임싸피']]\n"
     ]
    }
   ],
   "source": [
    "# 위의 코드를 일반화 시킨 버젼\n",
    "# 위의 코드는 학생이 5명인 경우만 원하는 퍼포먼스를 냈다.\n",
    "# 이번 코드는 학생후에 관계 없이 작동한다.\n",
    "from random import sample\n",
    "\n",
    "class ClassHelper:\n",
    "\n",
    "    \n",
    "    \n",
    "    def __init__(self,student_list):\n",
    "        self.student_list = student_list\n",
    "        \n",
    "    def pick(self,num):\n",
    "        A = sample(self.student_list,num)\n",
    "        return print(list(A))\n",
    "    \n",
    "    def match_pair(self):\n",
    "        result = []\n",
    "        pair_1 = sample(self.student_list,2) # list\n",
    "        pair_2 = set(self.student_list) - set(pair_1) #set\n",
    "        while(True):\n",
    "            result.append(pair_1)\n",
    "            \n",
    "            if len(pair_2) <=3 :\n",
    "                result.append(list(pair_2))\n",
    "                break\n",
    "            else:\n",
    "                pair_1 = sample(pair_2,2)\n",
    "                pair_2 = set(pair_2) - set(pair_1)\n",
    "                \n",
    "        return print(result)\n",
    "\n",
    "ch = ClassHelper(['김싸피', '이싸피', '조싸피', '박싸피', '정싸피','차싸피','임싸피','남궁싸피'])\n",
    "ch.pick(3)\n",
    "ch.match_pair()"
   ]
  },
  {
   "cell_type": "code",
   "execution_count": null,
   "metadata": {},
   "outputs": [],
   "source": [
    "# 교수님 버젼\n",
    "\n",
    "def match_pair(self):\n",
    "    # 1. 복사!\n",
    "    students = self.students[:]\n",
    "    # 2. 섞는다! (shuffle은 원본으로 섞는다.)\n",
    "    random.shuffle(students)\n",
    "    \n",
    "    pairs_list = []\n",
    "    \n",
    "    for i in range(0,len(students),2):\n",
    "        if i == len(students) - 3:\n",
    "            pairs = students[i:]\n",
    "            pair_list.append(pairs)\n",
    "            break\n",
    "            \n",
    "            \n",
    "        pairs = students[i:i+2]\n",
    "        pairs_list.append(pairs)\n",
    "    return pairs_list"
   ]
  },
  {
   "cell_type": "code",
   "execution_count": null,
   "metadata": {},
   "outputs": [],
   "source": []
  }
 ],
 "metadata": {
  "kernelspec": {
   "display_name": "Python 3",
   "language": "python",
   "name": "python3"
  },
  "language_info": {
   "codemirror_mode": {
    "name": "ipython",
    "version": 3
   },
   "file_extension": ".py",
   "mimetype": "text/x-python",
   "name": "python",
   "nbconvert_exporter": "python",
   "pygments_lexer": "ipython3",
   "version": "3.8.7"
  },
  "toc": {
   "base_numbering": 1,
   "nav_menu": {},
   "number_sections": true,
   "sideBar": true,
   "skip_h1_title": false,
   "title_cell": "Table of Contents",
   "title_sidebar": "Contents",
   "toc_cell": false,
   "toc_position": {},
   "toc_section_display": true,
   "toc_window_display": false
  }
 },
 "nbformat": 4,
 "nbformat_minor": 4
}
