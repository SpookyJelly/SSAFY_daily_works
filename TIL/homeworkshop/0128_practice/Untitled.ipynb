{
 "cells": [
  {
   "cell_type": "code",
   "execution_count": null,
   "id": "occasional-somalia",
   "metadata": {},
   "outputs": [],
   "source": [
    "class Circle:\n",
    "    pi = 3.14\n",
    "    x = 0\n",
    "    y = 0\n",
    "    r = 0\n",
    "\n",
    "\n",
    "    def __init__(self,r,x,y):\n",
    "        self.r = r\n",
    "        self.x = x\n",
    "        self.y = y\n",
    "\n",
    "    def area(self):\n",
    "        return self.pi * self.r * self.r\n",
    "\n",
    "    def circumference (self):\n",
    "        return 2 * self.pi * self.r\n",
    "\n",
    "\n",
    "    def center(self):\n",
    "        return (self.x, self.y)\n",
    "\n",
    "\n",
    "circle = Circle(3,2,4)\n",
    "\n",
    "print(circle.area())\n",
    "print(circle.circumference())\n",
    "\n"
   ]
  },
  {
   "cell_type": "code",
   "execution_count": 4,
   "id": "magnetic-decision",
   "metadata": {},
   "outputs": [],
   "source": [
    "class Point:\n",
    "    def __init__ (self,x,y):\n",
    "        self.x = x\n",
    "        self.y = y"
   ]
  },
  {
   "cell_type": "code",
   "execution_count": 5,
   "id": "continuing-triangle",
   "metadata": {},
   "outputs": [],
   "source": [
    "p1 = Point(4,3)\n",
    "p2 = Point(1,2)"
   ]
  },
  {
   "cell_type": "code",
   "execution_count": 6,
   "id": "impossible-enhancement",
   "metadata": {},
   "outputs": [
    {
     "name": "stdout",
     "output_type": "stream",
     "text": [
      "4 3\n",
      "1 2\n"
     ]
    }
   ],
   "source": [
    "print(p1.x,p1.y)\n",
    "print(p2.x,p2.y)"
   ]
  },
  {
   "cell_type": "code",
   "execution_count": 15,
   "id": "wanted-auditor",
   "metadata": {},
   "outputs": [],
   "source": [
    "class Rectangle(Point):\n",
    "    \n",
    "    def status(self):\n",
    "        print(f'x 값 :{self.Point1.x},{self.Point2.x}')\n",
    "        print(f'y 값 :{self.Point1.y},{self.Point2.y}')\n",
    "        pass\n",
    "    \n",
    "    def __init__(self,Point1,Point2):\n",
    "        self.Point1 = Point1\n",
    "        self.Point2 = Point2\n",
    "        pass\n",
    "    \n",
    "    def get_area(self):\n",
    "        Point1_x = self.Point1.x\n",
    "        Point1_y = self.Point1.y\n",
    "        Point2_x = self.Point2.x\n",
    "        Point2_y = self.Point2.y\n",
    "        print(Point2_x - Point1_x , Point2_y - Point2_y )\n",
    "        return abs(Point2_x - Point1_x) * abs(Point2_y - Point1_y)"
   ]
  },
  {
   "cell_type": "code",
   "execution_count": 16,
   "id": "retired-commons",
   "metadata": {},
   "outputs": [],
   "source": [
    "R1 = Rectangle(p1,p2)"
   ]
  },
  {
   "cell_type": "code",
   "execution_count": 17,
   "id": "injured-sleeve",
   "metadata": {},
   "outputs": [
    {
     "name": "stdout",
     "output_type": "stream",
     "text": [
      "x 값 :4,1\n",
      "y 값 :3,2\n"
     ]
    }
   ],
   "source": [
    "R1.status()"
   ]
  },
  {
   "cell_type": "code",
   "execution_count": 18,
   "id": "personalized-solution",
   "metadata": {},
   "outputs": [
    {
     "name": "stdout",
     "output_type": "stream",
     "text": [
      "-3 0\n"
     ]
    },
    {
     "data": {
      "text/plain": [
       "3"
      ]
     },
     "execution_count": 18,
     "metadata": {},
     "output_type": "execute_result"
    }
   ],
   "source": [
    "R1.get_area()"
   ]
  },
  {
   "cell_type": "code",
   "execution_count": 14,
   "id": "major-belarus",
   "metadata": {},
   "outputs": [
    {
     "data": {
      "text/plain": [
       "2"
      ]
     },
     "execution_count": 14,
     "metadata": {},
     "output_type": "execute_result"
    }
   ],
   "source": [
    "abs(1-3)"
   ]
  },
  {
   "cell_type": "code",
   "execution_count": null,
   "id": "french-silence",
   "metadata": {},
   "outputs": [],
   "source": [
    "class Point:\n",
    "    def __init__ (self,x,y):\n",
    "        self.x = x\n",
    "        self.y = y\n",
    "\n",
    "class Rectangle(Point):\n",
    "\n",
    "    def status(self):\n",
    "        print(f'x 값 :{self.Point1.x},{self.Point2.x}')\n",
    "        print(f'y 값 :{self.Point1.y},{self.Point2.y}')\n",
    "        pass\n",
    "    \n",
    "    def __init__(self,Point1,Point2):\n",
    "        self.Point1 = Point1\n",
    "        self.Point2 = Point2\n",
    "        pass\n",
    "    \n",
    "    def get_area(self):\n",
    "        Point1_x = self.Point1.x\n",
    "        Point1_y = self.Point1.y\n",
    "        Point2_x = self.Point2.x\n",
    "        Point2_y = self.Point2.y\n",
    "        print(abs(Point2_x - Point1_x) * abs(Point2_y - Point1_y))\n",
    "\n",
    "    def get_perimeter(self):\n",
    "        Point1_x = self.Point1.x\n",
    "        Point1_y = self.Point1.y\n",
    "        Point2_x = self.Point2.x\n",
    "        Point2_y = self.Point2.y\n",
    "        length = abs(Point2_x - Point1_x)\n",
    "        height = abs(Point2_y - Point1_y)\n",
    "        print(2*(length + height))\n",
    "\n",
    "    def is_square(self):\n",
    "        Point1_x = self.Point1.x\n",
    "        Point1_y = self.Point1.y\n",
    "        Point2_x = self.Point2.x\n",
    "        Point2_y = self.Point2.y\n",
    "        length = abs(Point2_x - Point1_x)\n",
    "        height = abs(Point2_y - Point1_y) \n",
    "        if length == height:\n",
    "            return True\n",
    "        return False\n",
    "\n",
    "\n",
    "p1 = Point(4,3)\n",
    "p2 = Point(1,2)\n",
    "print(p1.x,p1.y)\n",
    "print(p2.x,p2.y)\n",
    "R1 = Rectangle(p1,p2)\n",
    "R1.status()\n",
    "print(R1.get_area())\n",
    "print(R1.get_perimeter())\n",
    "print(R1.is_square())"
   ]
  },
  {
   "cell_type": "code",
   "execution_count": 30,
   "id": "passive-gathering",
   "metadata": {},
   "outputs": [
    {
     "name": "stdout",
     "output_type": "stream",
     "text": [
      "x 값 :1,3\n",
      "y 값 :3,1\n",
      "4\n",
      "8\n",
      "True\n",
      "x 값 :3,6\n",
      "y 값 :7,4\n",
      "9\n",
      "12\n",
      "True\n"
     ]
    }
   ],
   "source": [
    "class Point:\n",
    "    def __init__ (self,x,y):\n",
    "        self.x = x\n",
    "        self.y = y\n",
    "\n",
    "class Rectangle(Point):\n",
    "    def status(self):\n",
    "        a = self.x\n",
    "        b = self.y\n",
    "        print(f'x 값 :{a.x},{b.x}')\n",
    "        print(f'y 값 :{a.y},{b.y}')\n",
    "    \n",
    "    \n",
    "    def get_area(self):\n",
    "        a = self.x\n",
    "        b = self.y\n",
    "        return abs(a.x - b.x) * abs(a.y - b.y)\n",
    "\n",
    "    def get_perimeter(self):\n",
    "        a = self.x\n",
    "        b = self.y\n",
    "        length = abs(a.x - b.x)\n",
    "        height = abs(a.y - b.y)\n",
    "        return 2*(length + height)\n",
    "\n",
    "    def is_square(self):\n",
    "        a = self.x\n",
    "        b = self.y\n",
    "        length = abs(a.x - b.x)\n",
    "        height = abs(a.y - b.y) \n",
    "        if length == height:\n",
    "            return True\n",
    "        return False\n",
    "\n",
    "\n",
    "p1 = Point(1,3)\n",
    "p2 = Point(3,1)\n",
    "r1 = Rectangle(p1,p2)\n",
    "r1.status()\n",
    "print(r1.get_area())\n",
    "print(r1.get_perimeter())\n",
    "print(r1.is_square())\n",
    "p3 = Point(3,7)\n",
    "p4 = Point(6,4)\n",
    "r2 = Rectangle(p3,p4)\n",
    "r2.status()\n",
    "print(r2.get_area())\n",
    "print(r2.get_perimeter())\n",
    "print(r2.is_square())"
   ]
  },
  {
   "cell_type": "code",
   "execution_count": null,
   "id": "approximate-texas",
   "metadata": {},
   "outputs": [],
   "source": []
  }
 ],
 "metadata": {
  "kernelspec": {
   "display_name": "Python 3",
   "language": "python",
   "name": "python3"
  },
  "language_info": {
   "codemirror_mode": {
    "name": "ipython",
    "version": 3
   },
   "file_extension": ".py",
   "mimetype": "text/x-python",
   "name": "python",
   "nbconvert_exporter": "python",
   "pygments_lexer": "ipython3",
   "version": "3.8.7"
  },
  "toc": {
   "base_numbering": 1,
   "nav_menu": {},
   "number_sections": true,
   "sideBar": true,
   "skip_h1_title": false,
   "title_cell": "Table of Contents",
   "title_sidebar": "Contents",
   "toc_cell": false,
   "toc_position": {},
   "toc_section_display": true,
   "toc_window_display": false
  }
 },
 "nbformat": 4,
 "nbformat_minor": 5
}
