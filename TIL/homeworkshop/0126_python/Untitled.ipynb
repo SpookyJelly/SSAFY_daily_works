{
 "cells": [
  {
   "cell_type": "code",
   "execution_count": 3,
   "id": "resistant-strip",
   "metadata": {},
   "outputs": [
    {
     "name": "stdout",
     "output_type": "stream",
     "text": [
      "[1, 2, 3, 4, 5]\n",
      "[3, 2, 1, 5, 4]\n",
      "[1, 2, 3, 4, 5]\n"
     ]
    }
   ],
   "source": [
    "a = [3,2,1,5,4]\n",
    "b = a[:]\n",
    "a.sort()\n",
    "print(a)\n",
    "c = sorted(b)\n",
    "print(b)\n",
    "print(c)"
   ]
  },
  {
   "cell_type": "code",
   "execution_count": 6,
   "id": "waiting-warning",
   "metadata": {},
   "outputs": [
    {
     "ename": "TypeError",
     "evalue": "'int' object is not iterable",
     "output_type": "error",
     "traceback": [
      "\u001b[1;31m---------------------------------------------------------------------------\u001b[0m",
      "\u001b[1;31mTypeError\u001b[0m                                 Traceback (most recent call last)",
      "\u001b[1;32m<ipython-input-6-7473d08201a0>\u001b[0m in \u001b[0;36m<module>\u001b[1;34m\u001b[0m\n\u001b[0;32m      2\u001b[0m \u001b[0mb\u001b[0m \u001b[1;33m=\u001b[0m \u001b[1;33m[\u001b[0m\u001b[1;33m]\u001b[0m\u001b[1;33m\u001b[0m\u001b[1;33m\u001b[0m\u001b[0m\n\u001b[0;32m      3\u001b[0m \u001b[1;33m\u001b[0m\u001b[0m\n\u001b[1;32m----> 4\u001b[1;33m \u001b[0ma\u001b[0m\u001b[1;33m.\u001b[0m\u001b[0mextend\u001b[0m\u001b[1;33m(\u001b[0m\u001b[1;36m1\u001b[0m\u001b[1;33m)\u001b[0m\u001b[1;33m\u001b[0m\u001b[1;33m\u001b[0m\u001b[0m\n\u001b[0m\u001b[0;32m      5\u001b[0m \u001b[0mb\u001b[0m\u001b[1;33m.\u001b[0m\u001b[0mappend\u001b[0m\u001b[1;33m(\u001b[0m\u001b[1;36m1\u001b[0m\u001b[1;33m)\u001b[0m\u001b[1;33m\u001b[0m\u001b[1;33m\u001b[0m\u001b[0m\n\u001b[0;32m      6\u001b[0m \u001b[1;33m\u001b[0m\u001b[0m\n",
      "\u001b[1;31mTypeError\u001b[0m: 'int' object is not iterable"
     ]
    }
   ],
   "source": [
    "a = []\n",
    "b = []\n",
    "\n",
    "a.extend([1])\n",
    "b.append(1)\n",
    "\n",
    "print(a , b)"
   ]
  },
  {
   "cell_type": "code",
   "execution_count": 13,
   "id": "romance-moderator",
   "metadata": {},
   "outputs": [
    {
     "name": "stdout",
     "output_type": "stream",
     "text": [
      "2535882696256 2535882696256\n",
      "[1, 2, 5, 4, 5]\n",
      "[1, 2, 5, 4, 5]\n"
     ]
    }
   ],
   "source": [
    "a = [1,2,3,4,5]\n",
    "b = a\n",
    "\n",
    "a[2] = 5\n",
    "\n",
    "print(a)\n",
    "print(b)"
   ]
  },
  {
   "cell_type": "code",
   "execution_count": 15,
   "id": "increasing-houston",
   "metadata": {},
   "outputs": [
    {
     "ename": "TypeError",
     "evalue": "'set' object does not support item assignment",
     "output_type": "error",
     "traceback": [
      "\u001b[1;31m---------------------------------------------------------------------------\u001b[0m",
      "\u001b[1;31mTypeError\u001b[0m                                 Traceback (most recent call last)",
      "\u001b[1;32m<ipython-input-15-70feae7facc6>\u001b[0m in \u001b[0;36m<module>\u001b[1;34m\u001b[0m\n\u001b[0;32m      2\u001b[0m \u001b[0mb\u001b[0m \u001b[1;33m=\u001b[0m \u001b[0ma\u001b[0m\u001b[1;33m\u001b[0m\u001b[1;33m\u001b[0m\u001b[0m\n\u001b[0;32m      3\u001b[0m \u001b[1;33m\u001b[0m\u001b[0m\n\u001b[1;32m----> 4\u001b[1;33m \u001b[0ma\u001b[0m\u001b[1;33m[\u001b[0m\u001b[1;36m1\u001b[0m\u001b[1;33m]\u001b[0m \u001b[1;33m=\u001b[0m \u001b[1;36m5\u001b[0m\u001b[1;33m\u001b[0m\u001b[1;33m\u001b[0m\u001b[0m\n\u001b[0m\u001b[0;32m      5\u001b[0m \u001b[1;33m\u001b[0m\u001b[0m\n\u001b[0;32m      6\u001b[0m \u001b[0mprint\u001b[0m\u001b[1;33m(\u001b[0m\u001b[0ma\u001b[0m\u001b[1;33m)\u001b[0m\u001b[1;33m\u001b[0m\u001b[1;33m\u001b[0m\u001b[0m\n",
      "\u001b[1;31mTypeError\u001b[0m: 'set' object does not support item assignment"
     ]
    }
   ],
   "source": [
    "a = {1,2,3,4,5}\n",
    "b = a\n",
    "\n",
    "a[1] = 5\n",
    "\n",
    "print(a)\n",
    "print(b)"
   ]
  },
  {
   "cell_type": "code",
   "execution_count": 16,
   "id": "pretty-navigator",
   "metadata": {},
   "outputs": [
    {
     "ename": "TypeError",
     "evalue": "'set' object is not subscriptable",
     "output_type": "error",
     "traceback": [
      "\u001b[1;31m---------------------------------------------------------------------------\u001b[0m",
      "\u001b[1;31mTypeError\u001b[0m                                 Traceback (most recent call last)",
      "\u001b[1;32m<ipython-input-16-c8d590def00b>\u001b[0m in \u001b[0;36m<module>\u001b[1;34m\u001b[0m\n\u001b[0;32m      1\u001b[0m \u001b[0ma\u001b[0m \u001b[1;33m=\u001b[0m \u001b[1;33m{\u001b[0m\u001b[1;36m1\u001b[0m\u001b[1;33m,\u001b[0m\u001b[1;36m2\u001b[0m\u001b[1;33m,\u001b[0m\u001b[1;36m3\u001b[0m\u001b[1;33m}\u001b[0m\u001b[1;33m\u001b[0m\u001b[1;33m\u001b[0m\u001b[0m\n\u001b[1;32m----> 2\u001b[1;33m \u001b[0mprint\u001b[0m\u001b[1;33m(\u001b[0m\u001b[0ma\u001b[0m\u001b[1;33m[\u001b[0m\u001b[1;36m0\u001b[0m\u001b[1;33m]\u001b[0m\u001b[1;33m)\u001b[0m\u001b[1;33m\u001b[0m\u001b[1;33m\u001b[0m\u001b[0m\n\u001b[0m",
      "\u001b[1;31mTypeError\u001b[0m: 'set' object is not subscriptable"
     ]
    }
   ],
   "source": [
    "a = {1,2,3}\n",
    "print(a[0])"
   ]
  },
  {
   "cell_type": "code",
   "execution_count": 65,
   "id": "divine-breast",
   "metadata": {},
   "outputs": [],
   "source": [
    "# 접근법\n",
    "# 1. set으로 word의 중복된 문자열 제거\n",
    "# 2. 그 set을 다시 list로 만들고, 그 list에 대해서 word.remove 돌림\n",
    "# 3. word 리턴\n",
    "def duplicated_letters(word):\n",
    "    word = list(word) #string 타입은 .remove() 메서드가 없으므로, list로 변경\n",
    "    clean_word = list(set(word))\n",
    "    for cword in clean_word:\n",
    "        word.remove(cword)\n",
    "    word = list(set(word))\n",
    "    return word"
   ]
  },
  {
   "cell_type": "code",
   "execution_count": 66,
   "id": "funded-complexity",
   "metadata": {},
   "outputs": [
    {
     "data": {
      "text/plain": [
       "['a', 'n']"
      ]
     },
     "execution_count": 66,
     "metadata": {},
     "output_type": "execute_result"
    }
   ],
   "source": [
    "duplicated_letters('banana')"
   ]
  },
  {
   "cell_type": "code",
   "execution_count": 77,
   "id": "laughing-creator",
   "metadata": {},
   "outputs": [],
   "source": [
    "# 접근법\n",
    "# 1. 일단 싹 다 소문자로 변환\n",
    "# 2. 소/대 카운트할 cnt 변수 생성\n",
    "# 3. 각 문자열 순회하면서 소문자, 대문자 변환\n",
    "# 4. cnt가 짝수이면 소문자로, 홀수이면 대문자로 변경\n",
    "def low_and_up(word):\n",
    "    word = list(word.lower())\n",
    "    cnt = 0\n",
    "    for idx in range(len(word)): # str 타입은 item assignment가 안되서 list로 바꿈\n",
    "        if cnt % 2 == 0 :\n",
    "            word[idx] = word[idx].lower()\n",
    "        else:\n",
    "            word[idx] = word[idx].upper()\n",
    "        cnt += 1\n",
    "    result = ''.join(word)\n",
    "    return result"
   ]
  },
  {
   "cell_type": "code",
   "execution_count": 78,
   "id": "corrected-deputy",
   "metadata": {},
   "outputs": [
    {
     "data": {
      "text/plain": [
       "'aPpLe'"
      ]
     },
     "execution_count": 78,
     "metadata": {},
     "output_type": "execute_result"
    }
   ],
   "source": [
    "low_and_up('APPLE')"
   ]
  },
  {
   "cell_type": "code",
   "execution_count": 72,
   "id": "prompt-simulation",
   "metadata": {},
   "outputs": [
    {
     "data": {
      "text/plain": [
       "'QWEQWE'"
      ]
     },
     "execution_count": 72,
     "metadata": {},
     "output_type": "execute_result"
    }
   ],
   "source": [
    "'qweqwe'.upper()"
   ]
  },
  {
   "cell_type": "code",
   "execution_count": 85,
   "id": "knowing-punishment",
   "metadata": {},
   "outputs": [],
   "source": [
    "# 접근법\n",
    "\n",
    "# 0. 중복을 제거해야겠지만, return 값에 순서가 있어야 하므로, set은 사용할 수 없다.\n",
    "# 1. remove 메소드를 무수히 많이 돌린 후 그 결과를 반환할까봐도 생각했는데, 출제의도와는 다른 것 같다.\n",
    "# 2. 따라서, 빈 리스트 tem_list를 하나 만들고, 조건에 맞는 리터럴만 append(혹은 extend) 하자.\n",
    "# 3. 각 리터럴을 추려서 다른 리스트에 넣어야하므로, 인덱스 통한 접근을 해야한다.\n",
    "# 4. for range 문과 무관한, 이전 문자를 뜻하는 변수 tem_letter를 만들자\n",
    "# 4.1 만일 for문 순회 중, 현재 문자와 tem_letter가 동일하다면, 해당 루프 생략\n",
    "# 4.2 만일 다르다면, 현재 문자 append. tem_letter 변경\n",
    "# 5. return tem_list\n",
    "\n",
    "def lonely(list_1):\n",
    "    tem_list = []\n",
    "    tem_letter = 'ㄱ' # 이전 값을 받아 줄 임시 변수\n",
    "    for idx in range(len(list_1)): # element = int\n",
    "        if tem_letter == list_1[idx]:\n",
    "            continue\n",
    "        else: # tem_letter != list_1[idx]\n",
    "            tem_list.append(list_1[idx])\n",
    "            tem_letter = list_1[idx]\n",
    "    print(tem_list)\n",
    "\n",
    "    "
   ]
  },
  {
   "cell_type": "code",
   "execution_count": 87,
   "id": "tight-devon",
   "metadata": {},
   "outputs": [
    {
     "name": "stdout",
     "output_type": "stream",
     "text": [
      "[1, 3, 0, 1]\n",
      "[4, 3]\n"
     ]
    }
   ],
   "source": [
    "lonely([1,1,3,3,0,1,1])\n",
    "lonely([4,4,4,3,3])"
   ]
  },
  {
   "cell_type": "code",
   "execution_count": null,
   "id": "starting-librarian",
   "metadata": {},
   "outputs": [],
   "source": []
  }
 ],
 "metadata": {
  "kernelspec": {
   "display_name": "Python 3",
   "language": "python",
   "name": "python3"
  },
  "language_info": {
   "codemirror_mode": {
    "name": "ipython",
    "version": 3
   },
   "file_extension": ".py",
   "mimetype": "text/x-python",
   "name": "python",
   "nbconvert_exporter": "python",
   "pygments_lexer": "ipython3",
   "version": "3.8.7"
  },
  "toc": {
   "base_numbering": 1,
   "nav_menu": {},
   "number_sections": true,
   "sideBar": true,
   "skip_h1_title": false,
   "title_cell": "Table of Contents",
   "title_sidebar": "Contents",
   "toc_cell": false,
   "toc_position": {},
   "toc_section_display": true,
   "toc_window_display": false
  }
 },
 "nbformat": 4,
 "nbformat_minor": 5
}
