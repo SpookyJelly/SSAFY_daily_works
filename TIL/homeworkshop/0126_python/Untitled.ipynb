{
 "cells": [
  {
   "cell_type": "code",
   "execution_count": 41,
   "id": "associate-montreal",
   "metadata": {},
   "outputs": [],
   "source": [
    "def duplicated_letters(word):\n",
    "    letter_dic= {}\n",
    "    result = []\n",
    "    for letter in word:\n",
    "        letter_dic.setdefault(letter,0)\n",
    "        letter_dic[letter] += 1\n",
    "        if letter_dic[letter]>=2:\n",
    "            result.append(letter)\n",
    "    print(sorted(set(result)))"
   ]
  },
  {
   "cell_type": "code",
   "execution_count": 42,
   "id": "beginning-soccer",
   "metadata": {},
   "outputs": [
    {
     "name": "stdout",
     "output_type": "stream",
     "text": [
      "['a', 'n']\n"
     ]
    }
   ],
   "source": [
    "duplicated_letters('banana')"
   ]
  },
  {
   "cell_type": "code",
   "execution_count": 30,
   "id": "unlikely-nevada",
   "metadata": {},
   "outputs": [],
   "source": [
    "def duplicated_letters(word):\n",
    "    letter_dic= {}\n",
    "    result = []\n",
    "    for letter in word:\n",
    "        letter_dic[letter] = letter_dic.get(letter,0)+1\n",
    "    print(letter_dic)"
   ]
  },
  {
   "cell_type": "code",
   "execution_count": 31,
   "id": "timely-animal",
   "metadata": {},
   "outputs": [
    {
     "name": "stdout",
     "output_type": "stream",
     "text": [
      "{'b': 1, 'a': 3, 'n': 2}\n"
     ]
    }
   ],
   "source": [
    "duplicated_letters('banana')"
   ]
  },
  {
   "cell_type": "code",
   "execution_count": 43,
   "id": "finished-meditation",
   "metadata": {},
   "outputs": [],
   "source": [
    "# 수정 코드\n",
    "def duplicated_letters(word):\n",
    "    word = list(word) \n",
    "    clean_word = list(set(word))\n",
    "    for cword in clean_word:\n",
    "        word.remove(cword)\n",
    "        print(clean\n",
    "    word = list(set(word)) #for문 순회 이후 list->set->list 형 변형으로 중복 제거 후 반환\n",
    "    return word"
   ]
  },
  {
   "cell_type": "code",
   "execution_count": 44,
   "id": "hungarian-reunion",
   "metadata": {},
   "outputs": [
    {
     "data": {
      "text/plain": [
       "['a', 'e']"
      ]
     },
     "execution_count": 44,
     "metadata": {},
     "output_type": "execute_result"
    }
   ],
   "source": [
    "duplicated_letters('asaaaaaeeeaa')"
   ]
  },
  {
   "cell_type": "code",
   "execution_count": null,
   "id": "precious-carol",
   "metadata": {},
   "outputs": [],
   "source": []
  }
 ],
 "metadata": {
  "kernelspec": {
   "display_name": "Python 3",
   "language": "python",
   "name": "python3"
  },
  "language_info": {
   "codemirror_mode": {
    "name": "ipython",
    "version": 3
   },
   "file_extension": ".py",
   "mimetype": "text/x-python",
   "name": "python",
   "nbconvert_exporter": "python",
   "pygments_lexer": "ipython3",
   "version": "3.8.7"
  },
  "toc": {
   "base_numbering": 1,
   "nav_menu": {},
   "number_sections": true,
   "sideBar": true,
   "skip_h1_title": false,
   "title_cell": "Table of Contents",
   "title_sidebar": "Contents",
   "toc_cell": false,
   "toc_position": {},
   "toc_section_display": true,
   "toc_window_display": false
  }
 },
 "nbformat": 4,
 "nbformat_minor": 5
}
