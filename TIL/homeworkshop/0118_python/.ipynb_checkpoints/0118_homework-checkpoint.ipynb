{
 "cells": [
  {
   "cell_type": "code",
   "execution_count": 3,
   "id": "satisfied-crystal",
   "metadata": {},
   "outputs": [
    {
     "name": "stdout",
     "output_type": "stream",
     "text": [
      "['False', 'None', 'True', 'and', 'as', 'assert', 'async', 'await', 'break', 'class', 'continue', 'def', 'del', 'elif', 'else', 'except', 'finally', 'for', 'from', 'global', 'if', 'import', 'in', 'is', 'lambda', 'nonlocal', 'not', 'or', 'pass', 'raise', 'return', 'try', 'while', 'with', 'yield']\n"
     ]
    }
   ],
   "source": [
    "#1번.\n",
    "\n",
    "'''\n",
    "python에서 사용할 수 없는 식별자(예약어)를 찾아 작성하시요\n",
    "'''\n",
    "import keyword\n",
    "print(keyword.kwlist)"
   ]
  },
  {
   "cell_type": "code",
   "execution_count": 8,
   "id": "thermal-campaign",
   "metadata": {},
   "outputs": [
    {
     "name": "stdout",
     "output_type": "stream",
     "text": [
      "False\n",
      "True\n",
      "True\n",
      "True\n"
     ]
    }
   ],
   "source": [
    "#2번. 실수 비교\n",
    "\n",
    "'''\n",
    "python은 부동 소수점 방식을 이용하여 실수를 표현하는 과정에서, 나태내고자 하는 값과의\n",
    "오차가 발생하여 원하는 대로 연산 또는 비교가 되지 않을 때가 있다. 이를 참고하여,\n",
    "아래와 같은 두 실수 값을 올바르게 비교하기 위한 코드를 작성하시오.\n",
    "\n",
    "'''\n",
    "\n",
    "num1 = 0.1 * 3\n",
    "num2 = 0.3\n",
    "\n",
    "# wrong\n",
    "print(num1 == num2)\n",
    "\n",
    "# correct\n",
    "import math\n",
    "print(math.isclose(num1,num2))\n",
    "\n",
    "# correct2\n",
    "if abs(num1-num2) < 1e-10:\n",
    "    print('True')\n",
    "\n",
    "# correct3\n",
    "import sys\n",
    "print(abs(num1-num2)<= sys.float_info.epsilon)"
   ]
  },
  {
   "cell_type": "code",
   "execution_count": 9,
   "id": "intensive-vault",
   "metadata": {},
   "outputs": [
    {
     "name": "stdout",
     "output_type": "stream",
     "text": [
      "이것은 \n",
      "줄 바꿈입니다.\n",
      "이것은 \t 탭 입니다.\n",
      "이것은 백 슬래시입니다\b\n"
     ]
    }
   ],
   "source": [
    "# 3번. 이스케이프 시퀀스\n",
    "'''\n",
    "1) 줄 바꿈, 2) 탭, 3) 백 슬래시를 의미하는 이스케이프 시퀀스를 작성하시오.\n",
    "\n",
    "'''\n",
    "\n",
    "print(\"이것은 \\n줄 바꿈입니다.\")\n",
    "print('이것은 \\t 탭 입니다.')\n",
    "print('이것은 백 슬래시입니다\\b')"
   ]
  },
  {
   "cell_type": "code",
   "execution_count": 13,
   "id": "patient-distance",
   "metadata": {},
   "outputs": [
    {
     "name": "stdout",
     "output_type": "stream",
     "text": [
      "안녕, 철수야\n",
      "안녕, 철수야\n",
      "안녕, 철수야\n"
     ]
    }
   ],
   "source": [
    "#4번 String Interpolation\n",
    "'''\n",
    "'안녕, 철수야'를 string interpolation을 사용하여 출력하시오.\n",
    "\n",
    "'''\n",
    "name = '철수'\n",
    "\n",
    "#1번 방식 : % formatting\n",
    "print('안녕, %s야'%name)\n",
    "\n",
    "#2번 방식 : format 함수 사용\n",
    "print(\"안녕, {0}야\".format(name))\n",
    "\n",
    "#3번 방식 : f-string 활용\n",
    "print(f'안녕, {name}야')\n"
   ]
  },
  {
   "cell_type": "code",
   "execution_count": null,
   "id": "canadian-colombia",
   "metadata": {},
   "outputs": [],
   "source": [
    "# 5. 형 변환\n",
    "'''\n",
    "다음 중, 실행 시 오류가 발생하는 코드를 고르시오.\n",
    "'''\n",
    "str(1) #(1) int --> str\n",
    "int('30') #(2) str --> int\n",
    "int(5) #(3) int --> int\n",
    "bool('50') # (4) str --> bool --> 1(True)\n",
    "int('3.5') #(5)  --> int 함수는 정수꼴로 바꿀수 있는 숫자만 반환할 수 있다. 3.5는 float이라서 안된다."
   ]
  },
  {
   "cell_type": "code",
   "execution_count": 4,
   "id": "superb-belly",
   "metadata": {},
   "outputs": [
    {
     "name": "stdout",
     "output_type": "stream",
     "text": [
      "*****\n",
      "*   *\n",
      "*   *\n",
      "*   *\n",
      "*   *\n",
      "*   *\n",
      "*   *\n",
      "*   *\n",
      "*****\n"
     ]
    }
   ],
   "source": [
    "# 6 . 네모 출력\n",
    "'''\n",
    "두 개의 정수 n과 m이 주어졌을 때, 가로의 길이가 n, 세로의 길이가 m인 직사각형 형태를\n",
    "별(*) 문자를 이용하여 출력하시오. 단, 반복문을 사용할 수 없다.\n",
    "\n",
    "'''\n",
    "n = 5\n",
    "m = 9\n",
    "\n",
    "print('*'*n)\n",
    "print('*','','','*')\n",
    "print('*','','','*')\n",
    "print('*','','','*')\n",
    "print('*','','','*')\n",
    "print('*','','','*')\n",
    "print('*','','','*')\n",
    "print('*','','','*')\n",
    "print('*'*n)"
   ]
  },
  {
   "cell_type": "code",
   "execution_count": 3,
   "id": "interpreted-likelihood",
   "metadata": {},
   "outputs": [
    {
     "name": "stdout",
     "output_type": "stream",
     "text": [
      "*****\n",
      "*****\n",
      "*****\n",
      "*****\n",
      "*****\n",
      "*****\n",
      "*****\n",
      "*****\n",
      "*****\n"
     ]
    }
   ],
   "source": [
    "n = 5\n",
    "m = 9\n",
    "\n",
    "width = '*' * n + '\\n'\n",
    "\n",
    "print(width * m, end='')"
   ]
  },
  {
   "cell_type": "code",
   "execution_count": 53,
   "id": "aggregate-spine",
   "metadata": {},
   "outputs": [
    {
     "name": "stdout",
     "output_type": "stream",
     "text": [
      "\"파일은 c:/Windows/Users/내문서/Python에 저장이 되었습니다.\"\n",
      "나는 생각했다. 'cd를 써서 git bash로 들어가 봐야지.'\n"
     ]
    }
   ],
   "source": [
    "#7. 이스케이프 시퀀스 응용\n",
    "'''\n",
    "print()함수를 한번만 사용하여 다음 문장을 출력하시오.\n",
    "\n",
    "\"파일은 c:/windows/Users/내문서/Python에 저장이 되었습니다.\"\n",
    "나는 생각했다. 'cd를 써서 git bash로 들어가 봐야지.'\n",
    "'''\n",
    "print('\\\"파일은 c:/Windows/Users/내문서/Python에 저장이 되었습니다.\"\\n나는 생각했다. \\'cd를 써서 git bash로 들어가 봐야지.\\'')"
   ]
  },
  {
   "cell_type": "code",
   "execution_count": 58,
   "id": "likely-simpson",
   "metadata": {},
   "outputs": [
    {
     "data": {
      "text/plain": [
       "(1.0, -3.0)"
      ]
     },
     "execution_count": 58,
     "metadata": {},
     "output_type": "execute_result"
    }
   ],
   "source": [
    "#8. 근의 공식\n",
    "'''\n",
    "근의 공식을 파이썬 코드로 작성하시오.\n",
    "'''\n",
    "\n",
    "def qf(a,b,c):\n",
    "    ans1 = (-b + (b**2-4*a*c)**0.5)/2*a\n",
    "    ans2 = (-b - (b**2-4*a*c)**0.5)/2*a\n",
    "    return (ans1,ans2)\n",
    "\n",
    "qf(1,2,-3)"
   ]
  }
 ],
 "metadata": {
  "kernelspec": {
   "display_name": "Python 3",
   "language": "python",
   "name": "python3"
  },
  "language_info": {
   "codemirror_mode": {
    "name": "ipython",
    "version": 3
   },
   "file_extension": ".py",
   "mimetype": "text/x-python",
   "name": "python",
   "nbconvert_exporter": "python",
   "pygments_lexer": "ipython3",
   "version": "3.8.7"
  }
 },
 "nbformat": 4,
 "nbformat_minor": 5
}
