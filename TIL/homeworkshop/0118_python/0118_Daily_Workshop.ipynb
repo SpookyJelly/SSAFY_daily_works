{
 "cells": [
  {
   "cell_type": "code",
   "execution_count": 2,
   "id": "blond-restaurant",
   "metadata": {},
   "outputs": [
    {
     "name": "stdout",
     "output_type": "stream",
     "text": [
      "10\n",
      "1\n",
      "2\n",
      "3\n",
      "4\n",
      "5\n",
      "6\n",
      "7\n",
      "8\n",
      "9\n",
      "10\n"
     ]
    }
   ],
   "source": [
    "#1 세로로 출력하기\n",
    "'''\n",
    "자연수 number를 입력 받아, 1부터 number까지의 수를 세로로 한줄 씩 출력하시오.\n",
    "\n",
    "'''\n",
    "\n",
    "number = int(input())\n",
    "for num in range(1,number+1):\n",
    "    print(num)"
   ]
  },
  {
   "cell_type": "code",
   "execution_count": 3,
   "id": "nearby-directive",
   "metadata": {},
   "outputs": [
    {
     "name": "stdout",
     "output_type": "stream",
     "text": [
      "10\n",
      "1 2 3 4 5 6 7 8 9 10 "
     ]
    }
   ],
   "source": [
    "# 2. 가로로 출력하기\n",
    "'''\n",
    "자연수 number를 입력받아, 1부터 number 까지의 수를 가로로 한칸씩 띄어 출력하시오.\n",
    "'''\n",
    "number =int(input())\n",
    "for num in range(1,number+1):\n",
    "    print(num, end =' ')"
   ]
  },
  {
   "cell_type": "code",
   "execution_count": 6,
   "id": "threatened-digit",
   "metadata": {},
   "outputs": [
    {
     "name": "stdout",
     "output_type": "stream",
     "text": [
      "5\n",
      "5\n",
      "4\n",
      "3\n",
      "2\n",
      "1\n",
      "0\n"
     ]
    }
   ],
   "source": [
    "# 3. 거꾸로 세로로 출력하기\n",
    "'''\n",
    "자연수 number를 입력 받아, number부터 0까지의 수를 세로로 한 줄 씩 출력하시오.\n",
    "'''\n",
    "\n",
    "number = int(input())\n",
    "for num in range(number,-1,-1):\n",
    "    print(num)"
   ]
  },
  {
   "cell_type": "code",
   "execution_count": 7,
   "id": "dangerous-nightmare",
   "metadata": {},
   "outputs": [
    {
     "name": "stdout",
     "output_type": "stream",
     "text": [
      "5\n",
      "5 4 3 2 1 0 "
     ]
    }
   ],
   "source": [
    "#4 거꾸로 출력해 보아요 (SWEA #1545)\n",
    "'''\n",
    "자연수 number를 입력 받아, number부터 0까지의 수를 가로로 한 칸 씩 띄어 출력하시오.\n",
    "'''\n",
    "number = int(input())\n",
    "for num in range(number,-1,-1):\n",
    "    print(num, end = ' ')"
   ]
  },
  {
   "cell_type": "code",
   "execution_count": 9,
   "id": "honey-bathroom",
   "metadata": {},
   "outputs": [
    {
     "name": "stdout",
     "output_type": "stream",
     "text": [
      "10\n",
      "55\n"
     ]
    }
   ],
   "source": [
    "#5. N줄 덧셈 (SWEA #2025)\n",
    "'''\n",
    "입력으로 자연수 number가 주어질 때, 1부터 주어진 자연수 number까지를 모두 더한 값을\n",
    "출력하시오. 단, 주어지는 숫자는 10000을 넘지 않는다. 예를 들어, 주어진 숫자가 10일 경우\n",
    "1+2+3+4+5+6+7+8+9+10 = 55 이므로, 출력해야할 값은 55이다.\n",
    "'''\n",
    "number = int(input())\n",
    "total = 0\n",
    "for num in range(1,number+1):\n",
    "    total += num\n",
    "print(total)"
   ]
  },
  {
   "cell_type": "code",
   "execution_count": null,
   "id": "excited-chair",
   "metadata": {},
   "outputs": [],
   "source": []
  }
 ],
 "metadata": {
  "kernelspec": {
   "display_name": "Python 3",
   "language": "python",
   "name": "python3"
  },
  "language_info": {
   "codemirror_mode": {
    "name": "ipython",
    "version": 3
   },
   "file_extension": ".py",
   "mimetype": "text/x-python",
   "name": "python",
   "nbconvert_exporter": "python",
   "pygments_lexer": "ipython3",
   "version": "3.8.7"
  }
 },
 "nbformat": 4,
 "nbformat_minor": 5
}
