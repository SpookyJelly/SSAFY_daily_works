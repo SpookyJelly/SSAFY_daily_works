{
 "cells": [
  {
   "cell_type": "markdown",
   "metadata": {},
   "source": [
    "# Practice 1\n",
    "\n",
    "> 데이터 & 제어문"
   ]
  },
  {
   "cell_type": "markdown",
   "metadata": {},
   "source": [
    "## 갯수 구하기\n",
    "\n",
    "> 주어진 리스트의 요소는 학생 이름으로 구성되어 있다. 학생들의 수를 출력하시오.\n",
    "\n",
    "---\n",
    "\n",
    "```\n",
    "[출력 예시]\n",
    "3\n",
    "```"
   ]
  },
  {
   "cell_type": "code",
   "execution_count": 22,
   "metadata": {
    "ExecuteTime": {
     "end_time": "2020-07-20T07:21:43.556594Z",
     "start_time": "2020-07-20T07:21:43.553351Z"
    }
   },
   "outputs": [
    {
     "name": "stdout",
     "output_type": "stream",
     "text": [
      "3\n"
     ]
    }
   ],
   "source": [
    "students = ['김철수', '이영희', '조민지']\n",
    "\n",
    "# 아래에 코드를 작성하시오.\n",
    "cnt = 0\n",
    "for member in students:\n",
    "    cnt +=1\n",
    "print(cnt)"
   ]
  },
  {
   "cell_type": "markdown",
   "metadata": {},
   "source": [
    "## 득표수 구하기\n",
    "\n",
    "> 주어진 리스트는 반장 선거 투표 결과이다. 이영희의 총 득표수를 출력하시오.\n",
    "\n",
    "---\n",
    "\n",
    "```\n",
    "[출력 예시]\n",
    "4\n",
    "```"
   ]
  },
  {
   "cell_type": "code",
   "execution_count": 7,
   "metadata": {},
   "outputs": [
    {
     "name": "stdout",
     "output_type": "stream",
     "text": [
      "4\n"
     ]
    }
   ],
   "source": [
    "students = ['이영희', '김철수', '이영희', '조민지', '김철수', '조민지', '이영희', '이영희']\n",
    "\n",
    "# 아래에 코드를 작성하시오.\n",
    "\n",
    "cnt = 0\n",
    "for member in students:\n",
    "    if member == '이영희':\n",
    "        cnt+=1\n",
    "print(cnt)"
   ]
  },
  {
   "cell_type": "markdown",
   "metadata": {},
   "source": [
    "## 최댓값 구하기\n",
    "\n",
    "> 주어진 리스트의 요소 중에서 최댓값을 출력하시오.\n",
    "\n",
    "---\n",
    "```\n",
    "[출력 예시]\n",
    "22\n",
    "```"
   ]
  },
  {
   "cell_type": "code",
   "execution_count": 19,
   "metadata": {},
   "outputs": [
    {
     "name": "stdout",
     "output_type": "stream",
     "text": [
      "22\n"
     ]
    }
   ],
   "source": [
    "numbers = [7, 10, 22, 4, 3, 17]\n",
    "\n",
    "# 아래에 코드를 작성하시오.\n",
    "maxi = numbers[0]\n",
    "for num in numbers:\n",
    "    # 1. 하나씩 꺼내서 비교한다.\n",
    "    if maxi >= num:\n",
    "        # 2. 현재 최대값보다 크면 바꾼다.\n",
    "        maxi = maxi\n",
    "    else:\n",
    "        maxi = num\n",
    "print(maxi)"
   ]
  },
  {
   "cell_type": "markdown",
   "metadata": {},
   "source": [
    "## 최솟값 구하기\n",
    "\n",
    "> 주어진 리스트의 요소 중에서 최솟값을 출력하시오.\n",
    "---\n",
    "```\n",
    "[출력 예시]\n",
    "3\n",
    "```"
   ]
  },
  {
   "cell_type": "code",
   "execution_count": 20,
   "metadata": {},
   "outputs": [
    {
     "name": "stdout",
     "output_type": "stream",
     "text": [
      "3\n"
     ]
    }
   ],
   "source": [
    "numbers = [7, 10, 22, 4, 3, 17]\n",
    "\n",
    "# 아래에 코드를 작성하시오.\n",
    "\n",
    "mini = numbers[0]\n",
    "for num in numbers:\n",
    "    if mini <= num:\n",
    "        mini = mini\n",
    "    else:\n",
    "        mini = num\n",
    "print(mini)"
   ]
  },
  {
   "cell_type": "markdown",
   "metadata": {},
   "source": [
    "## 최댓값과 등장 횟수 구하기\n",
    "\n",
    "> 주어진 리스트의 요소 중에서 최댓값과 등장 횟수를 출력하시오.\n",
    "\n",
    "---\n",
    "\n",
    "```\n",
    "[출력 예시]\n",
    "22 3\n",
    "```"
   ]
  },
  {
   "cell_type": "code",
   "execution_count": 6,
   "metadata": {
    "ExecuteTime": {
     "end_time": "2020-07-20T07:14:08.319167Z",
     "start_time": "2020-07-20T07:14:08.316606Z"
    }
   },
   "outputs": [
    {
     "name": "stdout",
     "output_type": "stream",
     "text": [
      "22 3\n"
     ]
    }
   ],
   "source": [
    "numbers = [7, 10, 22, 7, 22, 22]\n",
    "\n",
    "# 아래에 코드를 작성하시오.\n",
    "\n",
    "cnt = 0\n",
    "maxi = numbers[0]\n",
    "# 1. 주어진 숫자 리스트 순회\n",
    "for num in numbers:\n",
    "    # 2. 해당 숫자가 크면\n",
    "    if maxi >= num:\n",
    "        # 3. 교체하고\n",
    "        maxi = maxi\n",
    "        # 4. 교체하면서 카운트를 증가시키고\n",
    "        cnt +=1\n",
    "    else:\n",
    "        maxi = num\n",
    "        cnt = 0\n",
    "        \n",
    "print(maxi,cnt)"
   ]
  },
  {
   "cell_type": "markdown",
   "metadata": {},
   "source": [
    "## 5의 개수 구하기\n",
    "\n",
    "> 주어진 리스트의 요소 중에서 5의 개수를 출력하시오.\n",
    "---\n",
    "```\n",
    "[출력 예시]\n",
    "3\n",
    "```"
   ]
  },
  {
   "cell_type": "code",
   "execution_count": 12,
   "metadata": {},
   "outputs": [
    {
     "name": "stdout",
     "output_type": "stream",
     "text": [
      "3\n"
     ]
    }
   ],
   "source": [
    "numbers = [7, 17, 10, 5, 4, 3, 17, 5, 2, 5]\n",
    "\n",
    "# 아래에 코드를 작성하시오.\n",
    "cnt = 0\n",
    "for idx in range(len(numbers)):\n",
    "    if numbers[idx] == 5:\n",
    "        cnt +=1\n",
    "print(cnt)"
   ]
  },
  {
   "cell_type": "markdown",
   "metadata": {},
   "source": [
    "## 'a'가 싫어\n",
    "\n",
    "\n",
    "> 입력으로 짧은 영단어 word가 주어질 때, 해당 단어에서 'a'를 모두 제거한 결과를 출력하시오.\n",
    "\n",
    "---\n",
    "```\n",
    "[입력 예시]\n",
    "apple\n",
    "\n",
    "[출력 예시]\n",
    "pple\n",
    "```"
   ]
  },
  {
   "cell_type": "code",
   "execution_count": 22,
   "metadata": {},
   "outputs": [
    {
     "name": "stdout",
     "output_type": "stream",
     "text": [
      "apple\n",
      "pple\n"
     ]
    }
   ],
   "source": [
    "word = input()\n",
    "\n",
    "# 아래에 코드를 작성하시오.\n",
    "\n",
    "for i in range(len(word)):\n",
    "    word = word.replace('a','')\n",
    "print(word)"
   ]
  },
  {
   "cell_type": "code",
   "execution_count": 21,
   "metadata": {},
   "outputs": [
    {
     "name": "stdout",
     "output_type": "stream",
     "text": [
      "apple\n",
      "pple"
     ]
    }
   ],
   "source": [
    "# 다른 방향의 작성\n",
    "\n",
    "word = input()\n",
    "word_list = list(word) # str 타입인 word를 mutable한 list로 변환\n",
    "for idx in range(len(word)):\n",
    "    if word_list[idx] == 'a': # 만약에 리스트의 값이 'a'면\n",
    "        word_list[idx] = 0 # 0으로 치환\n",
    "\n",
    "for char in word_list: # 리스트에 있는 리터럴을 대상으로 검사\n",
    "    if char != 0: # 아까 치환했던 0 (한때 a 였던 것들) 이 아니라면\n",
    "        print(char, end = '') # 출력"
   ]
  },
  {
   "cell_type": "markdown",
   "metadata": {},
   "source": [
    "## 단어 뒤집기\n",
    "\n",
    "> 입력으로 짧은 영어단어 word가 주어질 때, 해당 단어를 역순으로 뒤집은 결과를 출력하시오.\n",
    "\n",
    "---\n",
    "```\n",
    "[입력 예시]\n",
    "apple\n",
    "\n",
    "[출력 예시]\n",
    "elppa\n",
    "```"
   ]
  },
  {
   "cell_type": "code",
   "execution_count": 25,
   "metadata": {},
   "outputs": [
    {
     "name": "stdout",
     "output_type": "stream",
     "text": [
      "apple\n",
      "elppa"
     ]
    }
   ],
   "source": [
    "word = input()\n",
    "\n",
    "# 아래에 코드를 작성하시오.\n",
    "\n",
    "# 1. 입력받은 단어를 맨 뒤에서부터 하나씩 꺼낸다.\n",
    "\n",
    "for idx in range(len(word)-1,-1,-1):\n",
    "    print(word[idx], end='')"
   ]
  },
  {
   "cell_type": "code",
   "execution_count": 35,
   "metadata": {},
   "outputs": [
    {
     "name": "stdout",
     "output_type": "stream",
     "text": [
      "apple\n",
      "elppa\n"
     ]
    }
   ],
   "source": [
    "# 2. reversed 함수를 이용한다\n",
    "word = input()\n",
    "word_list = list(word)\n",
    "print(''.join(reversed(word_list)))"
   ]
  }
 ],
 "metadata": {
  "kernelspec": {
   "display_name": "Python 3",
   "language": "python",
   "name": "python3"
  },
  "language_info": {
   "codemirror_mode": {
    "name": "ipython",
    "version": 3
   },
   "file_extension": ".py",
   "mimetype": "text/x-python",
   "name": "python",
   "nbconvert_exporter": "python",
   "pygments_lexer": "ipython3",
   "version": "3.8.7"
  },
  "toc": {
   "base_numbering": 1,
   "nav_menu": {},
   "number_sections": true,
   "sideBar": true,
   "skip_h1_title": false,
   "title_cell": "Table of Contents",
   "title_sidebar": "Contents",
   "toc_cell": false,
   "toc_position": {},
   "toc_section_display": true,
   "toc_window_display": false
  }
 },
 "nbformat": 4,
 "nbformat_minor": 4
}
