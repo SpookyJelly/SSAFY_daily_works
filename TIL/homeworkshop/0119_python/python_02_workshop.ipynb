{
 "cells": [
  {
   "cell_type": "markdown",
   "metadata": {},
   "source": [
    "# Workshop\n",
    "> 데이터 & 제어문"
   ]
  },
  {
   "cell_type": "markdown",
   "metadata": {},
   "source": [
    "## 1. 간단한 N의 약수 (SWEA #1933)\n",
    "\n",
    "> 입력으로 1개의 정수 N이 주어진다. 정수 N의 약수를 오름차순으로 출력하는 프로그램을 작성하시오.\n",
    "\n",
    "---\n",
    "\n",
    "```\n",
    "[제약 사항]\n",
    "N은 1이상 1,000이하의 정수이다. (1 ≤ N ≤ 1,000)\n",
    " \n",
    "[입력 예시]\n",
    "입력으로 정수 N이 주어진다.\n",
    "\n",
    "[출력 예시]\n",
    "정수 N의 모든 약수를 오름차순으로 출력한다.\n",
    "```"
   ]
  },
  {
   "cell_type": "code",
   "execution_count": 2,
   "metadata": {},
   "outputs": [
    {
     "name": "stdout",
     "output_type": "stream",
     "text": [
      "10\n",
      "1 2 5 10 "
     ]
    }
   ],
   "source": [
    "N = int(input())\n",
    "\n",
    "# 아래에 코드를 작성하시오.\n",
    "\n",
    "for i in range(1,N+1):\n",
    "    if N % i == 0:\n",
    "        print(i , end = ' ')"
   ]
  },
  {
   "cell_type": "markdown",
   "metadata": {},
   "source": [
    "## 2. 중간값 찾기 (SWEA #2063 변형)\n",
    "\n",
    "> 중간값은 통계 집단의 수치를 크기 순으로 배열 했을 때 전체의 중앙에 위치하는 수치를 뜻한다. 리스트 numbers에 입력된 숫자에서 중간값을 출력하라.\n",
    "\n",
    "---\n",
    "```python\n",
    "[출력 예시]\n",
    "64\n",
    "```"
   ]
  },
  {
   "cell_type": "code",
   "execution_count": 35,
   "metadata": {},
   "outputs": [
    {
     "name": "stdout",
     "output_type": "stream",
     "text": [
      "[11, 22, 23, 24, 24, 25, 31, 38, 49, 49, 51, 52, 60, 60, 61, 63, 64, 65, 66, 67, 68, 69, 71, 72, 80, 80, 83, 85, 87, 90, 94, 96, 99] 33\n",
      "64\n"
     ]
    }
   ],
   "source": [
    "numbers = [\n",
    "    85, 72, 38, 80, 69, 65, 68, 96, 22, 49, 67,\n",
    "    51, 61, 63, 87, 66, 24, 80, 83, 71, 60, 64, \n",
    "    52, 90, 60, 49, 31, 23, 99, 94, 11, 25, 24\n",
    "]\n",
    "# 아래에 코드를 작성하시오.\n",
    "cnt = 0\n",
    "while(cnt <=100):\n",
    "    for idx in range(0,len(numbers)-1):\n",
    "        if numbers[idx]< numbers[idx+1]:\n",
    "            pass\n",
    "        else :\n",
    "            numbers[idx],numbers[idx+1] = numbers[idx+1],numbers[idx]\n",
    "    cnt +=1\n",
    "print(numbers , len(numbers))\n",
    "print(numbers[len(numbers)//2])"
   ]
  },
  {
   "cell_type": "code",
   "execution_count": null,
   "metadata": {},
   "outputs": [],
   "source": [
    "# sorted 이용한 풀이\n",
    "numbers = [\n",
    "    85, 72, 38, 80, 69, 65, 68, 96, 22, 49, 67,\n",
    "    51, 61, 63, 87, 66, 24, 80, 83, 71, 60, 64, \n",
    "    52, 90, 60, 49, 31, 23, 99, 94, 11, 25, 24\n",
    "]\n",
    "\n",
    "# 1. sorted()\n",
    "numbers = sorted(numbers)\n",
    "\n",
    "# 2. list.sort()\n",
    "# numbers.sort()\n",
    "\n",
    "n = len(numbers)\n",
    "print(numbers[n//2])"
   ]
  },
  {
   "cell_type": "markdown",
   "metadata": {},
   "source": [
    "## 3. 계단 만들기\n",
    "\n",
    "> 자연수 number를 입력 받아, 아래와 같이 높이가 number인 내려가는 계단을 출력하시오.\n",
    "\n",
    "---\n",
    "```\n",
    "[입력 예시]\n",
    "4\n",
    "\n",
    "[출력 예시]\n",
    "1\n",
    "1 2\n",
    "1 2 3\n",
    "1 2 3 4\n",
    "```"
   ]
  },
  {
   "cell_type": "code",
   "execution_count": 1,
   "metadata": {},
   "outputs": [
    {
     "name": "stdout",
     "output_type": "stream",
     "text": [
      "4\n",
      "1 \n",
      "1 2 \n",
      "1 2 3 \n",
      "1 2 3 4 \n"
     ]
    }
   ],
   "source": [
    "number = int(input())\n",
    "# 아래에 코드를 작성하시오.\n",
    "cnt = 0\n",
    "# 계단을 k개 만큼 만들어주는데,\n",
    "for k in range(number):\n",
    "    cnt += 1\n",
    "    # 각 칸에서 현재 칸의 높이 (i)까지 1부터 오른쪽으로 출력해 줘\n",
    "    for i in range(1,cnt+1):\n",
    "        print(i , end = ' ') # 1번\n",
    "    print('')  # 2번\n",
    "    # 원래 2번 자리에 \\n을 써서 계단이 엄청 커졌다.\n",
    "    # print('')을 출력하니 바로 다음줄에 이어서 출력을 한다 --> print 함수의 특성임 : 출력 후 다음 줄로 넘어가는 것\n",
    "    # 그래서 공백을 출력 시키면, 공백은 보이질 않고, 바로 1번으로 넘어간다."
   ]
  },
  {
   "cell_type": "code",
   "execution_count": 6,
   "metadata": {},
   "outputs": [
    {
     "name": "stdout",
     "output_type": "stream",
     "text": [
      "4\n",
      "1 \n",
      "1 2 \n",
      "1 2 3 \n",
      "1 2 3 4 \n"
     ]
    }
   ],
   "source": [
    "# 교수님 풀이 \n",
    "number = int(input())\n",
    "# \"연결하기\" 기능을 사용했다\n",
    "stair = ''\n",
    "for i in range(1,number+1):\n",
    "    stair +=str(i) + ' '\n",
    "    print(stair)"
   ]
  },
  {
   "cell_type": "code",
   "execution_count": 2,
   "metadata": {},
   "outputs": [
    {
     "name": "stdout",
     "output_type": "stream",
     "text": [
      "4\n",
      "1\n",
      "1 2\n",
      "1 2 3\n",
      "1 2 3 4\n"
     ]
    }
   ],
   "source": [
    "# 다른 풀이 \n",
    "\n",
    "# 아래에 코드를 작성하시오.\n",
    "number = int(input())\n",
    "# my_list = ['1', '2', ..., 'number']\n",
    "my_list = list(map(str, list(range(1, number+1))))\n",
    "\n",
    "for idx in range(len(my_list)):\n",
    "    print(\" \".join(my_list[:idx+1]))"
   ]
  },
  {
   "cell_type": "code",
   "execution_count": null,
   "metadata": {},
   "outputs": [],
   "source": [
    "# 다른 풀이 2\n",
    "\n",
    "x = 1\n",
    "result = str()\n",
    "\n",
    "while x <= number:\n",
    "    result = result + str(x)\n",
    "    print(result)\n",
    "    x += 1"
   ]
  }
 ],
 "metadata": {
  "kernelspec": {
   "display_name": "Python 3",
   "language": "python",
   "name": "python3"
  },
  "language_info": {
   "codemirror_mode": {
    "name": "ipython",
    "version": 3
   },
   "file_extension": ".py",
   "mimetype": "text/x-python",
   "name": "python",
   "nbconvert_exporter": "python",
   "pygments_lexer": "ipython3",
   "version": "3.8.7"
  }
 },
 "nbformat": 4,
 "nbformat_minor": 4
}
