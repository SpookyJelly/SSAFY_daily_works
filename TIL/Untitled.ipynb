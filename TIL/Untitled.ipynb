{
 "cells": [
  {
   "cell_type": "markdown",
   "id": "bacterial-emergency",
   "metadata": {},
   "source": [
    "# 오늘부터 SSAFY 정규과정이 시작된다.\n",
    "   ## 주피터 노트북을 이용한 개발환경을 구축했다.\n",
    "   \n",
    "   - 마크다운 문법도 활용할 수 있다.\n",
    "   - 명령모드는 enter로 진입가능. 문법모드는 esc로 진입가능\n",
    "   - 도움말은 명령모드에서 (셀 선택이 파란색이 되었을때) h 키 누르기\n",
    "   - 아래에 셀 추가는 b, 위에 추가는 a"
   ]
  },
  {
   "cell_type": "code",
   "execution_count": null,
   "id": "defined-august",
   "metadata": {},
   "outputs": [],
   "source": []
  },
  {
   "cell_type": "code",
   "execution_count": null,
   "id": "violent-occupation",
   "metadata": {},
   "outputs": [],
   "source": []
  },
  {
   "cell_type": "markdown",
   "id": "incorporate-spice",
   "metadata": {},
   "source": []
  },
  {
   "cell_type": "code",
   "execution_count": null,
   "id": "aggregate-brooklyn",
   "metadata": {},
   "outputs": [],
   "source": []
  }
 ],
 "metadata": {
  "kernelspec": {
   "display_name": "Python 3",
   "language": "python",
   "name": "python3"
  },
  "language_info": {
   "codemirror_mode": {
    "name": "ipython",
    "version": 3
   },
   "file_extension": ".py",
   "mimetype": "text/x-python",
   "name": "python",
   "nbconvert_exporter": "python",
   "pygments_lexer": "ipython3",
   "version": "3.8.7"
  }
 },
 "nbformat": 4,
 "nbformat_minor": 5
}
