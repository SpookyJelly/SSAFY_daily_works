{
 "cells": [
  {
   "cell_type": "code",
   "execution_count": 3,
   "id": "comic-angle",
   "metadata": {},
   "outputs": [
    {
     "name": "stdout",
     "output_type": "stream",
     "text": [
      "7 4 2 0 0 6 7\n",
      "7\n"
     ]
    }
   ],
   "source": [
    "box = list(map(int,input().split()))\n",
    "maxi = box[0]\n",
    "for i in range(len(box)):\n",
    "    cnt = 0\n",
    "    for j in range(i+1,len(box)):\n",
    "        if box[i]>box[j]:\n",
    "            cnt += 1\n",
    "        if maxi < cnt:\n",
    "            maxi = cnt\n",
    "print(maxi)"
   ]
  },
  {
   "cell_type": "code",
   "execution_count": 22,
   "id": "rough-aruba",
   "metadata": {},
   "outputs": [
    {
     "name": "stdout",
     "output_type": "stream",
     "text": [
      "[True, False] [True, True] [True, False]\n",
      "베이비 진이 아닙니다.\n",
      "베이비 진입니다.\n",
      "베이비 진이 아닙니다.\n"
     ]
    }
   ],
   "source": [
    "def baby(lst):\n",
    "    triplet, run = True,True\n",
    "    for i in range(len(lst)-1):\n",
    "        if lst[i]== lst[i+1] == lst[i+2]:\n",
    "            triplet = True\n",
    "            break\n",
    "        else :\n",
    "            triplet = False\n",
    "        if lst[i+2]-lst[i+1] and lst[i+1]-lst[i]:\n",
    "            run = True\n",
    "            break\n",
    "        else:\n",
    "\n",
    "            run = False\n",
    "    return [triplet, run]\n",
    "    \n",
    "\n",
    "\n",
    "\n",
    "# 먼저 정렬을 해야겠다.\n",
    "\n",
    "card1 = [6,6,7,7,7]\n",
    "card2 = [0,5,4,0,6,0]\n",
    "card3 = [1,0,1,1,2,3]\n",
    "\n",
    "a = baby(sorted(card1))\n",
    "b = baby(sorted(card2))\n",
    "c = baby(sorted(card3))\n",
    "print(a, b , c)\n",
    "for i in [a,b,c]:\n",
    "    if i[0] and i[1]:\n",
    "        print(\"베이비 진입니다.\")\n",
    "    else:\n",
    "        print(\"베이비 진이 아닙니다.\")"
   ]
  },
  {
   "cell_type": "code",
   "execution_count": null,
   "id": "million-baker",
   "metadata": {},
   "outputs": [],
   "source": []
  }
 ],
 "metadata": {
  "kernelspec": {
   "display_name": "Python 3",
   "language": "python",
   "name": "python3"
  },
  "language_info": {
   "codemirror_mode": {
    "name": "ipython",
    "version": 3
   },
   "file_extension": ".py",
   "mimetype": "text/x-python",
   "name": "python",
   "nbconvert_exporter": "python",
   "pygments_lexer": "ipython3",
   "version": "3.8.7"
  },
  "toc": {
   "base_numbering": 1,
   "nav_menu": {},
   "number_sections": true,
   "sideBar": true,
   "skip_h1_title": false,
   "title_cell": "Table of Contents",
   "title_sidebar": "Contents",
   "toc_cell": false,
   "toc_position": {},
   "toc_section_display": true,
   "toc_window_display": false
  }
 },
 "nbformat": 4,
 "nbformat_minor": 5
}
