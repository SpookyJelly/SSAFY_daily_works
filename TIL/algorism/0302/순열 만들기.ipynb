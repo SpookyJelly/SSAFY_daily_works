{
 "cells": [
  {
   "cell_type": "code",
   "execution_count": 69,
   "id": "particular-banks",
   "metadata": {},
   "outputs": [],
   "source": [
    "def per(k):\n",
    "    if k == N:\n",
    "        print(sel)\n",
    "        result.append(sel[:]) # 원본 복사해줘야한다\n",
    "    for i in range(N):\n",
    "        if not visited[i]:\n",
    "            sel[k] = i\n",
    "            visited[i] = True\n",
    "            per(k+1)\n",
    "            visited[i] = False\n",
    "            "
   ]
  },
  {
   "cell_type": "code",
   "execution_count": 70,
   "id": "inappropriate-entity",
   "metadata": {},
   "outputs": [
    {
     "name": "stdout",
     "output_type": "stream",
     "text": [
      "[0, 1, 2]\n",
      "[0, 2, 1]\n",
      "[1, 0, 2]\n",
      "[1, 2, 0]\n",
      "[2, 0, 1]\n",
      "[2, 1, 0]\n"
     ]
    }
   ],
   "source": [
    "N = 3\n",
    "visited = [False] * N\n",
    "sel = [0 for _ in range(N)]\n",
    "result = []\n",
    "per(0)"
   ]
  },
  {
   "cell_type": "code",
   "execution_count": 71,
   "id": "knowing-quantum",
   "metadata": {},
   "outputs": [
    {
     "data": {
      "text/plain": [
       "[[0, 1, 2], [0, 2, 1], [1, 0, 2], [1, 2, 0], [2, 0, 1], [2, 1, 0]]"
      ]
     },
     "execution_count": 71,
     "metadata": {},
     "output_type": "execute_result"
    }
   ],
   "source": [
    "result"
   ]
  },
  {
   "cell_type": "code",
   "execution_count": 55,
   "id": "medieval-medicine",
   "metadata": {},
   "outputs": [
    {
     "name": "stdout",
     "output_type": "stream",
     "text": [
      "[0, 1, 2]\n",
      "[0, 2, 1]\n",
      "[1, 0, 2]\n",
      "[1, 2, 0]\n",
      "[2, 0, 1]\n",
      "[2, 1, 0]\n"
     ]
    }
   ],
   "source": [
    "per(0)"
   ]
  },
  {
   "cell_type": "code",
   "execution_count": 60,
   "id": "introductory-being",
   "metadata": {},
   "outputs": [
    {
     "name": "stdout",
     "output_type": "stream",
     "text": [
      "10 20 30 total: 60\n",
      "\n",
      "10 30 20 total: 60\n",
      "\n",
      "20 10 30 total: 60\n",
      "\n",
      "20 30 10 total: 60\n",
      "\n",
      "30 10 20 total: 60\n",
      "\n",
      "30 20 10 total: 60\n",
      "\n",
      "10 20 30 total: 60\n",
      "\n",
      "10 30 20 total: 60\n",
      "\n",
      "20 10 30 total: 60\n",
      "\n",
      "20 30 10 total: 60\n",
      "\n",
      "30 10 20 total: 60\n",
      "\n",
      "30 20 10 total: 60\n",
      "\n"
     ]
    }
   ],
   "source": [
    "BRD = [10,20,30]\n",
    "for elem in result:\n",
    "    total = 0\n",
    "    for i in range(len(elem)):\n",
    "        print(BRD[elem[i]], end = ' ')\n",
    "        total += BRD[elem[i]]\n",
    "    print('total:', total)\n",
    "    print()"
   ]
  },
  {
   "cell_type": "code",
   "execution_count": 61,
   "id": "demanding-dover",
   "metadata": {},
   "outputs": [],
   "source": [
    "sel = [0 for _ in range(N)]"
   ]
  },
  {
   "cell_type": "code",
   "execution_count": 62,
   "id": "expired-final",
   "metadata": {},
   "outputs": [
    {
     "name": "stdout",
     "output_type": "stream",
     "text": [
      "[0, 0, 0]\n"
     ]
    }
   ],
   "source": [
    "print(sel)"
   ]
  },
  {
   "cell_type": "code",
   "execution_count": null,
   "id": "outstanding-robertson",
   "metadata": {},
   "outputs": [],
   "source": []
  }
 ],
 "metadata": {
  "kernelspec": {
   "display_name": "Python 3",
   "language": "python",
   "name": "python3"
  },
  "language_info": {
   "codemirror_mode": {
    "name": "ipython",
    "version": 3
   },
   "file_extension": ".py",
   "mimetype": "text/x-python",
   "name": "python",
   "nbconvert_exporter": "python",
   "pygments_lexer": "ipython3",
   "version": "3.8.7"
  },
  "toc": {
   "base_numbering": 1,
   "nav_menu": {},
   "number_sections": true,
   "sideBar": true,
   "skip_h1_title": false,
   "title_cell": "Table of Contents",
   "title_sidebar": "Contents",
   "toc_cell": false,
   "toc_position": {},
   "toc_section_display": true,
   "toc_window_display": false
  }
 },
 "nbformat": 4,
 "nbformat_minor": 5
}
