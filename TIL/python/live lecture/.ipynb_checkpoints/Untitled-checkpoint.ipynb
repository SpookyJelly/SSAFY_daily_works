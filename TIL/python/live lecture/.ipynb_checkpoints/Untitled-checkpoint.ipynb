{
 "cells": [
  {
   "cell_type": "code",
   "execution_count": 1,
   "id": "powered-robin",
   "metadata": {},
   "outputs": [
    {
     "name": "stdout",
     "output_type": "stream",
     "text": [
      "300,100,300\n"
     ]
    }
   ],
   "source": [
    "def f2(a):\n",
    "    global y\n",
    "    y+= a\n",
    "    x = 500\n",
    "    print(y, end=',')\n",
    "\n",
    "x = 100\n",
    "y = 200\n",
    "f2(x)\n",
    "print(x, end=',')\n",
    "print(y)"
   ]
  },
  {
   "cell_type": "code",
   "execution_count": 6,
   "id": "ultimate-pointer",
   "metadata": {},
   "outputs": [
    {
     "name": "stdout",
     "output_type": "stream",
     "text": [
      "hello\n",
      "10\n"
     ]
    }
   ],
   "source": [
    "a = 10\n",
    "\n",
    "if a> 5 :\n",
    "    print('hello')\n",
    "else :\n",
    "    print('bye')\n",
    "if a>3:\n",
    "    a = 10\n",
    "elif a>=2:\n",
    "    a = 3\n",
    "else:\n",
    "    a= 5\n",
    "\n",
    "print(a)\n"
   ]
  },
  {
   "cell_type": "code",
   "execution_count": 9,
   "id": "blank-documentary",
   "metadata": {},
   "outputs": [
    {
     "name": "stdout",
     "output_type": "stream",
     "text": [
      "hello\n",
      "4\n",
      "3\n",
      "4\n"
     ]
    }
   ],
   "source": [
    "a = 10\n",
    "b = 10\n",
    "\n",
    "if a>7:\n",
    "    print('hello')\n",
    "    if b>5:\n",
    "        a=3\n",
    "        b=4\n",
    "    else:\n",
    "        print(b)\n",
    "        if b==4:\n",
    "            print(a)\n",
    "if a>5:\n",
    "    print(a)\n",
    "    print(b)\n",
    "    if b>3:\n",
    "        print(b)\n",
    "else:\n",
    "    print(b)\n",
    "    print(a)\n",
    "    if b>3:\n",
    "        print(b)"
   ]
  },
  {
   "cell_type": "code",
   "execution_count": null,
   "id": "complete-trustee",
   "metadata": {},
   "outputs": [],
   "source": [
    "# 다음을 실행시켰을때의 결과는? (빈칸은 줄바꿈으로 가정한다.)\n",
    "\n",
    "1) hello 3 4 4  2) hello 4 3 4  3) hello 3 4 3 4  4) hello 3 3 4 4 "
   ]
  },
  {
   "cell_type": "code",
   "execution_count": 22,
   "id": "revised-bunny",
   "metadata": {},
   "outputs": [
    {
     "name": "stdout",
     "output_type": "stream",
     "text": [
      "0\n",
      "1\n",
      "3\n",
      "5\n"
     ]
    }
   ],
   "source": [
    "for i in range(6):\n",
    "    if i%2:\n",
    "        pass\n",
    "        print(i)\n",
    "    elif i%3:\n",
    "        continue\n",
    "        print(i)\n",
    "    else:\n",
    "        print(i)\n",
    "    "
   ]
  },
  {
   "cell_type": "code",
   "execution_count": null,
   "id": "tribal-specialist",
   "metadata": {},
   "outputs": [],
   "source": [
    "# 다음을 실행시켰을때의 결과는?\n",
    "\n",
    "1) 0 1 3 5  2) 0 2 4  3) 1 3 5  4) 0 1 2 4 5 "
   ]
  }
 ],
 "metadata": {
  "kernelspec": {
   "display_name": "Python 3",
   "language": "python",
   "name": "python3"
  },
  "language_info": {
   "codemirror_mode": {
    "name": "ipython",
    "version": 3
   },
   "file_extension": ".py",
   "mimetype": "text/x-python",
   "name": "python",
   "nbconvert_exporter": "python",
   "pygments_lexer": "ipython3",
   "version": "3.8.7"
  },
  "toc": {
   "base_numbering": 1,
   "nav_menu": {},
   "number_sections": true,
   "sideBar": true,
   "skip_h1_title": false,
   "title_cell": "Table of Contents",
   "title_sidebar": "Contents",
   "toc_cell": false,
   "toc_position": {},
   "toc_section_display": true,
   "toc_window_display": false
  }
 },
 "nbformat": 4,
 "nbformat_minor": 5
}
