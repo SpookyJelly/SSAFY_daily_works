{
 "cells": [
  {
   "cell_type": "markdown",
   "metadata": {},
   "source": [
    "# Practice 2\n",
    "\n",
    "> 자료 구조 "
   ]
  },
  {
   "cell_type": "markdown",
   "metadata": {},
   "source": [
    "## 모든 위치\n",
    "\n",
    "> 주어진 문자열(text)에서 제시된 알파벳(alphabet)의 등장 위치를 리스트로 반환하시오.\n",
    "> 해당 알파벳이 등장하지 않으면, -1을 반환하시오.\n",
    "\n",
    "---\n",
    "\n",
    "예시)\n",
    "\n",
    "```python\n",
    "print(my_find('apple', 'p')) # [1, 2]\n",
    "print(my_find('a', 'p'))     # -1\n",
    "```\n"
   ]
  },
  {
   "cell_type": "code",
   "execution_count": 14,
   "metadata": {},
   "outputs": [
    {
     "name": "stdout",
     "output_type": "stream",
     "text": [
      "==================================================\n"
     ]
    }
   ],
   "source": [
    "# 접근방법\n",
    "# 0. str이 시퀀스형 자료형이니까, 변환은 딱히 필요없을듯. \n",
    "# 1. .index() 이용해서 text에서의 alphabet 위치를 찾은 후 그것을 리스트로 return\n",
    "# 1.1 근데 index()는 처음으로 등장한 친구만 반환하고 끝. 이게 반복되어야한다.\n",
    "# 1.2 index를 반복해봤자 같은 값만 나올듯. 그냥 다른 방법을 구해보자\n",
    "# 2. 만약 alphabet이 없으면 -1 return --> in 연산자를 이용해서 if 문으로 거르자\n",
    "# 3. return 리스트\n",
    "\n",
    "def my_find(text, alphabet):\n",
    "    return_list = []\n",
    "    for idx in range(len(text)): # 인덱스로 접근\n",
    "        if alphabet not in text: # 1\n",
    "            return -1 \n",
    "        \n",
    "        if text[idx] == alphabet: # 2\n",
    "            return_list.append(idx)\n",
    "        \n",
    "    return return_list\n",
    "'''\n",
    "\n",
    " if문 2개랑 \n",
    " if -elif 차이\n",
    " \n",
    " if문 2개인 경우)\n",
    " # 1 의 True/False 여부와 관계없이 순서대로 #2도 실행이 됨\n",
    " \n",
    " if - elif 인 경우)\n",
    " \n",
    " # 1이 True 이면, #1만 실행이 되고, #2는 실행이 안됨\n",
    " \n",
    " \n",
    " 이번 case에서는 if 문이 2개이지만, 처음 등장하는 if가 return문이 있기에,\n",
    " #1이 True면 바로 종료된다. 유사 if-elif 구조라고 할 수 있음.\n",
    " \n",
    " 그래서 #2도 elif로 바꿔도 상관은 없다.\n",
    " \n",
    " '''\n",
    "print('=' * 50)"
   ]
  },
  {
   "cell_type": "code",
   "execution_count": 13,
   "metadata": {},
   "outputs": [
    {
     "name": "stdout",
     "output_type": "stream",
     "text": [
      "[1, 2]\n",
      "-1\n"
     ]
    }
   ],
   "source": [
    "# 해당 코드를 통해 올바른 결과가 나오는지 확인하시오.\n",
    "print(my_find('apple', 'p'))\n",
    "print(my_find('a', 'p'))"
   ]
  },
  {
   "cell_type": "markdown",
   "metadata": {},
   "source": [
    "## 출석 체크\n",
    "\n",
    "> 주어진 학생 n과 출석한 학생명부 students 문자열이 있다. 결석한 학생들로 구성된 문자열을 반환하시오.\n",
    ">\n",
    "> n이 7일 때, 1 2 3 4 5 6 7의 출석 번호가 부여되고,\n",
    ">\n",
    "> '1 3 5'는 출석한 학생 명부이다. \n",
    ">\n",
    "> 즉, 결석한 학생 명부 '2 4 6 7'을 return 해야 한다.\n",
    "\n",
    "---\n",
    "\n",
    "예시)\n",
    "\n",
    "```python\n",
    "print(check(7, '1 3 5')) # 2 4 6 7\n",
    "```\n"
   ]
  },
  {
   "cell_type": "code",
   "execution_count": 5,
   "metadata": {},
   "outputs": [],
   "source": [
    "# 접근방법\n",
    "# 0. pop 쓰면 되겠다는 생각을 한다.\n",
    "# 0.1 pop(n)은 n번째에 있는 리터럴을 빼는것이기에, 리터럴 자체에 접근할 방법도 강구 필요\n",
    "# 1. n으로 list를 만들고, students도 시퀀스형 자료로 만든다.\n",
    "# 2, for문으로 반복문 돌림.\n",
    "# 3. pop(students) 시행\n",
    "# 3.1 pop말고 replace 다시 해보자 --> replace는 문자열 메소드라서 또 안되네\n",
    "# 4. return n\n",
    "\n",
    "#** 그냥 집합으로 바꾼 뒤 차집합 이용해도 괜찮을거 같은데, 번거롭다.\n",
    "\n",
    "# index()로 students 위치 받은 다음 그걸 pop? *** 채택 ***\n",
    "\n",
    "def check(n, students):\n",
    "    n = list(range(1,n+1)) # n =>[1~7]\n",
    "    students = students.replace(' ','') # students => '135'\n",
    "    for i in students: # i --> 1, 3 ,5 (str)\n",
    "        \n",
    "        # index 메소드를 이용해서 n에 있는 i의 위치를 반환 받는다\n",
    "        cola = n.index(int(i)) # cola = 1, 3, 5 (int)\n",
    "        \n",
    "        # 그리고 pop 메소드로 i의 위치에 있는 값을(당연히 i 겠지) 뽑아낸다.\n",
    "        # n이 정렬되어있는 리스트인것을 알았기에 이와 같이 쓸 수 있었던 것.\n",
    "        # **pop(x)는 리스트의 x번째 요소를 돌려주고 그 요소를 삭제한다\n",
    "        # 여기서는 pop() 메소드로 돌려주는 값을 어디에도 저장하지 않았으므로\n",
    "        # n만 바뀌게 되는 것이다.\n",
    "        \n",
    "        n.pop(cola)\n",
    "        \n",
    "        # n = [2,3,4,5,6,7] // i = 1\n",
    "        # n = [2,4,5,6,7,] // i = 3\n",
    "        # n = [2,4,6,7] // i = 5\n",
    "        \n",
    "    # 위 과정을 반복하면, n에 있는 students는 모두 제거 된다.\n",
    "    list_n = list(map(str,n))\n",
    "    \n",
    "    # 출력형식 맞게 return\n",
    "    return ' '.join(list_n)\n",
    "        "
   ]
  },
  {
   "cell_type": "code",
   "execution_count": 16,
   "metadata": {
    "ExecuteTime": {
     "end_time": "2020-07-22T07:58:30.841852Z",
     "start_time": "2020-07-22T07:58:30.838924Z"
    }
   },
   "outputs": [],
   "source": [
    "# 교수님 풀이\n",
    "\n",
    "def check (n,students):\n",
    "    # '1,3,5' => [1,3,5]\n",
    "    \n",
    "    # 1) '1 3 5' => ['1','3','5'] == spilt()\n",
    "    # 2) ['1','3','5'] => [1,3,5] == map()\n",
    "    \n",
    "    # 출석부 : 1,2,3,4,5,6,7\n",
    "    # 1) 출석부에서 한 명씩 부른다. => 반복문\n",
    "    # 2) 부른 사람이 대답하지 않는다. => 결석 리스트에 추가.\n",
    "    # 3) 리스트에 담긴 값을 문자열로 바꿔서 출력하면 끝\n",
    "    \n",
    "    students = list(map(int,students.split()))\n",
    "    result = []\n",
    "    \n",
    "    for number in range(1,n+1):\n",
    "        if number not in students:\n",
    "            result.append(number)\n",
    "    \n",
    "    # [2,4,6,7] => '2 4 6 7'\n",
    "    # 1) [2,4,6,7] => ['2','4','6','7'] == map()\n",
    "    # 2) ['2','4','6','7'] => '2 4 6 7' == join()\n",
    "    \n",
    "    result = list(map(str,result))\n",
    "    result =' '.join(result)\n",
    "    \n",
    "    return result"
   ]
  },
  {
   "cell_type": "code",
   "execution_count": null,
   "metadata": {},
   "outputs": [],
   "source": []
  }
 ],
 "metadata": {
  "kernelspec": {
   "display_name": "Python 3",
   "language": "python",
   "name": "python3"
  },
  "toc": {
   "base_numbering": 1,
   "nav_menu": {},
   "number_sections": true,
   "sideBar": true,
   "skip_h1_title": false,
   "title_cell": "Table of Contents",
   "title_sidebar": "Contents",
   "toc_cell": false,
   "toc_position": {},
   "toc_section_display": true,
   "toc_window_display": false
  }
 },
 "nbformat": 4,
 "nbformat_minor": 4
}
