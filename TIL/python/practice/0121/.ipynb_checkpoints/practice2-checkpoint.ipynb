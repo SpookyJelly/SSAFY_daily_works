{
 "cells": [
  {
   "cell_type": "markdown",
   "metadata": {},
   "source": [
    "# Practice 2\n",
    "\n",
    "> 함수"
   ]
  },
  {
   "cell_type": "markdown",
   "metadata": {},
   "source": [
    "## 불쌍한 달팽이\n",
    "\n",
    "> 달팽이는 낮 시간 동안에 기둥을 올라간다. 하지만 밤에는 잠을 자면서 어느 정도의 거리만큼 미끄러진다. (낮 시간 동안 올라간 거리보다는 적게 미끄러진다.)\n",
    "> \n",
    "> 달팽이가 기둥의 꼭대기에 도달하는 날까지 걸리는 시간을 반환하는 함수 `snail()`을 작성하시오.\n",
    "\n",
    "> 함수의 인자는 다음과 같다.\n",
    "1. 기둥의 높이(미터)\n",
    "2. 낮 시간 동안 달팽이가 올라가는 거리(미터)\n",
    "3. 달팽이가 야간에 잠을 자는 동안 미끄러지는 거리(미터)\n",
    "\n",
    "---\n",
    "\n",
    "예시)\n",
    "\n",
    "```python\n",
    "snail(100, 5, 2) #=> 33\n",
    "```"
   ]
  },
  {
   "cell_type": "code",
   "execution_count": 3,
   "metadata": {},
   "outputs": [],
   "source": [
    "# 접근법 .\n",
    "# 1. While로 접근한다. 루프 한번 돌때마다 day를 height에 뺀다 \n",
    "# 1.5  이렇게 되었을때, height가 음수면 break 하고 총 일 수 반환(total_day)\n",
    "# 2. 그래도 height가 양수이면, night를 height에 더해준다\n",
    "def snail(height, day, night):\n",
    "    total_day = 1 #1일차부터 시작이니까\n",
    "    while(True):\n",
    "        height -= day\n",
    "        if height <= 0:\n",
    "            return total_day\n",
    "        else:\n",
    "            height += night\n",
    "            total_day += 1\n",
    "\n",
    "# 32일차 --> 96m\n",
    "# 33일차 --> 101m"
   ]
  },
  {
   "cell_type": "code",
   "execution_count": 4,
   "metadata": {},
   "outputs": [
    {
     "name": "stdout",
     "output_type": "stream",
     "text": [
      "33\n"
     ]
    }
   ],
   "source": [
    "# 해당 코드를 통해 올바른 결과가 나오는지 확인하시오.\n",
    "print(snail(100, 5, 2))"
   ]
  },
  {
   "cell_type": "markdown",
   "metadata": {},
   "source": [
    "## 자릿수 더하기 (SWEA #2058)\n",
    "\n",
    "> 자연수 number를 입력 받아, 각 자릿수의 합을 계산하여 출력하시오.\n",
    "\n",
    "---\n",
    "\n",
    "예시)\n",
    "\n",
    "```python\n",
    "sum_of_digit(1234) #=> 10\n",
    "sum_of_digit(4321) #=> 10\n",
    "```"
   ]
  },
  {
   "cell_type": "code",
   "execution_count": 8,
   "metadata": {},
   "outputs": [],
   "source": [
    "# 접근 방법 2가지가 있음\n",
    "#1) 리스트로 바꿔서 자리수 분리 후, 정수형 전환해서 더하기\n",
    "#2) 과거에 했던 %10 패키지로 분리 해서 더하기\n",
    "# --> 둘 다 해보지 뭐\n",
    "\n",
    "#1) 리스트 전환 방법\n",
    "def sum_of_digit(number):\n",
    "    number = list(str(number))# 리스트로 바꾸려면 iterable한 타입인 string으로 변환해야함\n",
    "    #['1','2','3','4']\n",
    "    number_int = list(map(int,number))\n",
    "    #[1,2,3,4]\n",
    "    return sum(number_int)"
   ]
  },
  {
   "cell_type": "code",
   "execution_count": 9,
   "metadata": {},
   "outputs": [
    {
     "name": "stdout",
     "output_type": "stream",
     "text": [
      "10\n",
      "10\n"
     ]
    }
   ],
   "source": [
    "# 해당 코드를 통해 올바른 결과가 나오는지 확인하시오.\n",
    "print(sum_of_digit(1234))\n",
    "print(sum_of_digit(4321))"
   ]
  },
  {
   "cell_type": "code",
   "execution_count": 26,
   "metadata": {},
   "outputs": [],
   "source": [
    "# 2) %10 패키지로 분리 후 더하기\n",
    "def sum_of_digit2(number):\n",
    "    total = 0 # 자리수 받아줄 친구\n",
    "    for idx in range(len(str(number))):\n",
    "\n",
    "# str() 사용안하고 number가 몇자리수 인지 깔끔하게 나타날수 있는 방법은 없나?\n",
    "# 다른 Iterable 객체를 사용하면 되겠는데, 여기 구문에서 Iterable 객체 사용은 필연적이다.\n",
    "# 왜냐하면 range(len())을 사용해서 number의 자리수 만큼의 range를 생성하려고 하는데,\n",
    "# len()을 사용하려면 값을 차례로 꺼낼 수 있는 Iterator가 필요하다.\n",
    "# 그러기 위해서는 Iterable 외에는 답이 없다.\n",
    "# 1234 -->  for idx in [0,1,2,3]\n",
    "\n",
    "#** int 타입은 len() 함수를 가지고 있지 않음을 주의**\n",
    "\n",
    "        total+=(number//10**idx)%10\n",
    "            '''\n",
    "            1234//1000%10 --> 1\n",
    "            1234//100%10  --> 2\n",
    "            1234//10%10   --> 3\n",
    "            1234//1%10    --> 4\n",
    "            \n",
    "            # 해당 아이디어에서 착안, // 부분만 10의 제곱꼴로 바뀐다. \n",
    "            for 문을 이용하여 해당 부분만 조작해줬다.\n",
    "            '''\n",
    "    \n",
    "    \n",
    "    return total"
   ]
  },
  {
   "cell_type": "code",
   "execution_count": 27,
   "metadata": {},
   "outputs": [
    {
     "name": "stdout",
     "output_type": "stream",
     "text": [
      "10\n",
      "10\n"
     ]
    }
   ],
   "source": [
    "# 해당 코드를 통해 올바른 결과가 나오는지 확인하시오.\n",
    "print(sum_of_digit2(1234))\n",
    "print(sum_of_digit2(4321))"
   ]
  },
  {
   "cell_type": "code",
   "execution_count": 62,
   "metadata": {},
   "outputs": [],
   "source": [
    "# 3. 재귀로 풀어볼까요?\n",
    "# 정수 리스트로 만든 다음에, 재귀로 호출 하나씩 더해가기???\n",
    "def sum_of_digit3(number):\n",
    "    n_list_int = list(map(int,str(number)))\n",
    "    num = len(str(number))\n",
    "    if num == 1:\n",
    "        return n_list_int[-1]\n",
    "    else :\n",
    "        return n_list_int[num-1]+sum_of_digit3(num-1)"
   ]
  },
  {
   "cell_type": "code",
   "execution_count": 63,
   "metadata": {},
   "outputs": [
    {
     "name": "stdout",
     "output_type": "stream",
     "text": [
      "[1, 2, 3, 4] 4\n",
      "7\n",
      "[4, 3, 2, 1] 4\n",
      "4\n"
     ]
    }
   ],
   "source": [
    "print(sum_of_digit3(1234))\n",
    "print(sum_of_digit3(4321))"
   ]
  },
  {
   "cell_type": "code",
   "execution_count": 64,
   "metadata": {},
   "outputs": [],
   "source": [
    "# 4. 재귀함수 풀이 1\n",
    "def sum_of_digit4(number):\n",
    "    q, r = divmod(number, 10) # 나눴을때의 몫과 나머지를 튜플꼴로 반환하는 함수\n",
    "    if q == 0:\n",
    "        return r\n",
    "\n",
    "    return r + sum_of_digit(q)"
   ]
  },
  {
   "cell_type": "code",
   "execution_count": 65,
   "metadata": {},
   "outputs": [
    {
     "name": "stdout",
     "output_type": "stream",
     "text": [
      "10\n",
      "10\n"
     ]
    }
   ],
   "source": [
    "print(sum_of_digit4(1234))\n",
    "print(sum_of_digit4(4321))"
   ]
  },
  {
   "cell_type": "code",
   "execution_count": null,
   "metadata": {},
   "outputs": [],
   "source": []
  }
 ],
 "metadata": {
  "kernelspec": {
   "display_name": "Python 3",
   "language": "python",
   "name": "python3"
  },
  "language_info": {
   "codemirror_mode": {
    "name": "ipython",
    "version": 3
   },
   "file_extension": ".py",
   "mimetype": "text/x-python",
   "name": "python",
   "nbconvert_exporter": "python",
   "pygments_lexer": "ipython3",
   "version": "3.8.7"
  },
  "toc": {
   "base_numbering": 1,
   "nav_menu": {},
   "number_sections": true,
   "sideBar": true,
   "skip_h1_title": false,
   "title_cell": "Table of Contents",
   "title_sidebar": "Contents",
   "toc_cell": false,
   "toc_position": {},
   "toc_section_display": true,
   "toc_window_display": false
  }
 },
 "nbformat": 4,
 "nbformat_minor": 4
}
