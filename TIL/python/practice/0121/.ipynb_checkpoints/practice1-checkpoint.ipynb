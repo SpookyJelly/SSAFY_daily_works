{
 "cells": [
  {
   "cell_type": "markdown",
   "metadata": {},
   "source": [
    "# Practice 1\n",
    "\n",
    "> 함수"
   ]
  },
  {
   "cell_type": "markdown",
   "metadata": {},
   "source": [
    "## `abs()` 직접 구현하기\n",
    "\n",
    "> 절댓값은 숫자형 자료(int, float)가 들어오면 절댓값을 반환하고, 복소수형 자료(complex)가 들어오면 해당하는 자료의 크기를 반환합니다. \n",
    "> \n",
    "> 파이썬 내장 함수 `abs()`를 직접 구현한 `my_abs()`를 작성하시오.\n",
    "\n",
    "---\n",
    "\n",
    "**공식문서**\n",
    "<center>\n",
    "    <img src=\"https://user-images.githubusercontent.com/52446416/61273106-b6ee5c00-a7e3-11e9-8ec2-a086b0bc584f.png\", alt=\"\">\n",
    "</center>\n",
    "\n",
    "**복소수 크기 구하는법**\n",
    "<center>\n",
    "    <img src=\"https://user-images.githubusercontent.com/52446416/61273105-b655c580-a7e3-11e9-9859-0a9ffdecdf7d.png\", alt=\"\">\n",
    "</center>\n",
    "\n",
    "예시)\n",
    "\n",
    "```python\n",
    "my_abs(3+4j) #=> 5.0\n",
    "my_abs(-0.0) #=> 0.0\n",
    "my_abs(-5) #=> 5\n",
    "```"
   ]
  },
  {
   "cell_type": "code",
   "execution_count": 142,
   "metadata": {},
   "outputs": [
    {
     "name": "stdout",
     "output_type": "stream",
     "text": [
      "==================================================\n"
     ]
    }
   ],
   "source": [
    "# 아래에 코드를 작성하시오.\n",
    "\n",
    "# 1. x의 타입을 구별하는것 (실수 / 복소수)\n",
    "# 1-1 x가 복소수면 -> 복소수 크기 구하는 식 이용해서 return\n",
    "# 1-2 x가 실수면\n",
    "# 1-2-1 x가 양수인 경우 --> 그냥 return\n",
    "# 1-2-2 x가 음수인 경우 --> - 붙여서 return\n",
    "\n",
    "\n",
    "def my_abs(x): \n",
    "    if type(x) == complex: # (1)\n",
    "        return ((x.real)**2 + (x.imag)**2) ** 0.5\n",
    "    else : #(2)\n",
    "        if x > 0 :\n",
    "            return x\n",
    "        elif x == 0: # 굳이 나눠 주는 이유?? x가 -0.0 처럼 요상하게 주어질수도 있어서.\n",
    "            return x**2\n",
    "        else :\n",
    "            return -x\n",
    "\n",
    "    pass\n",
    "\n",
    "'''\n",
    "만약에 (1)을 if type(x) == 'complex'로 작성한다면,\n",
    "x 가 복소수라도 인지를 못한다.(type(x)의 결과가 string 'complex'인가? 를 묻는 말이 되어서)\n",
    "이후 2번으로 이동하는데, 부등호 연산자는, '복소수'와 '정수'간의 비교를 허용하지 않는다.\n",
    "'>=' not supported between instances of 'complex' and 'int' \n",
    "그래서 에러가 발생 한 것이다. 따라서 처음 if 조건문에서 x의 타입을 제대로 분리하는 것이 중요하다.\n",
    "\n",
    "--> 근데 의문인게, type(3+4j)를 해도 complex로 나오는데? 이거 뭐지?\n",
    "--> 아, type(type(3+4j))를 하면 complex가 아닌 type으로 나온다.\n",
    "--> 그러면 출력되는 complex라는 문자도 string 타입이 아닌 type 타입이라고 생각한다.\n",
    "--> 이거 맞는지 교수님께 한번 확인해보자\n",
    "'''\n",
    "print('='*50)"
   ]
  },
  {
   "cell_type": "code",
   "execution_count": 143,
   "metadata": {},
   "outputs": [
    {
     "data": {
      "text/plain": [
       "type"
      ]
     },
     "execution_count": 143,
     "metadata": {},
     "output_type": "execute_result"
    }
   ],
   "source": [
    "a = 3+4j\n",
    "type(type(a))"
   ]
  },
  {
   "cell_type": "code",
   "execution_count": 144,
   "metadata": {},
   "outputs": [
    {
     "name": "stdout",
     "output_type": "stream",
     "text": [
      "5.0\n",
      "0.0\n",
      "5\n",
      "5.0 0.0 5\n"
     ]
    }
   ],
   "source": [
    "# 아래의 코드를 실행하여 출력된 결과를 확인하시오.\n",
    "\n",
    "print(my_abs(3+4j))\n",
    "print(my_abs(-0.0))\n",
    "print(my_abs(-5))\n",
    "print(abs(3+4j), abs(-0.0), abs(-5))"
   ]
  },
  {
   "cell_type": "markdown",
   "metadata": {},
   "source": [
    "## `all()` 직접 구현하기\n",
    "\n",
    "> `all()`은 인자로 받는 iterable(range, list)의 모든 요소가 참이거나 비어있으면 True를 반환합니다. \n",
    ">\n",
    "> 파이썬 내장 함수 `all()`을 직접 구현한 `my_all()`을 작성하시오.\n",
    "\n",
    "\n",
    "예시)\n",
    "\n",
    "```python\n",
    "my_all([]) #=> True\n",
    "my_all([1, 2, 5, '6']) #=> True\n",
    "my_all([[], 2, 5, '6']) #=> False\n",
    "```"
   ]
  },
  {
   "cell_type": "code",
   "execution_count": 109,
   "metadata": {},
   "outputs": [],
   "source": [
    "'''\n",
    "핵심 - return 활용\n",
    "     - bool()\n",
    "'''\n",
    "# 하나씩 비교하면서, 모든 요소가 참이거나, 전부 비어있으면 결과가 참!\n",
    "# 먼저 모든 요소를 순회하면서 (반복문)\n",
    "# 각 요소가 참이 아니면 (조건문) ==> False\n",
    "# 초기값을 True로 설정!\n",
    "'''\n",
    "        # 해당 값이 참인지 거짓인지 알기 위해서는 아래와 같이 생각할 수 있는데,\n",
    "        # if bool(element) == False:\n",
    "        # 거짓인지 확인하는 것은 not True를 확인하는 것.\n",
    "        # if not bool(element):\n",
    "        # 그런데, if 문에서는 자동 형변환이 발생한다(중요!)\n",
    "        # 따라서 아래와 같이 작성 가능하다.\n",
    "\n",
    "'''\n",
    "\n",
    "\n",
    "\n",
    "def my_all(elements): # ex) [] \n",
    "    for context in elements: # elements 는 [] 인데, context로 쓸 요소? 리터럴? 이 없다.\n",
    "        \n",
    "        # 하나의 요소라도 거짓이면 전체가 거짓이기에,\n",
    "        # 리턴과 동시에 함수 종료!\n",
    "        \n",
    "        if not context: # 그래서 여기 생략\n",
    "            return False\n",
    "    \n",
    "    return True # 바로 여기로 와서 True 반환"
   ]
  },
  {
   "cell_type": "code",
   "execution_count": null,
   "metadata": {},
   "outputs": [],
   "source": [
    "def my_all(elements): # ex) [1,2,5,'6']\n",
    "    for context in elements: # elements == [1,2,5'6]\n",
    "        if not context: # context == 1,2,5,'6' --> 전부 True인 값.\n",
    "                        # not에 의해서 False가 됨\n",
    "                        # if False 구문이 되어\n",
    "            return False # 여기를 실행하지 않는다.\n",
    "    return True # for문 다 루프 한 다음 최종적으로 여기에 도달."
   ]
  },
  {
   "cell_type": "code",
   "execution_count": null,
   "metadata": {},
   "outputs": [],
   "source": [
    "def my_all(elements): # ex) [[],2,5,'6']\n",
    "    for context in elements: #elements == [[],2,5,'6']\n",
    "        if not context: # context 1번 타자로 []가 들어간다.\n",
    "                        # [] == False 이다. --> if not False --> if True 구문으로 된다\n",
    "            return False #if True 이므로 False를 return 하게 된다.\n",
    "    return True "
   ]
  },
  {
   "cell_type": "code",
   "execution_count": null,
   "metadata": {},
   "outputs": [],
   "source": [
    "def my_all(elements): # ex) [[],[]]\n",
    "    for context in elements: #elements == [[],[]]\n",
    "        if not context: #각 context == [],[]\n",
    "                        # elements == [[]] 이였던, 처음 문제와는 다르게, 이번에는\n",
    "                        # elements에서 [] 이라는 context를 뽑아 낼수 있다.\n",
    "                        # [] == False --> if not False --> if True\n",
    "            return False \n",
    "    return True "
   ]
  },
  {
   "cell_type": "code",
   "execution_count": 129,
   "metadata": {},
   "outputs": [
    {
     "name": "stdout",
     "output_type": "stream",
     "text": [
      "True\n",
      "True\n",
      "False\n",
      "False\n",
      "==================================================\n",
      "True\n",
      "True\n",
      "False\n",
      "False\n"
     ]
    }
   ],
   "source": [
    "# 아래의 코드를 실행하여 출력된 결과를 확인하시오.\n",
    "\n",
    "print(my_all([]))\n",
    "print(my_all([1, 2, 5, '6']))\n",
    "print(my_all([[], 2, 5, '6']))\n",
    "print(my_all([[],[]]))\n",
    "print('=' * 50)\n",
    "print(all([]))\n",
    "print(all([1, 2, 5, '6']))\n",
    "print(all([[], 2, 5, '6']))\n",
    "print(all([[],[]]))"
   ]
  },
  {
   "cell_type": "markdown",
   "metadata": {},
   "source": [
    "## `any()` 직접 구현하기\n",
    "\n",
    "> `any()`는 인자로 받는 iterable(range, list)의 요소 중 하나라도 참이면 True를 반환하고, 비어있으면 False를 반환합니다. \n",
    "> \n",
    "> 파이썬 내장 함수 `any()`을 직접 구현한 `my_any()` 함수를 작성하시오.\n",
    "\n",
    "예시)\n",
    "\n",
    "```python\n",
    "my_any([1, 2, 5, '6']) #=> True\n",
    "my_any([[], 2, 5, '6']) #=> True\n",
    "my_any([0]) #=> False\n",
    "```"
   ]
  },
  {
   "cell_type": "code",
   "execution_count": null,
   "metadata": {},
   "outputs": [],
   "source": [
    "'''all()은 인자로 받는 \n",
    "iterable(range, list)의 \n",
    "모든 요소가 참이거나 비어있으면 True를 반환합니다.'''"
   ]
  },
  {
   "cell_type": "code",
   "execution_count": 116,
   "metadata": {},
   "outputs": [],
   "source": [
    "# 아래에 코드를 작성하시오.\n",
    "# 1. 각 리스트의 리터럴 접근\n",
    "# 2. 참 거짓 판별\n",
    "# 3 .하나라도 참이면 True --> if context : return True 하면 되겠네.\n",
    "# 4. 싹다 거짓이거나, 비어있으면 False --> for문에 못들어간 친구들 대상으로 return False\n",
    "# ** any와 반대로 하면 될거 같은데\n",
    "def my_any(elements):\n",
    "    for context in elements:\n",
    "        if context: # 여기는 context == True인 애들이 들어오는 곳\n",
    "            return True\n",
    "    return False # 비어 있는 친구들 --> context를 반환하지 못하는 친구들은\n",
    "                  #for문에 못들어가니까\n",
    "                  #바로 False가 된다."
   ]
  },
  {
   "cell_type": "code",
   "execution_count": 127,
   "metadata": {},
   "outputs": [
    {
     "name": "stdout",
     "output_type": "stream",
     "text": [
      "True\n",
      "True\n",
      "False\n",
      "==================================================\n",
      "True\n",
      "True\n",
      "False\n"
     ]
    }
   ],
   "source": [
    "print(my_any([1, 2, 5, '6']))\n",
    "print(my_any([[], 2, 5, '6']))\n",
    "print(my_any([0]))\n",
    "print('='*50)\n",
    "print(any([1, 2, 5, '6']))\n",
    "print(any([[], 2, 5, '6']))\n",
    "print(any([0]))"
   ]
  },
  {
   "cell_type": "code",
   "execution_count": 146,
   "metadata": {},
   "outputs": [
    {
     "data": {
      "text/plain": [
       "False"
      ]
     },
     "execution_count": 146,
     "metadata": {},
     "output_type": "execute_result"
    }
   ],
   "source": [
    "[] == False #이건 왜 거짓?\n",
    "\n",
    "# 형 변환을 해야지 [] 가 False가 된다.\n",
    "# '' , {} 도 동일하다\n",
    "\n",
    "empty = []\n",
    "\n",
    "# not recommended\n",
    "if bool(empty) == False:\n",
    "    pass\n",
    "\n",
    "# recommended\n",
    "if not empty:\n",
    "    pass"
   ]
  },
  {
   "cell_type": "code",
   "execution_count": null,
   "metadata": {},
   "outputs": [],
   "source": [
    "# 파이썬에서 bool()로 형변환 했을 때 True 인것들\n",
    "# False가 아닌 것들 전부 다!\n",
    "\n",
    "# 파이썬에서 bool()로 형변환\n",
    "# 0, [],{},''\n"
   ]
  },
  {
   "cell_type": "code",
   "execution_count": 150,
   "metadata": {},
   "outputs": [
    {
     "data": {
      "text/plain": [
       "False"
      ]
     },
     "execution_count": 150,
     "metadata": {},
     "output_type": "execute_result"
    }
   ],
   "source": [
    "'' == False"
   ]
  },
  {
   "cell_type": "code",
   "execution_count": null,
   "metadata": {},
   "outputs": [],
   "source": []
  }
 ],
 "metadata": {
  "kernelspec": {
   "display_name": "Python 3",
   "language": "python",
   "name": "python3"
  },
  "language_info": {
   "codemirror_mode": {
    "name": "ipython",
    "version": 3
   },
   "file_extension": ".py",
   "mimetype": "text/x-python",
   "name": "python",
   "nbconvert_exporter": "python",
   "pygments_lexer": "ipython3",
   "version": "3.8.7"
  },
  "toc": {
   "base_numbering": 1,
   "nav_menu": {},
   "number_sections": true,
   "sideBar": true,
   "skip_h1_title": false,
   "title_cell": "Table of Contents",
   "title_sidebar": "Contents",
   "toc_cell": false,
   "toc_position": {},
   "toc_section_display": true,
   "toc_window_display": false
  }
 },
 "nbformat": 4,
 "nbformat_minor": 4
}
