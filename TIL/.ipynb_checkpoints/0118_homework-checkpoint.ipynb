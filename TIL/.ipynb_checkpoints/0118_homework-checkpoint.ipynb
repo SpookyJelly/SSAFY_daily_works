{
 "cells": [
  {
   "cell_type": "code",
   "execution_count": 1,
   "id": "satisfied-crystal",
   "metadata": {},
   "outputs": [
    {
     "name": "stdout",
     "output_type": "stream",
     "text": [
      "print, import,False,None,True...\n"
     ]
    }
   ],
   "source": [
    "#1번.\n",
    "\n",
    "'''\n",
    "python에서 사용할 수 없는 식별자(예약어)를 찾아 작성하시요\n",
    "'''\n",
    "\n",
    "print('print, import,False,None,True...')"
   ]
  },
  {
   "cell_type": "code",
   "execution_count": null,
   "id": "thermal-campaign",
   "metadata": {},
   "outputs": [],
   "source": [
    "#2번. 실수 비교\n",
    "\n",
    "'''\n",
    "\n",
    "\n",
    "'''\n",
    "\n",
    "num1 = 0.1 * 3\n",
    "num2 = 0.3\n",
    "\n",
    "# wrong\n",
    "print(num1 == num2)\n",
    "\n",
    "# correct\n",
    "import math\n",
    "print(math.isclose(num1,num2))\n",
    "\n",
    "# correct2\n",
    "if abs(num1-num2) < "
   ]
  }
 ],
 "metadata": {
  "kernelspec": {
   "display_name": "Python 3",
   "language": "python",
   "name": "python3"
  },
  "language_info": {
   "codemirror_mode": {
    "name": "ipython",
    "version": 3
   },
   "file_extension": ".py",
   "mimetype": "text/x-python",
   "name": "python",
   "nbconvert_exporter": "python",
   "pygments_lexer": "ipython3",
   "version": "3.8.7"
  }
 },
 "nbformat": 4,
 "nbformat_minor": 5
}
