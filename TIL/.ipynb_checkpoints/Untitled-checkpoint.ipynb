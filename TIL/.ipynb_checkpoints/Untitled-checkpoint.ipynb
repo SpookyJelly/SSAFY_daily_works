{
 "cells": [
  {
   "cell_type": "code",
   "execution_count": 28,
   "id": "composite-material",
   "metadata": {},
   "outputs": [
    {
     "name": "stdout",
     "output_type": "stream",
     "text": [
      "6791400\n",
      "0 0 0 0 0 6791400\n",
      "0 0 0 0 1 617400\n",
      "0 0 0 1 1 88200\n",
      "0 0 0 2 1 12600\n",
      "0 0 0 3 1 1800\n",
      "0 0 1 3 1 360\n",
      "0 0 2 3 1 72\n",
      "0 1 2 3 1 24\n",
      "0 2 2 3 1 8\n",
      "1 2 2 3 1 4\n",
      "2 2 2 3 1 2\n",
      "3 2 2 3 1 1\n",
      "3 2 2 3 1 1\n"
     ]
    }
   ],
   "source": [
    "N = int(input())\n",
    "a,b,c,d,e = 0,0,0,0,0\n",
    "while (N>=0):\n",
    "    print(a,b,c,d,e,N)\n",
    "    if N == 1:\n",
    "        break\n",
    "    if N%11==0:\n",
    "        N = N//11\n",
    "        e+=1\n",
    "    elif N%7 ==0:\n",
    "        N = N//7\n",
    "        d+=1\n",
    "    elif N%5 ==0:\n",
    "        N = N//5\n",
    "        c+=1\n",
    "    elif N%3 == 0:\n",
    "        N = N//3\n",
    "        b +=1\n",
    "    elif N%2 ==0:\n",
    "        N = N//2\n",
    "        a+=1\n",
    "print(a,b,c,d,e,N)"
   ]
  },
  {
   "cell_type": "code",
   "execution_count": 18,
   "id": "challenging-payroll",
   "metadata": {},
   "outputs": [
    {
     "data": {
      "text/plain": [
       "0"
      ]
     },
     "execution_count": 18,
     "metadata": {},
     "output_type": "execute_result"
    }
   ],
   "source": [
    "1//3"
   ]
  },
  {
   "cell_type": "code",
   "execution_count": 19,
   "id": "sublime-throw",
   "metadata": {},
   "outputs": [
    {
     "data": {
      "text/plain": [
       "0"
      ]
     },
     "execution_count": 19,
     "metadata": {},
     "output_type": "execute_result"
    }
   ],
   "source": [
    "9%3"
   ]
  },
  {
   "cell_type": "code",
   "execution_count": 24,
   "id": "australian-patrick",
   "metadata": {},
   "outputs": [
    {
     "data": {
      "text/plain": [
       "False"
      ]
     },
     "execution_count": 24,
     "metadata": {},
     "output_type": "execute_result"
    }
   ],
   "source": [
    "30 == 1"
   ]
  },
  {
   "cell_type": "code",
   "execution_count": 32,
   "id": "portuguese-shirt",
   "metadata": {},
   "outputs": [
    {
     "name": "stdout",
     "output_type": "stream",
     "text": [
      "2\n",
      "6791400\n",
      "#1 3 2 2 3 1\n",
      "1646400\n",
      "#2 6 1 2 3 0\n"
     ]
    }
   ],
   "source": [
    "T = int(input())\n",
    "for i in range(1,T+1):\n",
    "    N = int(input())\n",
    "    a,b,c,d,e = 0,0,0,0,0\n",
    "    while (N>=0):\n",
    "        if N == 1:\n",
    "            break\n",
    "        if N%11==0:\n",
    "            N = N//11\n",
    "            e+=1\n",
    "        elif N%7 ==0:\n",
    "            N = N//7\n",
    "            d+=1\n",
    "        elif N%5 ==0:\n",
    "            N = N//5\n",
    "            c+=1\n",
    "        elif N%3 == 0:\n",
    "            N = N//3\n",
    "            b +=1\n",
    "        elif N%2 ==0:\n",
    "            N = N//2\n",
    "            a+=1\n",
    "    print(f'#{i} {a} {b} {c} {d} {e}')"
   ]
  },
  {
   "cell_type": "code",
   "execution_count": null,
   "id": "parallel-sessions",
   "metadata": {},
   "outputs": [],
   "source": []
  }
 ],
 "metadata": {
  "kernelspec": {
   "display_name": "Python 3",
   "language": "python",
   "name": "python3"
  },
  "language_info": {
   "codemirror_mode": {
    "name": "ipython",
    "version": 3
   },
   "file_extension": ".py",
   "mimetype": "text/x-python",
   "name": "python",
   "nbconvert_exporter": "python",
   "pygments_lexer": "ipython3",
   "version": "3.8.7"
  },
  "toc": {
   "base_numbering": 1,
   "nav_menu": {},
   "number_sections": true,
   "sideBar": true,
   "skip_h1_title": false,
   "title_cell": "Table of Contents",
   "title_sidebar": "Contents",
   "toc_cell": false,
   "toc_position": {},
   "toc_section_display": true,
   "toc_window_display": false
  }
 },
 "nbformat": 4,
 "nbformat_minor": 5
}
